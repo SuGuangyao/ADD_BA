{
 "cells": [
  {
   "cell_type": "code",
   "execution_count": 1,
   "metadata": {
    "colab": {
     "base_uri": "https://localhost:8080/"
    },
    "executionInfo": {
     "elapsed": 1181,
     "status": "ok",
     "timestamp": 1675054473617,
     "user": {
      "displayName": "Agd Tp",
      "userId": "13309599981929937069"
     },
     "user_tz": -480
    },
    "id": "EDS22-ptsF8E",
    "outputId": "e1bc40e5-971c-4705-f6a1-bcc6c54289cd"
   },
   "outputs": [
    {
     "name": "stdout",
     "output_type": "stream",
     "text": [
      "Wed Feb  8 22:01:30 2023       \n",
      "+-----------------------------------------------------------------------------+\n",
      "| NVIDIA-SMI 515.76       Driver Version: 515.76       CUDA Version: 11.7     |\n",
      "|-------------------------------+----------------------+----------------------+\n",
      "| GPU  Name        Persistence-M| Bus-Id        Disp.A | Volatile Uncorr. ECC |\n",
      "| Fan  Temp  Perf  Pwr:Usage/Cap|         Memory-Usage | GPU-Util  Compute M. |\n",
      "|                               |                      |               MIG M. |\n",
      "|===============================+======================+======================|\n",
      "|   0  NVIDIA GeForce ...  On   | 00000000:40:00.0 Off |                  N/A |\n",
      "|  0%   27C    P8    21W / 350W |      0MiB / 24576MiB |      0%      Default |\n",
      "|                               |                      |                  N/A |\n",
      "+-------------------------------+----------------------+----------------------+\n",
      "                                                                               \n",
      "+-----------------------------------------------------------------------------+\n",
      "| Processes:                                                                  |\n",
      "|  GPU   GI   CI        PID   Type   Process name                  GPU Memory |\n",
      "|        ID   ID                                                   Usage      |\n",
      "|=============================================================================|\n",
      "|  No running processes found                                                 |\n",
      "+-----------------------------------------------------------------------------+\n"
     ]
    }
   ],
   "source": [
    "!nvidia-smi"
   ]
  },
  {
   "cell_type": "code",
   "execution_count": 5,
   "metadata": {},
   "outputs": [
    {
     "name": "stdout",
     "output_type": "stream",
     "text": [
      "Looking in indexes: https://repo.huaweicloud.com/repository/pypi/simple\n",
      "Requirement already satisfied: joblib in ./miniconda3/lib/python3.8/site-packages (1.1.0)\n",
      "\u001b[33mWARNING: Running pip as the 'root' user can result in broken permissions and conflicting behaviour with the system package manager. It is recommended to use a virtual environment instead: https://pip.pypa.io/warnings/venv\u001b[0m\n",
      "Looking in indexes: https://repo.huaweicloud.com/repository/pypi/simple\n",
      "Collecting scikit_learn\n",
      "  Downloading https://repo.huaweicloud.com/repository/pypi/packages/f0/95/0ea0a2412e33080a47ec02802210c008a7a540471581c95145f030d304b4/scikit_learn-1.2.1-cp38-cp38-manylinux_2_17_x86_64.manylinux2014_x86_64.whl (9.8 MB)\n",
      "\u001b[K     |████████████████████████████████| 9.8 MB 20.1 MB/s eta 0:00:01\n",
      "\u001b[?25hCollecting threadpoolctl>=2.0.0\n",
      "  Downloading https://repo.huaweicloud.com/repository/pypi/packages/61/cf/6e354304bcb9c6413c4e02a747b600061c21d38ba51e7e544ac7bc66aecc/threadpoolctl-3.1.0-py3-none-any.whl (14 kB)\n",
      "Requirement already satisfied: numpy>=1.17.3 in ./miniconda3/lib/python3.8/site-packages (from scikit_learn) (1.21.4)\n",
      "Collecting scikit_learn\n",
      "  Downloading https://repo.huaweicloud.com/repository/pypi/packages/92/03/02d3123d9462c6325e67731e7582f96904f514ede5b0666524c1bc25c053/scikit_learn-1.2.0-cp38-cp38-manylinux_2_17_x86_64.manylinux2014_x86_64.whl (9.7 MB)\n",
      "\u001b[K     |████████████████████████████████| 9.7 MB 86.5 MB/s eta 0:00:01\n",
      "\u001b[?25h  Downloading https://repo.huaweicloud.com/repository/pypi/packages/f9/90/b76a42bb6e97d3296787c8926e7610b0485918a2efa219a9614eb1a068b2/scikit_learn-1.1.3-cp38-cp38-manylinux_2_17_x86_64.manylinux2014_x86_64.whl (31.2 MB)\n",
      "\u001b[K     |████████████████████████████████| 31.2 MB 755 kB/s eta 0:00:0111\n",
      "\u001b[?25hCollecting scipy>=1.3.2\n",
      "  Downloading https://repo.huaweicloud.com/repository/pypi/packages/56/af/6a2b90fe280e89466d84747054667f74b84a8304f75931a173090919991f/scipy-1.9.3-cp38-cp38-manylinux_2_17_x86_64.manylinux2014_x86_64.whl (33.8 MB)\n",
      "\u001b[K     |████████████████████████████████| 33.8 MB 1.0 MB/s  eta 0:00:01\n",
      "\u001b[?25hRequirement already satisfied: joblib>=1.0.0 in ./miniconda3/lib/python3.8/site-packages (from scikit_learn) (1.1.0)\n",
      "Installing collected packages: threadpoolctl, scipy, scikit-learn\n",
      "Successfully installed scikit-learn-1.1.3 scipy-1.9.3 threadpoolctl-3.1.0\n",
      "\u001b[33mWARNING: Running pip as the 'root' user can result in broken permissions and conflicting behaviour with the system package manager. It is recommended to use a virtual environment instead: https://pip.pypa.io/warnings/venv\u001b[0m\n"
     ]
    }
   ],
   "source": [
    "!pip install joblib\n",
    "!pip install scikit_learn"
   ]
  },
  {
   "cell_type": "code",
   "execution_count": null,
   "metadata": {
    "executionInfo": {
     "elapsed": 3660,
     "status": "ok",
     "timestamp": 1675054477276,
     "user": {
      "displayName": "Agd Tp",
      "userId": "13309599981929937069"
     },
     "user_tz": -480
    },
    "id": "HUYwZwirAAgF"
   },
   "outputs": [],
   "source": [
    "from torch.utils.data import Dataset\n",
    "import numpy as np\n",
    "import joblib\n",
    "from sklearn.preprocessing import MinMaxScaler\n",
    "import torch\n",
    "\n",
    "\n",
    "class PRAS_Dataset(Dataset):\n",
    "\n",
    "    def __init__(self,\n",
    "                 input_len: int = 64,\n",
    "                 output_len: int = 1,\n",
    "                 train: bool = True,\n",
    "                 transformer: bool = False,\n",
    "                 train_test_split_ratio: float = 0.8,\n",
    "                 file_path: str = '/root/power1.array'):\n",
    "        super(PRAS_Dataset, self).__init__()\n",
    "\n",
    "        self.prsa_array = joblib.load(file_path)\n",
    "\n",
    "        self.train_array = self.prsa_array[:int(self.prsa_array.shape[0] * train_test_split_ratio)]\n",
    "\n",
    "        self.test_array = self.prsa_array[int(self.prsa_array.shape[0] * train_test_split_ratio):]\n",
    "\n",
    "        # 注意训练集和测试集要分开做归一化，否则会造成数据泄露\n",
    "        self.train_scaler = MinMaxScaler(feature_range=(0, 1))\n",
    "        self.test_scaler = MinMaxScaler(feature_range=(0, 1))\n",
    "\n",
    "        self.tranformed_train_array = self.get_transform(self.train_scaler, self.train_array)\n",
    "        self.tranformed_test_array = self.get_transform(self.test_scaler, self.test_array)\n",
    "\n",
    "        self.sequence_list = list()\n",
    "        self.target_list = list()\n",
    "        \n",
    "        if not transformer:\n",
    "            if train:\n",
    "                for i in range(self.tranformed_train_array.shape[0] - input_len - output_len + 1):\n",
    "                    self.sequence_list.append(self.tranformed_train_array[i: i+input_len])\n",
    "                    self.target_list.append(self.tranformed_train_array[i+input_len: i+input_len+output_len])\n",
    "            else:\n",
    "                for i in range(self.tranformed_test_array.shape[0] - input_len - output_len + 1):\n",
    "                    self.sequence_list.append(self.tranformed_test_array[i: i+input_len])\n",
    "                    self.target_list.append(self.tranformed_test_array[i + input_len: i + input_len + output_len])\n",
    "        else:\n",
    "            if train:\n",
    "                for i in range(self.tranformed_train_array.shape[0] - input_len - output_len + 1):\n",
    "                    self.sequence_list.append(self.tranformed_train_array[i: i+input_len])\n",
    "                    self.target_list.append(self.tranformed_train_array[i+output_len: i+input_len+output_len])\n",
    "            else:\n",
    "                for i in range(self.tranformed_test_array.shape[0] - input_len - output_len + 1):\n",
    "                    self.sequence_list.append(self.tranformed_test_array[i: i+input_len])\n",
    "                    self.target_list.append(self.tranformed_test_array[i + output_len: i + input_len + output_len])\n",
    "\n",
    "\n",
    "    def __getitem__(self, idx):\n",
    "        sequence = torch.tensor(self.sequence_list[idx], dtype=torch.float32)\n",
    "        target = torch.tensor(self.target_list[idx], dtype=torch.float32)\n",
    "\n",
    "        return sequence, target\n",
    "\n",
    "    def __len__(self):\n",
    "        return len(self.sequence_list)\n",
    "\n",
    "    def get_transform(self, scaler: MinMaxScaler, array: np.array):\n",
    "        return scaler.fit_transform(array)\n",
    "\n",
    "    def get_inverse_transfoerm(self, scaler: MinMaxScaler, array: np.array):\n",
    "        return scaler.inverse_transform(array)\n",
    "\n",
    "\n",
    "if __name__ == '__main__':\n",
    "    train_dataset = PRAS_Dataset(train=True)\n",
    "    test_dataset = PRAS_Dataset(train=False)\n"
   ]
  },
  {
   "cell_type": "code",
   "execution_count": null,
   "metadata": {
    "colab": {
     "base_uri": "https://localhost:8080/"
    },
    "executionInfo": {
     "elapsed": 120422,
     "status": "ok",
     "timestamp": 1675054597689,
     "user": {
      "displayName": "Agd Tp",
      "userId": "13309599981929937069"
     },
     "user_tz": -480
    },
    "id": "nzT88j8D_Yat",
    "outputId": "4f01e135-fe44-4211-90e6-58bb765f646b"
   },
   "outputs": [],
   "source": []
  },
  {
   "cell_type": "code",
   "execution_count": 7,
   "metadata": {
    "executionInfo": {
     "elapsed": 5,
     "status": "ok",
     "timestamp": 1675054597690,
     "user": {
      "displayName": "Agd Tp",
      "userId": "13309599981929937069"
     },
     "user_tz": -480
    },
    "id": "p3v_NC2I-_Gy"
   },
   "outputs": [],
   "source": [
    "import torch.nn as nn\n",
    "import torch\n",
    "import torch.nn.functional as F\n",
    "\n",
    "\n",
    "class AttBLSTM(nn.Module):\n",
    "    \n",
    "    def __init__(self,\n",
    "                 input_size: int = 15,\n",
    "                 output_size: int = 15,\n",
    "                 hidden_dim: int = 256,\n",
    "                 lstm_dropout: float = 0,\n",
    "                 linear_dropout=0.2):\n",
    "        super(AttBLSTM, self).__init__()\n",
    "\n",
    "        self.input_size = input_size\n",
    "        self.output_size = output_size\n",
    "        self.hidden_dim = hidden_dim\n",
    "        self.lstm_dropout = lstm_dropout\n",
    "        self.linear_dropout = linear_dropout\n",
    "\n",
    "        self.blstm = nn.LSTM(self.input_size,\n",
    "                             self.hidden_dim,\n",
    "                             num_layers=2,\n",
    "                             bidirectional=True,\n",
    "                             batch_first=True,\n",
    "                             dropout=self.lstm_dropout)\n",
    "\n",
    "        self.tanh = nn.Tanh()\n",
    "        self.w = nn.Parameter(torch.Tensor(self.hidden_dim * 2, 1))\n",
    "        torch.nn.init.kaiming_normal_(self.w)\n",
    "        self.sigmoid = nn.Sigmoid()\n",
    "        self.dropout = nn.Dropout(self.linear_dropout)\n",
    "        self.linear = nn.Linear(self.hidden_dim * 2, self.output_size)\n",
    "\n",
    "    def forward(self, x):\n",
    "        out, (h_n, c_n) = self.blstm(x)\n",
    "\n",
    "        M = self.tanh(out)\n",
    "        alpha = F.softmax(torch.matmul(M, self.w), dim=1)\n",
    "        out = out * alpha\n",
    "        out = torch.sum(out, dim=1)\n",
    "\n",
    "        # out = self.tanh(out)\n",
    "\n",
    "        out = self.dropout(out)\n",
    "        out = self.linear(out)\n",
    "\n",
    "        return out\n",
    "\n",
    "    def name(self):\n",
    "        return self.__class__.__name__\n"
   ]
  },
  {
   "cell_type": "code",
   "execution_count": 8,
   "metadata": {
    "executionInfo": {
     "elapsed": 1,
     "status": "ok",
     "timestamp": 1675064544308,
     "user": {
      "displayName": "Agd Tp",
      "userId": "13309599981929937069"
     },
     "user_tz": -480
    },
    "id": "4cnjuC1zoHdi"
   },
   "outputs": [],
   "source": [
    "import torch.nn as nn\n",
    "import torch\n",
    "import torch.nn.functional as F\n",
    "\n",
    "\n",
    "class BLSTM_L(nn.Module):\n",
    "\n",
    "    def __init__(self,\n",
    "                 input_size: int = 15,\n",
    "                 output_size: int = 15,\n",
    "                 hidden_dim: int = 256,\n",
    "                 lstm_dropout: float = 0,\n",
    "                 linear_dropout=0.1):\n",
    "        super(BLSTM_L, self).__init__()\n",
    "\n",
    "        self.input_size = input_size\n",
    "        self.output_size = output_size\n",
    "        self.hidden_dim = hidden_dim\n",
    "        self.lstm_dropout = lstm_dropout\n",
    "        self.linear_dropout = linear_dropout\n",
    "\n",
    "        self.blstm = nn.LSTM(self.input_size,\n",
    "                             self.hidden_dim,\n",
    "                             num_layers=2,\n",
    "                             bidirectional=True,\n",
    "                             batch_first=True,\n",
    "                             dropout=self.lstm_dropout)\n",
    "\n",
    "        self.lstm = nn.LSTM(512,\n",
    "                            self.hidden_dim,\n",
    "                            num_layers=1,\n",
    "                            bidirectional=False,\n",
    "                            batch_first=True,\n",
    "                            dropout=self.lstm_dropout)\n",
    "\n",
    "        self.dropout = nn.Dropout(self.linear_dropout)\n",
    "        self.linear = nn.Linear(self.hidden_dim, self.output_size)\n",
    "\n",
    "    def forward(self, x):\n",
    "        out, (h_n, c_n) = self.blstm(x)\n",
    "        #\n",
    "        out , (h_n, c_n)= self.lstm(out)\n",
    "\n",
    "        out = out[:, -1, :]\n",
    "        out = self.dropout(out)\n",
    "        out = self.linear(out)\n",
    "\n",
    "        return out\n",
    "\n",
    "    def name(self):\n",
    "        return self.__class__.__name__\n"
   ]
  },
  {
   "cell_type": "code",
   "execution_count": 9,
   "metadata": {
    "executionInfo": {
     "elapsed": 4,
     "status": "ok",
     "timestamp": 1675054597690,
     "user": {
      "displayName": "Agd Tp",
      "userId": "13309599981929937069"
     },
     "user_tz": -480
    },
    "id": "UcmgXpRd_A3F"
   },
   "outputs": [],
   "source": [
    "import torch.nn as nn\n",
    "import torch\n",
    "import torch.nn.functional as F\n",
    "\n",
    "\n",
    "class BLSTM(nn.Module):\n",
    "\n",
    "    def __init__(self,\n",
    "                 input_size: int = 15,\n",
    "                 output_size: int = 15,\n",
    "                 hidden_dim: int = 256,\n",
    "                 lstm_dropout: float = 0,\n",
    "                 linear_dropout=0.1):\n",
    "        super(BLSTM, self).__init__()\n",
    "\n",
    "        self.input_size = input_size\n",
    "        self.output_size = output_size\n",
    "        self.hidden_dim = hidden_dim\n",
    "        self.lstm_dropout = lstm_dropout\n",
    "        self.linear_dropout = linear_dropout\n",
    "\n",
    "        self.blstm = nn.LSTM(self.input_size,\n",
    "                             self.hidden_dim,\n",
    "                             num_layers=2,\n",
    "                             bidirectional=True,\n",
    "                             batch_first=True,\n",
    "                             dropout=self.lstm_dropout)\n",
    "\n",
    "        self.dropout = nn.Dropout(self.linear_dropout)\n",
    "        self.linear = nn.Linear(self.hidden_dim * 2, self.output_size)\n",
    "\n",
    "    def forward(self, x):\n",
    "        out, (h_n, c_n) = self.blstm(x)\n",
    "\n",
    "        out = out[:, -1, :]\n",
    "\n",
    "        out = self.dropout(out)\n",
    "        out = self.linear(out)\n",
    "\n",
    "        return out\n",
    "\n",
    "    def name(self):\n",
    "        return self.__class__.__name__\n"
   ]
  },
  {
   "cell_type": "code",
   "execution_count": null,
   "metadata": {
    "executionInfo": {
     "elapsed": 4,
     "status": "ok",
     "timestamp": 1675054597690,
     "user": {
      "displayName": "Agd Tp",
      "userId": "13309599981929937069"
     },
     "user_tz": -480
    },
    "id": "SCrmZMZF_F-9"
   },
   "outputs": [],
   "source": [
    "import torch.nn as nn\n",
    "import torch\n",
    "import torch.nn.functional as F\n",
    "\n",
    "\n",
    "class LSTM(nn.Module):\n",
    "\n",
    "    def __init__(self,\n",
    "                 input_size: int = 15,\n",
    "                 output_size: int = 15,\n",
    "                 hidden_dim: int = 256,\n",
    "                 lstm_dropout: float = 0,\n",
    "                 linear_dropout=0.1):\n",
    "        super(LSTM, self).__init__()\n",
    "\n",
    "        self.input_size = input_size\n",
    "        self.output_size = output_size\n",
    "        self.hidden_dim = hidden_dim\n",
    "        self.lstm_dropout = lstm_dropout\n",
    "        self.linear_dropout = linear_dropout\n",
    "\n",
    "        self.lstm = nn.LSTM(self.input_size,\n",
    "                            self.hidden_dim,\n",
    "                            num_layers=1,\n",
    "                            bidirectional=False,\n",
    "                            batch_first=True,\n",
    "                            dropout=self.lstm_dropout)\n",
    "\n",
    "        self.dropout = nn.Dropout(self.linear_dropout)\n",
    "        self.linear = nn.Linear(self.hidden_dim, self.output_size)\n",
    "\n",
    "    def forward(self, x):\n",
    "        out, (h_n, c_n) = self.lstm(x)\n",
    "\n",
    "        out = out[:, -1, :]\n",
    "\n",
    "        out = self.dropout(out)\n",
    "        out = self.linear(out)\n",
    "\n",
    "        return out\n",
    "\n",
    "    def name(self):\n",
    "        return self.__class__.__name__\n"
   ]
  },
  {
   "cell_type": "code",
   "execution_count": 12,
   "metadata": {},
   "outputs": [],
   "source": [
    "import torch\n",
    "import torch.nn as nn\n",
    "import torch.nn.functional as F\n",
    "\n",
    "import math\n",
    "\n",
    "\n",
    "class PositionalEncoding(nn.Module):\n",
    "\n",
    "    def __init__(self, d_model, max_len=5000):\n",
    "        super(PositionalEncoding, self).__init__()\n",
    "\n",
    "        pe = torch.zeros(max_len, d_model)\n",
    "        position = torch.arange(0, max_len, dtype=torch.float).unsqueeze(1)\n",
    "        div_term = torch.exp(torch.arange(0, d_model, 2).float() * (-math.log(10000.0) / d_model))\n",
    "        pe[:, 0::2] = torch.sin(position * div_term)\n",
    "        pe[:, 1::2] = torch.cos(position * div_term)\n",
    "        pe = pe.unsqueeze(0).transpose(0, 1)\n",
    "\n",
    "        self.register_buffer('pe', pe)\n",
    "\n",
    "    def forward(self, x):\n",
    "        return x + self.pe[:x.size(0), :]\n",
    "\n",
    "\n",
    "class Transformer(nn.Module):\n",
    "    \n",
    "    def __init__(self, feature_size=512, num_layers=1, dropout=0.1):\n",
    "        super(Transformer, self).__init__()\n",
    "                       \n",
    "        self.model_type = 'Transformer'\n",
    "\n",
    "        self.src_mask = None\n",
    "        self.pos_encoder = PositionalEncoding(feature_size)\n",
    "        self.encoder_layer = nn.TransformerEncoderLayer(d_model=feature_size, nhead=32, dropout=dropout, batch_first=True)\n",
    "        self.transformer_encoder = nn.TransformerEncoder(self.encoder_layer, num_layers=num_layers)\n",
    "\n",
    "    def forward(self, x):\n",
    "        out = self.pos_encoder(x)\n",
    "        out = self.transformer_encoder(out, )\n",
    "\n",
    "        return out\n",
    "\n",
    "    def name(self):\n",
    "        return self.__class__.__name__\n"
   ]
  },
  {
   "cell_type": "code",
   "execution_count": 13,
   "metadata": {
    "executionInfo": {
     "elapsed": 4,
     "status": "ok",
     "timestamp": 1675054597690,
     "user": {
      "displayName": "Agd Tp",
      "userId": "13309599981929937069"
     },
     "user_tz": -480
    },
    "id": "tsjJCLJV_Kc0"
   },
   "outputs": [],
   "source": [
    "import torch\n",
    "import torch.nn as nn\n",
    "import torch.nn.functional as F\n",
    "\n",
    "\n",
    "\n",
    "class LinearTransformer(nn.Module):\n",
    "\n",
    "    def __init__(self, input_size: int, output_size: int):\n",
    "        super(LinearTransformer, self).__init__()\n",
    "\n",
    "        self.transformer = Transformer()\n",
    "        self.encoder = nn.Linear(input_size, 512)\n",
    "        self.decoder = nn.Linear(512, output_size)\n",
    "\n",
    "        initrange = 0.1\n",
    "        self.decoder.bias.data.zero_()\n",
    "        self.decoder.weight.data.uniform_(-initrange, initrange)\n",
    "\n",
    "    def forward(self, x):\n",
    "        out = self.encoder(x)\n",
    "        out = self.transformer(out)\n",
    "        out = self.decoder(out)\n",
    "        out = out[:, -1, :]\n",
    "        return out\n",
    "\n",
    "    def name(self):\n",
    "        return self.__class__.__name__\n"
   ]
  },
  {
   "cell_type": "code",
   "execution_count": 21,
   "metadata": {
    "colab": {
     "base_uri": "https://localhost:8080/"
    },
    "id": "oO1OW6pz-kN-",
    "outputId": "4e3df7fb-e83d-4397-b359-f78ed1af165c"
   },
   "outputs": [
    {
     "name": "stdout",
     "output_type": "stream",
     "text": [
      "输入长度为32\n"
     ]
    },
    {
     "name": "stderr",
     "output_type": "stream",
     "text": [
      "Model Training:   0%|          | 1/400 [00:08<55:22,  8.33s/it]"
     ]
    },
    {
     "name": "stdout",
     "output_type": "stream",
     "text": [
      "Epoch:     1 | Train Loss: 17.661909118294716| Train MAE: 34.6095270216465 | Test Loss: 0.1553404328878969| Test MAE: 1.727662492543459  | LR:   0.0001\n"
     ]
    },
    {
     "name": "stderr",
     "output_type": "stream",
     "text": [
      "Model Training:   0%|          | 2/400 [00:16<54:09,  8.17s/it]"
     ]
    },
    {
     "name": "stdout",
     "output_type": "stream",
     "text": [
      "Epoch:     2 | Train Loss: 3.9866225086152554| Train MAE: 19.22009387612343 | Test Loss: 0.0953438269207254| Test MAE: 1.2690023556351662  | LR:   0.0001\n"
     ]
    },
    {
     "name": "stderr",
     "output_type": "stream",
     "text": [
      "Model Training:   1%|          | 3/400 [00:24<53:52,  8.14s/it]"
     ]
    },
    {
     "name": "stdout",
     "output_type": "stream",
     "text": [
      "Epoch:     3 | Train Loss: 2.9064136873930693| Train MAE: 16.386946327984333 | Test Loss: 0.08564421825576574| Test MAE: 1.1800188794732094  | LR:   0.0001\n"
     ]
    },
    {
     "name": "stderr",
     "output_type": "stream",
     "text": [
      "Model Training:   1%|          | 4/400 [00:32<53:35,  8.12s/it]"
     ]
    },
    {
     "name": "stdout",
     "output_type": "stream",
     "text": [
      "Epoch:     4 | Train Loss: 2.3125505428761244| Train MAE: 14.561395838856697 | Test Loss: 0.07448846276383847| Test MAE: 1.0509466174989939  | LR:   0.0001\n"
     ]
    },
    {
     "name": "stderr",
     "output_type": "stream",
     "text": [
      "Model Training:   1%|▏         | 5/400 [00:40<53:17,  8.10s/it]"
     ]
    },
    {
     "name": "stdout",
     "output_type": "stream",
     "text": [
      "Epoch:     5 | Train Loss: 1.9064218942075968| Train MAE: 13.171926878392696 | Test Loss: 0.07028099551098421| Test MAE: 1.0111569575965405  | LR:   0.0001\n"
     ]
    },
    {
     "name": "stderr",
     "output_type": "stream",
     "text": [
      "Model Training:   2%|▏         | 6/400 [00:48<53:09,  8.10s/it]"
     ]
    },
    {
     "name": "stdout",
     "output_type": "stream",
     "text": [
      "Epoch:     6 | Train Loss: 1.624240705743432| Train MAE: 12.1025425568223 | Test Loss: 0.06595929799368605| Test MAE: 0.9340858310461044  | LR:   0.0001\n"
     ]
    },
    {
     "name": "stderr",
     "output_type": "stream",
     "text": [
      "Model Training:   2%|▏         | 7/400 [00:56<53:07,  8.11s/it]"
     ]
    },
    {
     "name": "stdout",
     "output_type": "stream",
     "text": [
      "Epoch:     7 | Train Loss: 1.3901649974286556| Train MAE: 11.145949825644493 | Test Loss: 0.0656623660470359| Test MAE: 0.9353322312235832  | LR:   0.0001\n"
     ]
    },
    {
     "name": "stderr",
     "output_type": "stream",
     "text": [
      "Model Training:   2%|▏         | 8/400 [01:04<52:55,  8.10s/it]"
     ]
    },
    {
     "name": "stdout",
     "output_type": "stream",
     "text": [
      "Epoch:     8 | Train Loss: 1.1998888826929033| Train MAE: 10.29320938885212 | Test Loss: 0.06668618659023196| Test MAE: 0.936455275863409  | LR:   0.0001\n"
     ]
    },
    {
     "name": "stderr",
     "output_type": "stream",
     "text": [
      "Model Training:   2%|▏         | 9/400 [01:12<52:38,  8.08s/it]"
     ]
    },
    {
     "name": "stdout",
     "output_type": "stream",
     "text": [
      "Epoch:     9 | Train Loss: 1.041110007558018| Train MAE: 9.518836569041014 | Test Loss: 0.06091415003174916| Test MAE: 0.8489126842468977  | LR:   0.0001\n"
     ]
    },
    {
     "name": "stderr",
     "output_type": "stream",
     "text": [
      "Model Training:   2%|▎         | 10/400 [01:21<52:33,  8.09s/it]"
     ]
    },
    {
     "name": "stdout",
     "output_type": "stream",
     "text": [
      "Epoch:    10 | Train Loss: 0.8997296392917633| Train MAE: 8.763986371457577 | Test Loss: 0.06068189366487786| Test MAE: 0.8377470094710588  | LR: 9.900000000000001e-05\n"
     ]
    },
    {
     "name": "stderr",
     "output_type": "stream",
     "text": [
      "Model Training:   3%|▎         | 11/400 [01:29<52:30,  8.10s/it]"
     ]
    },
    {
     "name": "stdout",
     "output_type": "stream",
     "text": [
      "Epoch:    11 | Train Loss: 0.7936337403953075| Train MAE: 8.150154914706945 | Test Loss: 0.05916174181038514| Test MAE: 0.8303301446139812  | LR: 9.900000000000001e-05\n"
     ]
    },
    {
     "name": "stderr",
     "output_type": "stream",
     "text": [
      "Model Training:   3%|▎         | 12/400 [01:37<52:19,  8.09s/it]"
     ]
    },
    {
     "name": "stdout",
     "output_type": "stream",
     "text": [
      "Epoch:    12 | Train Loss: 0.7052332125604153| Train MAE: 7.598450314253569 | Test Loss: 0.061289058765396476| Test MAE: 0.8609588723629713  | LR: 9.900000000000001e-05\n"
     ]
    },
    {
     "name": "stderr",
     "output_type": "stream",
     "text": [
      "Model Training:   3%|▎         | 13/400 [01:45<52:04,  8.07s/it]"
     ]
    },
    {
     "name": "stdout",
     "output_type": "stream",
     "text": [
      "Epoch:    13 | Train Loss: 0.6318939512129873| Train MAE: 7.092058766633272 | Test Loss: 0.05943457200191915| Test MAE: 0.8156229704618454  | LR: 9.900000000000001e-05\n"
     ]
    },
    {
     "name": "stderr",
     "output_type": "stream",
     "text": [
      "Model Training:   4%|▎         | 14/400 [01:53<52:06,  8.10s/it]"
     ]
    },
    {
     "name": "stdout",
     "output_type": "stream",
     "text": [
      "Epoch:    14 | Train Loss: 0.5768269733525813| Train MAE: 6.693386889994144 | Test Loss: 0.05866548867197707| Test MAE: 0.785280130803585  | LR: 9.900000000000001e-05\n"
     ]
    },
    {
     "name": "stderr",
     "output_type": "stream",
     "text": [
      "Model Training:   4%|▍         | 15/400 [02:01<52:04,  8.12s/it]"
     ]
    },
    {
     "name": "stdout",
     "output_type": "stream",
     "text": [
      "Epoch:    15 | Train Loss: 0.5374706389848143| Train MAE: 6.387907680124044 | Test Loss: 0.05632825958309695| Test MAE: 0.7630274789407849  | LR: 9.900000000000001e-05\n"
     ]
    },
    {
     "name": "stderr",
     "output_type": "stream",
     "text": [
      "Model Training:   4%|▍         | 16/400 [02:09<51:56,  8.12s/it]"
     ]
    },
    {
     "name": "stdout",
     "output_type": "stream",
     "text": [
      "Epoch:    16 | Train Loss: 0.5004961956292391| Train MAE: 6.0900555439293385 | Test Loss: 0.05697232112288475| Test MAE: 0.772907274775207  | LR: 9.900000000000001e-05\n"
     ]
    },
    {
     "name": "stderr",
     "output_type": "stream",
     "text": [
      "Model Training:   4%|▍         | 17/400 [02:17<51:35,  8.08s/it]"
     ]
    },
    {
     "name": "stdout",
     "output_type": "stream",
     "text": [
      "Epoch:    17 | Train Loss: 0.4711328772827983| Train MAE: 5.838308941572905 | Test Loss: 0.05800363584421575| Test MAE: 0.7803146596997976  | LR: 9.900000000000001e-05\n"
     ]
    },
    {
     "name": "stderr",
     "output_type": "stream",
     "text": [
      "Model Training:   4%|▍         | 18/400 [02:25<51:26,  8.08s/it]"
     ]
    },
    {
     "name": "stdout",
     "output_type": "stream",
     "text": [
      "Epoch:    18 | Train Loss: 0.4488954059779644| Train MAE: 5.640592478215694 | Test Loss: 0.05850088014267385| Test MAE: 0.7852474758401513  | LR: 9.900000000000001e-05\n"
     ]
    },
    {
     "name": "stderr",
     "output_type": "stream",
     "text": [
      "Model Training:   5%|▍         | 19/400 [02:33<51:27,  8.10s/it]"
     ]
    },
    {
     "name": "stdout",
     "output_type": "stream",
     "text": [
      "Epoch:    19 | Train Loss: 0.42784197092987597| Train MAE: 5.4486387595534325 | Test Loss: 0.05625882453750819| Test MAE: 0.7512281220406294  | LR: 9.900000000000001e-05\n"
     ]
    },
    {
     "name": "stderr",
     "output_type": "stream",
     "text": [
      "Model Training:   5%|▌         | 20/400 [02:42<51:32,  8.14s/it]"
     ]
    },
    {
     "name": "stdout",
     "output_type": "stream",
     "text": [
      "Epoch:    20 | Train Loss: 0.41248818044550717| Train MAE: 5.291043184697628 | Test Loss: 0.05583689612103626| Test MAE: 0.743444717489183  | LR: 9.801e-05\n"
     ]
    },
    {
     "name": "stderr",
     "output_type": "stream",
     "text": [
      "Model Training:   5%|▌         | 21/400 [02:50<51:14,  8.11s/it]"
     ]
    },
    {
     "name": "stdout",
     "output_type": "stream",
     "text": [
      "Epoch:    21 | Train Loss: 0.39670135732740164| Train MAE: 5.134569492191076 | Test Loss: 0.060869608947541565| Test MAE: 0.824426906183362  | LR: 9.801e-05\n"
     ]
    },
    {
     "name": "stderr",
     "output_type": "stream",
     "text": [
      "Model Training:   6%|▌         | 22/400 [02:58<51:04,  8.11s/it]"
     ]
    },
    {
     "name": "stdout",
     "output_type": "stream",
     "text": [
      "Epoch:    22 | Train Loss: 0.38205570611171424| Train MAE: 4.987637627869844 | Test Loss: 0.05600902932928875| Test MAE: 0.7348169023171067  | LR: 9.801e-05\n"
     ]
    },
    {
     "name": "stderr",
     "output_type": "stream",
     "text": [
      "Model Training:   6%|▌         | 23/400 [03:06<50:58,  8.11s/it]"
     ]
    },
    {
     "name": "stdout",
     "output_type": "stream",
     "text": [
      "Epoch:    23 | Train Loss: 0.3715974933002144| Train MAE: 4.873561624437571 | Test Loss: 0.05747323721880093| Test MAE: 0.7520284149795771  | LR: 9.801e-05\n"
     ]
    },
    {
     "name": "stderr",
     "output_type": "stream",
     "text": [
      "Model Training:   6%|▌         | 24/400 [03:14<50:50,  8.11s/it]"
     ]
    },
    {
     "name": "stdout",
     "output_type": "stream",
     "text": [
      "Epoch:    24 | Train Loss: 0.36167471716180444| Train MAE: 4.7692770175635815 | Test Loss: 0.05738945724442601| Test MAE: 0.7613160172477365  | LR: 9.801e-05\n"
     ]
    },
    {
     "name": "stderr",
     "output_type": "stream",
     "text": [
      "Model Training:   6%|▋         | 25/400 [03:22<50:32,  8.09s/it]"
     ]
    },
    {
     "name": "stdout",
     "output_type": "stream",
     "text": [
      "Epoch:    25 | Train Loss: 0.3533976434264332| Train MAE: 4.673873586580157 | Test Loss: 0.05697475094348192| Test MAE: 0.7352888127788901  | LR: 9.801e-05\n"
     ]
    },
    {
     "name": "stderr",
     "output_type": "stream",
     "text": [
      "Model Training:   6%|▋         | 26/400 [03:30<50:29,  8.10s/it]"
     ]
    },
    {
     "name": "stdout",
     "output_type": "stream",
     "text": [
      "Epoch:    26 | Train Loss: 0.34450241597369313| Train MAE: 4.5763451755046844 | Test Loss: 0.05836241628276184| Test MAE: 0.773469528183341  | LR: 9.801e-05\n"
     ]
    },
    {
     "name": "stderr",
     "output_type": "stream",
     "text": [
      "Model Training:   7%|▋         | 27/400 [03:38<50:25,  8.11s/it]"
     ]
    },
    {
     "name": "stdout",
     "output_type": "stream",
     "text": [
      "Epoch:    27 | Train Loss: 0.33687497198116034| Train MAE: 4.482969623059034 | Test Loss: 0.05294949508970603| Test MAE: 0.6765443775802851  | LR: 9.801e-05\n"
     ]
    },
    {
     "name": "stderr",
     "output_type": "stream",
     "text": [
      "Model Training:   7%|▋         | 28/400 [03:47<50:42,  8.18s/it]"
     ]
    },
    {
     "name": "stdout",
     "output_type": "stream",
     "text": [
      "Epoch:    28 | Train Loss: 0.3304935609921813| Train MAE: 4.400505166500807 | Test Loss: 0.05573537742020562| Test MAE: 0.7230482008308172  | LR: 9.801e-05\n"
     ]
    },
    {
     "name": "stderr",
     "output_type": "stream",
     "text": [
      "Model Training:   7%|▋         | 29/400 [03:55<50:28,  8.16s/it]"
     ]
    },
    {
     "name": "stdout",
     "output_type": "stream",
     "text": [
      "Epoch:    29 | Train Loss: 0.3248074718285352| Train MAE: 4.333959864452481 | Test Loss: 0.06031319557223469| Test MAE: 0.7925229258835316  | LR: 9.801e-05\n"
     ]
    },
    {
     "name": "stderr",
     "output_type": "stream",
     "text": [
      "Model Training:   8%|▊         | 30/400 [04:03<50:23,  8.17s/it]"
     ]
    },
    {
     "name": "stdout",
     "output_type": "stream",
     "text": [
      "Epoch:    30 | Train Loss: 0.3219657032750547| Train MAE: 4.293435448780656 | Test Loss: 0.05526432581245899| Test MAE: 0.7027370678260922  | LR: 9.70299e-05\n"
     ]
    },
    {
     "name": "stderr",
     "output_type": "stream",
     "text": [
      "Model Training:   8%|▊         | 31/400 [04:11<50:13,  8.17s/it]"
     ]
    },
    {
     "name": "stdout",
     "output_type": "stream",
     "text": [
      "Epoch:    31 | Train Loss: 0.31376401078887284| Train MAE: 4.193743288516998 | Test Loss: 0.05645023740362376| Test MAE: 0.7483859797939658  | LR: 9.70299e-05\n"
     ]
    },
    {
     "name": "stderr",
     "output_type": "stream",
     "text": [
      "Model Training:   8%|▊         | 32/400 [04:19<50:04,  8.16s/it]"
     ]
    },
    {
     "name": "stdout",
     "output_type": "stream",
     "text": [
      "Epoch:    32 | Train Loss: 0.3076409165514633| Train MAE: 4.119047747924924 | Test Loss: 0.05691711133113131| Test MAE: 0.7307916106656194  | LR: 9.70299e-05\n"
     ]
    },
    {
     "name": "stderr",
     "output_type": "stream",
     "text": [
      "Model Training:   8%|▊         | 33/400 [04:27<49:50,  8.15s/it]"
     ]
    },
    {
     "name": "stdout",
     "output_type": "stream",
     "text": [
      "Epoch:    33 | Train Loss: 0.30396746669430286| Train MAE: 4.063571443781257 | Test Loss: 0.0554727001581341| Test MAE: 0.7318814992904663  | LR: 9.70299e-05\n"
     ]
    },
    {
     "name": "stderr",
     "output_type": "stream",
     "text": [
      "Model Training:   8%|▊         | 34/400 [04:36<49:43,  8.15s/it]"
     ]
    },
    {
     "name": "stdout",
     "output_type": "stream",
     "text": [
      "Epoch:    34 | Train Loss: 0.30191133660264313| Train MAE: 4.038199856877327 | Test Loss: 0.055052074196282774| Test MAE: 0.7255769232288003  | LR: 9.70299e-05\n"
     ]
    },
    {
     "name": "stderr",
     "output_type": "stream",
     "text": [
      "Model Training:   9%|▉         | 35/400 [04:44<49:33,  8.15s/it]"
     ]
    },
    {
     "name": "stdout",
     "output_type": "stream",
     "text": [
      "Epoch:    35 | Train Loss: 0.29522536031436175| Train MAE: 3.9515714198350906 | Test Loss: 0.055228691548109055| Test MAE: 0.7019592970609665  | LR: 9.70299e-05\n"
     ]
    },
    {
     "name": "stderr",
     "output_type": "stream",
     "text": [
      "Model Training:   9%|▉         | 36/400 [04:52<49:25,  8.15s/it]"
     ]
    },
    {
     "name": "stdout",
     "output_type": "stream",
     "text": [
      "Epoch:    36 | Train Loss: 0.29220341646578163| Train MAE: 3.909485636278987 | Test Loss: 0.0531504507525824| Test MAE: 0.6815382102504373  | LR: 9.70299e-05\n"
     ]
    },
    {
     "name": "stderr",
     "output_type": "stream",
     "text": [
      "Model Training:   9%|▉         | 37/400 [05:00<49:03,  8.11s/it]"
     ]
    },
    {
     "name": "stdout",
     "output_type": "stream",
     "text": [
      "Epoch:    37 | Train Loss: 0.28970348578877747| Train MAE: 3.873824445530772 | Test Loss: 0.05422317824559286| Test MAE: 0.7046100050210953  | LR: 9.70299e-05\n"
     ]
    },
    {
     "name": "stderr",
     "output_type": "stream",
     "text": [
      "Model Training:  10%|▉         | 38/400 [05:08<49:21,  8.18s/it]"
     ]
    },
    {
     "name": "stdout",
     "output_type": "stream",
     "text": [
      "Epoch:    38 | Train Loss: 0.28448223031591624| Train MAE: 3.8009332567453384 | Test Loss: 0.053816814557649195| Test MAE: 0.670914426445961  | LR: 9.70299e-05\n"
     ]
    },
    {
     "name": "stderr",
     "output_type": "stream",
     "text": [
      "Model Training:  10%|▉         | 39/400 [05:17<49:22,  8.21s/it]"
     ]
    },
    {
     "name": "stdout",
     "output_type": "stream",
     "text": [
      "Epoch:    39 | Train Loss: 0.2821966358460486| Train MAE: 3.7652009036391973 | Test Loss: 0.05463574960594997| Test MAE: 0.7102283947169781  | LR: 9.70299e-05\n"
     ]
    },
    {
     "name": "stderr",
     "output_type": "stream",
     "text": [
      "Model Training:  10%|█         | 40/400 [05:25<49:23,  8.23s/it]"
     ]
    },
    {
     "name": "stdout",
     "output_type": "stream",
     "text": [
      "Epoch:    40 | Train Loss: 0.2801702464930713| Train MAE: 3.731274787336588 | Test Loss: 0.05410217685857788| Test MAE: 0.7236188156530261  | LR: 9.605960100000001e-05\n"
     ]
    },
    {
     "name": "stderr",
     "output_type": "stream",
     "text": [
      "Model Training:  10%|█         | 41/400 [05:33<49:06,  8.21s/it]"
     ]
    },
    {
     "name": "stdout",
     "output_type": "stream",
     "text": [
      "Epoch:    41 | Train Loss: 0.2783620775444433| Train MAE: 3.7095123268663883 | Test Loss: 0.05152436962816864| Test MAE: 0.6461105411872268  | LR: 9.605960100000001e-05\n"
     ]
    },
    {
     "name": "stderr",
     "output_type": "stream",
     "text": [
      "Model Training:  10%|█         | 42/400 [05:41<48:52,  8.19s/it]"
     ]
    },
    {
     "name": "stdout",
     "output_type": "stream",
     "text": [
      "Epoch:    42 | Train Loss: 0.2749654584331438| Train MAE: 3.654673246666789 | Test Loss: 0.05505781329702586| Test MAE: 0.7146470993757248  | LR: 9.605960100000001e-05\n"
     ]
    },
    {
     "name": "stderr",
     "output_type": "stream",
     "text": [
      "Model Training:  11%|█         | 43/400 [05:49<48:36,  8.17s/it]"
     ]
    },
    {
     "name": "stdout",
     "output_type": "stream",
     "text": [
      "Epoch:    43 | Train Loss: 0.272368187783286| Train MAE: 3.6168785002082586 | Test Loss: 0.057403472310397774| Test MAE: 0.7581183919683099  | LR: 9.605960100000001e-05\n"
     ]
    },
    {
     "name": "stderr",
     "output_type": "stream",
     "text": [
      "Model Training:  11%|█         | 44/400 [05:57<48:15,  8.13s/it]"
     ]
    },
    {
     "name": "stdout",
     "output_type": "stream",
     "text": [
      "Epoch:    44 | Train Loss: 0.26963005121797323| Train MAE: 3.5800001733005047 | Test Loss: 0.05396737583214417| Test MAE: 0.7276677014306188  | LR: 9.605960100000001e-05\n"
     ]
    },
    {
     "name": "stderr",
     "output_type": "stream",
     "text": [
      "Model Training:  11%|█▏        | 45/400 [06:05<48:06,  8.13s/it]"
     ]
    },
    {
     "name": "stdout",
     "output_type": "stream",
     "text": [
      "Epoch:    45 | Train Loss: 0.2679255852708593| Train MAE: 3.55045048519969 | Test Loss: 0.05321629892569035| Test MAE: 0.6845496064051986  | LR: 9.605960100000001e-05\n"
     ]
    },
    {
     "name": "stderr",
     "output_type": "stream",
     "text": [
      "Model Training:  12%|█▏        | 46/400 [06:14<48:01,  8.14s/it]"
     ]
    },
    {
     "name": "stdout",
     "output_type": "stream",
     "text": [
      "Epoch:    46 | Train Loss: 0.2664904317352921| Train MAE: 3.5239040330052376 | Test Loss: 0.05505649035330862| Test MAE: 0.7187798907980323  | LR: 9.605960100000001e-05\n"
     ]
    },
    {
     "name": "stderr",
     "output_type": "stream",
     "text": [
      "Model Training:  12%|█▏        | 47/400 [06:22<47:51,  8.13s/it]"
     ]
    },
    {
     "name": "stdout",
     "output_type": "stream",
     "text": [
      "Epoch:    47 | Train Loss: 0.26494567294139415| Train MAE: 3.5029049646109343 | Test Loss: 0.05521285842405632| Test MAE: 0.7096714256331325  | LR: 9.605960100000001e-05\n"
     ]
    },
    {
     "name": "stderr",
     "output_type": "stream",
     "text": [
      "Model Training:  12%|█▏        | 48/400 [06:30<47:41,  8.13s/it]"
     ]
    },
    {
     "name": "stdout",
     "output_type": "stream",
     "text": [
      "Epoch:    48 | Train Loss: 0.2626549917040393| Train MAE: 3.467376686632633 | Test Loss: 0.05680591467535123| Test MAE: 0.7597225904464722  | LR: 9.605960100000001e-05\n"
     ]
    },
    {
     "name": "stderr",
     "output_type": "stream",
     "text": [
      "Model Training:  12%|█▏        | 49/400 [06:38<47:33,  8.13s/it]"
     ]
    },
    {
     "name": "stdout",
     "output_type": "stream",
     "text": [
      "Epoch:    49 | Train Loss: 0.2611033731373027| Train MAE: 3.4410169906914234 | Test Loss: 0.05413162341574207| Test MAE: 0.7074491269886494  | LR: 9.605960100000001e-05\n"
     ]
    },
    {
     "name": "stderr",
     "output_type": "stream",
     "text": [
      "Model Training:  12%|█▎        | 50/400 [06:46<47:21,  8.12s/it]"
     ]
    },
    {
     "name": "stdout",
     "output_type": "stream",
     "text": [
      "Epoch:    50 | Train Loss: 0.2600819276412949| Train MAE: 3.4261050391942263 | Test Loss: 0.053281472239177674| Test MAE: 0.6776816649362445  | LR: 9.509900499000001e-05\n"
     ]
    },
    {
     "name": "stderr",
     "output_type": "stream",
     "text": [
      "Model Training:  13%|█▎        | 51/400 [06:54<47:10,  8.11s/it]"
     ]
    },
    {
     "name": "stdout",
     "output_type": "stream",
     "text": [
      "Epoch:    51 | Train Loss: 0.25655283336527646| Train MAE: 3.3717378973960876 | Test Loss: 0.05304000125033781| Test MAE: 0.6856351513415575  | LR: 9.509900499000001e-05\n"
     ]
    },
    {
     "name": "stderr",
     "output_type": "stream",
     "text": [
      "Model Training:  13%|█▎        | 52/400 [07:02<47:07,  8.13s/it]"
     ]
    },
    {
     "name": "stdout",
     "output_type": "stream",
     "text": [
      "Epoch:    52 | Train Loss: 0.25555184367112815| Train MAE: 3.3563944213092327 | Test Loss: 0.05035686239716597| Test MAE: 0.6386952083557844  | LR: 9.509900499000001e-05\n"
     ]
    },
    {
     "name": "stderr",
     "output_type": "stream",
     "text": [
      "Model Training:  13%|█▎        | 53/400 [07:10<46:58,  8.12s/it]"
     ]
    },
    {
     "name": "stdout",
     "output_type": "stream",
     "text": [
      "Epoch:    53 | Train Loss: 0.25400255096610636| Train MAE: 3.326922968029976 | Test Loss: 0.05268554267240688| Test MAE: 0.6905557187274098  | LR: 9.509900499000001e-05\n"
     ]
    },
    {
     "name": "stderr",
     "output_type": "stream",
     "text": [
      "Model Training:  14%|█▎        | 54/400 [07:19<46:58,  8.15s/it]"
     ]
    },
    {
     "name": "stdout",
     "output_type": "stream",
     "text": [
      "Epoch:    54 | Train Loss: 0.2545029423199594| Train MAE: 3.337341809645295 | Test Loss: 0.05105439940234646| Test MAE: 0.6548776300624013  | LR: 9.509900499000001e-05\n"
     ]
    },
    {
     "name": "stderr",
     "output_type": "stream",
     "text": [
      "Model Training:  14%|█▍        | 55/400 [07:27<46:50,  8.15s/it]"
     ]
    },
    {
     "name": "stdout",
     "output_type": "stream",
     "text": [
      "Epoch:    55 | Train Loss: 0.2521545436466113| Train MAE: 3.299319775775075 | Test Loss: 0.05044444135273807| Test MAE: 0.6526990430429578  | LR: 9.509900499000001e-05\n"
     ]
    },
    {
     "name": "stderr",
     "output_type": "stream",
     "text": [
      "Model Training:  14%|█▍        | 56/400 [07:35<46:33,  8.12s/it]"
     ]
    },
    {
     "name": "stdout",
     "output_type": "stream",
     "text": [
      "Epoch:    56 | Train Loss: 0.2506778872339055| Train MAE: 3.2789447344839573 | Test Loss: 0.05131719139171764| Test MAE: 0.6639770641922951  | LR: 9.509900499000001e-05\n"
     ]
    },
    {
     "name": "stderr",
     "output_type": "stream",
     "text": [
      "Model Training:  14%|█▍        | 57/400 [07:43<46:27,  8.13s/it]"
     ]
    },
    {
     "name": "stdout",
     "output_type": "stream",
     "text": [
      "Epoch:    57 | Train Loss: 0.24884653429035097| Train MAE: 3.246223822236061 | Test Loss: 0.051887752837501466| Test MAE: 0.678080047480762  | LR: 9.509900499000001e-05\n"
     ]
    },
    {
     "name": "stderr",
     "output_type": "stream",
     "text": [
      "Model Training:  14%|█▍        | 58/400 [07:51<46:26,  8.15s/it]"
     ]
    },
    {
     "name": "stdout",
     "output_type": "stream",
     "text": [
      "Epoch:    58 | Train Loss: 0.2467049965634942| Train MAE: 3.2145587373524904 | Test Loss: 0.052203650295268744| Test MAE: 0.6765304394066334  | LR: 9.509900499000001e-05\n"
     ]
    },
    {
     "name": "stderr",
     "output_type": "stream",
     "text": [
      "Model Training:  15%|█▍        | 59/400 [07:59<46:27,  8.17s/it]"
     ]
    },
    {
     "name": "stdout",
     "output_type": "stream",
     "text": [
      "Epoch:    59 | Train Loss: 0.24664956761989743| Train MAE: 3.224222080782056 | Test Loss: 0.05211469903588295| Test MAE: 0.6689723031595349  | LR: 9.509900499000001e-05\n"
     ]
    },
    {
     "name": "stderr",
     "output_type": "stream",
     "text": [
      "Model Training:  15%|█▌        | 60/400 [08:07<46:08,  8.14s/it]"
     ]
    },
    {
     "name": "stdout",
     "output_type": "stream",
     "text": [
      "Epoch:    60 | Train Loss: 0.2474348492687568| Train MAE: 3.2277234364300966 | Test Loss: 0.05150752514600754| Test MAE: 0.6834000656381249  | LR: 9.414801494010001e-05\n"
     ]
    },
    {
     "name": "stderr",
     "output_type": "stream",
     "text": [
      "Model Training:  15%|█▌        | 61/400 [08:16<45:59,  8.14s/it]"
     ]
    },
    {
     "name": "stdout",
     "output_type": "stream",
     "text": [
      "Epoch:    61 | Train Loss: 0.24472429614979774| Train MAE: 3.1762777771800756 | Test Loss: 0.0512079339241609| Test MAE: 0.6811100644990802  | LR: 9.414801494010001e-05\n"
     ]
    },
    {
     "name": "stderr",
     "output_type": "stream",
     "text": [
      "Model Training:  16%|█▌        | 62/400 [08:24<45:47,  8.13s/it]"
     ]
    },
    {
     "name": "stdout",
     "output_type": "stream",
     "text": [
      "Epoch:    62 | Train Loss: 0.2449278647545725| Train MAE: 3.17530476488173 | Test Loss: 0.05181754153454676| Test MAE: 0.687496175058186  | LR: 9.414801494010001e-05\n"
     ]
    },
    {
     "name": "stderr",
     "output_type": "stream",
     "text": [
      "Model Training:  16%|█▌        | 63/400 [08:32<45:41,  8.13s/it]"
     ]
    },
    {
     "name": "stdout",
     "output_type": "stream",
     "text": [
      "Epoch:    63 | Train Loss: 0.24417481874115765| Train MAE: 3.178818942978978 | Test Loss: 0.051916010794229805| Test MAE: 0.6729326378554106  | LR: 9.414801494010001e-05\n"
     ]
    },
    {
     "name": "stderr",
     "output_type": "stream",
     "text": [
      "Model Training:  16%|█▌        | 64/400 [08:40<45:33,  8.14s/it]"
     ]
    },
    {
     "name": "stdout",
     "output_type": "stream",
     "text": [
      "Epoch:    64 | Train Loss: 0.24260725534986705| Train MAE: 3.146654987707734 | Test Loss: 0.05146997212432325| Test MAE: 0.6816338310018182  | LR: 9.414801494010001e-05\n"
     ]
    },
    {
     "name": "stderr",
     "output_type": "stream",
     "text": [
      "Model Training:  16%|█▋        | 65/400 [08:48<45:41,  8.18s/it]"
     ]
    },
    {
     "name": "stdout",
     "output_type": "stream",
     "text": [
      "Epoch:    65 | Train Loss: 0.24052434787154198| Train MAE: 3.10782609321177 | Test Loss: 0.049894834839506075| Test MAE: 0.6352807395160198  | LR: 9.414801494010001e-05\n"
     ]
    },
    {
     "name": "stderr",
     "output_type": "stream",
     "text": [
      "Model Training:  16%|█▋        | 66/400 [08:56<45:26,  8.16s/it]"
     ]
    },
    {
     "name": "stdout",
     "output_type": "stream",
     "text": [
      "Epoch:    66 | Train Loss: 0.2396163789089769| Train MAE: 3.1018803268671036 | Test Loss: 0.051302039180882275| Test MAE: 0.6838792879134417  | LR: 9.414801494010001e-05\n"
     ]
    },
    {
     "name": "stderr",
     "output_type": "stream",
     "text": [
      "Model Training:  17%|█▋        | 67/400 [09:05<45:15,  8.16s/it]"
     ]
    },
    {
     "name": "stdout",
     "output_type": "stream",
     "text": [
      "Epoch:    67 | Train Loss: 0.23927727446425706| Train MAE: 3.0961003471165895 | Test Loss: 0.05460398556897417| Test MAE: 0.7768936939537525  | LR: 9.414801494010001e-05\n"
     ]
    },
    {
     "name": "stderr",
     "output_type": "stream",
     "text": [
      "Model Training:  17%|█▋        | 68/400 [09:13<45:00,  8.13s/it]"
     ]
    },
    {
     "name": "stdout",
     "output_type": "stream",
     "text": [
      "Epoch:    68 | Train Loss: 0.23989028739742935| Train MAE: 3.1204274501651525 | Test Loss: 0.056427121395245194| Test MAE: 0.752483295276761  | LR: 9.414801494010001e-05\n"
     ]
    },
    {
     "name": "stderr",
     "output_type": "stream",
     "text": [
      "Model Training:  17%|█▋        | 69/400 [09:21<44:55,  8.14s/it]"
     ]
    },
    {
     "name": "stdout",
     "output_type": "stream",
     "text": [
      "Epoch:    69 | Train Loss: 0.23770456667989492| Train MAE: 3.0757969990372658 | Test Loss: 0.04954355375957675| Test MAE: 0.6527856383472681  | LR: 9.414801494010001e-05\n"
     ]
    },
    {
     "name": "stderr",
     "output_type": "stream",
     "text": [
      "Model Training:  18%|█▊        | 70/400 [09:29<44:47,  8.14s/it]"
     ]
    },
    {
     "name": "stdout",
     "output_type": "stream",
     "text": [
      "Epoch:    70 | Train Loss: 0.2366806019563228| Train MAE: 3.055808475241065 | Test Loss: 0.05122363899135962| Test MAE: 0.7092492347583175  | LR: 9.320653479069902e-05\n"
     ]
    },
    {
     "name": "stderr",
     "output_type": "stream",
     "text": [
      "Model Training:  18%|█▊        | 71/400 [09:37<44:47,  8.17s/it]"
     ]
    },
    {
     "name": "stdout",
     "output_type": "stream",
     "text": [
      "Epoch:    71 | Train Loss: 0.23482149722985923| Train MAE: 3.0205468237400055 | Test Loss: 0.048070118558825925| Test MAE: 0.6108433846384287  | LR: 9.320653479069902e-05\n"
     ]
    },
    {
     "name": "stderr",
     "output_type": "stream",
     "text": [
      "Model Training:  18%|█▊        | 72/400 [09:45<44:28,  8.14s/it]"
     ]
    },
    {
     "name": "stdout",
     "output_type": "stream",
     "text": [
      "Epoch:    72 | Train Loss: 0.23515767673961818| Train MAE: 3.0397797971963882 | Test Loss: 0.05041114496998489| Test MAE: 0.6799135291948915  | LR: 9.320653479069902e-05\n"
     ]
    },
    {
     "name": "stderr",
     "output_type": "stream",
     "text": [
      "Model Training:  18%|█▊        | 73/400 [09:53<44:27,  8.16s/it]"
     ]
    },
    {
     "name": "stdout",
     "output_type": "stream",
     "text": [
      "Epoch:    73 | Train Loss: 0.2333852769806981| Train MAE: 3.013675380498171 | Test Loss: 0.048201332887401804| Test MAE: 0.6242949040606618  | LR: 9.320653479069902e-05\n"
     ]
    },
    {
     "name": "stderr",
     "output_type": "stream",
     "text": [
      "Model Training:  18%|█▊        | 74/400 [10:02<44:23,  8.17s/it]"
     ]
    },
    {
     "name": "stdout",
     "output_type": "stream",
     "text": [
      "Epoch:    74 | Train Loss: 0.23340402077883482| Train MAE: 3.0212069898843765 | Test Loss: 0.050873565254732966| Test MAE: 0.6849877648055553  | LR: 9.320653479069902e-05\n"
     ]
    },
    {
     "name": "stderr",
     "output_type": "stream",
     "text": [
      "Model Training:  19%|█▉        | 75/400 [10:10<44:19,  8.18s/it]"
     ]
    },
    {
     "name": "stdout",
     "output_type": "stream",
     "text": [
      "Epoch:    75 | Train Loss: 0.23177437705453485| Train MAE: 2.995509572327137 | Test Loss: 0.052164166409056634| Test MAE: 0.7300487365573645  | LR: 9.320653479069902e-05\n"
     ]
    },
    {
     "name": "stderr",
     "output_type": "stream",
     "text": [
      "Model Training:  19%|█▉        | 76/400 [10:18<44:08,  8.17s/it]"
     ]
    },
    {
     "name": "stdout",
     "output_type": "stream",
     "text": [
      "Epoch:    76 | Train Loss: 0.23059393058065325| Train MAE: 2.984797440469265 | Test Loss: 0.04998715239344165| Test MAE: 0.6649263110011816  | LR: 9.320653479069902e-05\n"
     ]
    },
    {
     "name": "stderr",
     "output_type": "stream",
     "text": [
      "Model Training:  19%|█▉        | 77/400 [10:26<44:10,  8.21s/it]"
     ]
    },
    {
     "name": "stdout",
     "output_type": "stream",
     "text": [
      "Epoch:    77 | Train Loss: 0.23116069205570966| Train MAE: 2.9896455351263285 | Test Loss: 0.04916596953989938| Test MAE: 0.6634622877463698  | LR: 9.320653479069902e-05\n"
     ]
    },
    {
     "name": "stderr",
     "output_type": "stream",
     "text": [
      "Model Training:  20%|█▉        | 78/400 [10:35<44:12,  8.24s/it]"
     ]
    },
    {
     "name": "stdout",
     "output_type": "stream",
     "text": [
      "Epoch:    78 | Train Loss: 0.22975808521732688| Train MAE: 2.966199705377221 | Test Loss: 0.05048991378862411| Test MAE: 0.6776771787554026  | LR: 9.320653479069902e-05\n"
     ]
    },
    {
     "name": "stderr",
     "output_type": "stream",
     "text": [
      "Model Training:  20%|█▉        | 79/400 [10:43<44:15,  8.27s/it]"
     ]
    },
    {
     "name": "stdout",
     "output_type": "stream",
     "text": [
      "Epoch:    79 | Train Loss: 0.2283697066595778| Train MAE: 2.9589739106595516 | Test Loss: 0.052494201401714236| Test MAE: 0.7405559774488211  | LR: 9.320653479069902e-05\n"
     ]
    },
    {
     "name": "stderr",
     "output_type": "stream",
     "text": [
      "Model Training:  20%|██        | 80/400 [10:51<44:05,  8.27s/it]"
     ]
    },
    {
     "name": "stdout",
     "output_type": "stream",
     "text": [
      "Epoch:    80 | Train Loss: 0.22823077777866274| Train MAE: 2.9593275878578424 | Test Loss: 0.047340197052108124| Test MAE: 0.6177606964483857  | LR: 9.227446944279203e-05\n"
     ]
    },
    {
     "name": "stderr",
     "output_type": "stream",
     "text": [
      "Model Training:  20%|██        | 81/400 [10:59<44:01,  8.28s/it]"
     ]
    },
    {
     "name": "stdout",
     "output_type": "stream",
     "text": [
      "Epoch:    81 | Train Loss: 0.22699799202382565| Train MAE: 2.9352316707372665 | Test Loss: 0.04743057020823471| Test MAE: 0.6210748972371221  | LR: 9.227446944279203e-05\n"
     ]
    },
    {
     "name": "stderr",
     "output_type": "stream",
     "text": [
      "Model Training:  20%|██        | 82/400 [11:08<43:47,  8.26s/it]"
     ]
    },
    {
     "name": "stdout",
     "output_type": "stream",
     "text": [
      "Epoch:    82 | Train Loss: 0.22582690615672618| Train MAE: 2.9235008768737316 | Test Loss: 0.04935725039104| Test MAE: 0.6607624366879463  | LR: 9.227446944279203e-05\n"
     ]
    },
    {
     "name": "stderr",
     "output_type": "stream",
     "text": [
      "Model Training:  21%|██        | 83/400 [11:16<43:22,  8.21s/it]"
     ]
    },
    {
     "name": "stdout",
     "output_type": "stream",
     "text": [
      "Epoch:    83 | Train Loss: 0.22485996887553483| Train MAE: 2.9119019117206335 | Test Loss: 0.04953286255476996| Test MAE: 0.6737544666975737  | LR: 9.227446944279203e-05\n"
     ]
    },
    {
     "name": "stderr",
     "output_type": "stream",
     "text": [
      "Model Training:  21%|██        | 84/400 [11:24<43:08,  8.19s/it]"
     ]
    },
    {
     "name": "stdout",
     "output_type": "stream",
     "text": [
      "Epoch:    84 | Train Loss: 0.22421013237908483| Train MAE: 2.900087395682931 | Test Loss: 0.050570102932397276| Test MAE: 0.7013867013156414  | LR: 9.227446944279203e-05\n"
     ]
    },
    {
     "name": "stderr",
     "output_type": "stream",
     "text": [
      "Model Training:  21%|██▏       | 85/400 [11:32<42:56,  8.18s/it]"
     ]
    },
    {
     "name": "stdout",
     "output_type": "stream",
     "text": [
      "Epoch:    85 | Train Loss: 0.22400270076468587| Train MAE: 2.917786955833435 | Test Loss: 0.04812516298261471| Test MAE: 0.6519905664026737  | LR: 9.227446944279203e-05\n"
     ]
    },
    {
     "name": "stderr",
     "output_type": "stream",
     "text": [
      "Model Training:  22%|██▏       | 86/400 [11:40<42:42,  8.16s/it]"
     ]
    },
    {
     "name": "stdout",
     "output_type": "stream",
     "text": [
      "Epoch:    86 | Train Loss: 0.22284084151033312| Train MAE: 2.883122958242893 | Test Loss: 0.04766133040538989| Test MAE: 0.6326914057135582  | LR: 9.227446944279203e-05\n"
     ]
    },
    {
     "name": "stderr",
     "output_type": "stream",
     "text": [
      "Model Training:  22%|██▏       | 87/400 [11:48<42:23,  8.13s/it]"
     ]
    },
    {
     "name": "stdout",
     "output_type": "stream",
     "text": [
      "Epoch:    87 | Train Loss: 0.2220805559772998| Train MAE: 2.879477435722947 | Test Loss: 0.04962921910919249| Test MAE: 0.687462056055665  | LR: 9.227446944279203e-05\n"
     ]
    },
    {
     "name": "stderr",
     "output_type": "stream",
     "text": [
      "Model Training:  22%|██▏       | 88/400 [11:56<42:18,  8.14s/it]"
     ]
    },
    {
     "name": "stdout",
     "output_type": "stream",
     "text": [
      "Epoch:    88 | Train Loss: 0.22067604877520353| Train MAE: 2.853494979441166 | Test Loss: 0.047077559982426465| Test MAE: 0.6244814116507769  | LR: 9.227446944279203e-05\n"
     ]
    },
    {
     "name": "stderr",
     "output_type": "stream",
     "text": [
      "Model Training:  22%|██▏       | 89/400 [12:05<42:15,  8.15s/it]"
     ]
    },
    {
     "name": "stdout",
     "output_type": "stream",
     "text": [
      "Epoch:    89 | Train Loss: 0.22010425408370793| Train MAE: 2.848547551780939 | Test Loss: 0.050513238937128335| Test MAE: 0.6962268957868218  | LR: 9.227446944279203e-05\n"
     ]
    },
    {
     "name": "stderr",
     "output_type": "stream",
     "text": [
      "Model Training:  22%|██▎       | 90/400 [12:13<42:08,  8.16s/it]"
     ]
    },
    {
     "name": "stdout",
     "output_type": "stream",
     "text": [
      "Epoch:    90 | Train Loss: 0.21938683232292533| Train MAE: 2.843281762674451 | Test Loss: 0.049395038455259055| Test MAE: 0.668376567773521  | LR: 9.13517247483641e-05\n"
     ]
    },
    {
     "name": "stderr",
     "output_type": "stream",
     "text": [
      "Model Training:  23%|██▎       | 91/400 [12:21<42:09,  8.18s/it]"
     ]
    },
    {
     "name": "stdout",
     "output_type": "stream",
     "text": [
      "Epoch:    91 | Train Loss: 0.218968894216232| Train MAE: 2.8446970712393522 | Test Loss: 0.046458896569674835| Test MAE: 0.6084668776020408  | LR: 9.13517247483641e-05\n"
     ]
    },
    {
     "name": "stderr",
     "output_type": "stream",
     "text": [
      "Model Training:  23%|██▎       | 92/400 [12:29<42:01,  8.19s/it]"
     ]
    },
    {
     "name": "stdout",
     "output_type": "stream",
     "text": [
      "Epoch:    92 | Train Loss: 0.21888306108303368| Train MAE: 2.850841438397765 | Test Loss: 0.049022550316294655| Test MAE: 0.6712632738053799  | LR: 9.13517247483641e-05\n"
     ]
    },
    {
     "name": "stderr",
     "output_type": "stream",
     "text": [
      "Model Training:  23%|██▎       | 93/400 [12:37<41:45,  8.16s/it]"
     ]
    },
    {
     "name": "stdout",
     "output_type": "stream",
     "text": [
      "Epoch:    93 | Train Loss: 0.21887951029930264| Train MAE: 2.843362893909216 | Test Loss: 0.04953623915207572| Test MAE: 0.7013363549485803  | LR: 9.13517247483641e-05\n"
     ]
    },
    {
     "name": "stderr",
     "output_type": "stream",
     "text": [
      "Model Training:  24%|██▎       | 94/400 [12:45<41:30,  8.14s/it]"
     ]
    },
    {
     "name": "stdout",
     "output_type": "stream",
     "text": [
      "Epoch:    94 | Train Loss: 0.21789761923719198| Train MAE: 2.8259077295660973 | Test Loss: 0.047852493211394176| Test MAE: 0.6681747110560536  | LR: 9.13517247483641e-05\n"
     ]
    },
    {
     "name": "stderr",
     "output_type": "stream",
     "text": [
      "Model Training:  24%|██▍       | 95/400 [12:53<41:13,  8.11s/it]"
     ]
    },
    {
     "name": "stdout",
     "output_type": "stream",
     "text": [
      "Epoch:    95 | Train Loss: 0.21692607831209898| Train MAE: 2.8033350482583046 | Test Loss: 0.04889303294476122| Test MAE: 0.6741765681654215  | LR: 9.13517247483641e-05\n"
     ]
    },
    {
     "name": "stderr",
     "output_type": "stream",
     "text": [
      "Model Training:  24%|██▍       | 96/400 [13:02<41:06,  8.11s/it]"
     ]
    },
    {
     "name": "stdout",
     "output_type": "stream",
     "text": [
      "Epoch:    96 | Train Loss: 0.2159325168468058| Train MAE: 2.7991147078573704 | Test Loss: 0.047620366036426276| Test MAE: 0.6470714081078768  | LR: 9.13517247483641e-05\n"
     ]
    },
    {
     "name": "stderr",
     "output_type": "stream",
     "text": [
      "Model Training:  24%|██▍       | 97/400 [13:10<41:05,  8.14s/it]"
     ]
    },
    {
     "name": "stdout",
     "output_type": "stream",
     "text": [
      "Epoch:    97 | Train Loss: 0.21567284455522895| Train MAE: 2.801048144698143 | Test Loss: 0.048912176163867116| Test MAE: 0.6694925278425217  | LR: 9.13517247483641e-05\n"
     ]
    },
    {
     "name": "stderr",
     "output_type": "stream",
     "text": [
      "Model Training:  24%|██▍       | 98/400 [13:18<41:03,  8.16s/it]"
     ]
    },
    {
     "name": "stdout",
     "output_type": "stream",
     "text": [
      "Epoch:    98 | Train Loss: 0.21554382040631026| Train MAE: 2.788941903039813 | Test Loss: 0.047660276119131595| Test MAE: 0.6486895326524973  | LR: 9.13517247483641e-05\n"
     ]
    },
    {
     "name": "stderr",
     "output_type": "stream",
     "text": [
      "Model Training:  25%|██▍       | 99/400 [13:26<40:44,  8.12s/it]"
     ]
    },
    {
     "name": "stdout",
     "output_type": "stream",
     "text": [
      "Epoch:    99 | Train Loss: 0.21509002661332488| Train MAE: 2.7913019079715014 | Test Loss: 0.04787654534447938| Test MAE: 0.6514058075845242  | LR: 9.13517247483641e-05\n"
     ]
    },
    {
     "name": "stderr",
     "output_type": "stream",
     "text": [
      "Model Training:  25%|██▌       | 100/400 [13:34<40:48,  8.16s/it]"
     ]
    },
    {
     "name": "stdout",
     "output_type": "stream",
     "text": [
      "Epoch:   100 | Train Loss: 0.21403762337286025| Train MAE: 2.7756590750068426 | Test Loss: 0.04631467041326687| Test MAE: 0.6407886035740376  | LR: 9.043820750088047e-05\n"
     ]
    },
    {
     "name": "stderr",
     "output_type": "stream",
     "text": [
      "Model Training:  25%|██▌       | 101/400 [13:42<40:33,  8.14s/it]"
     ]
    },
    {
     "name": "stdout",
     "output_type": "stream",
     "text": [
      "Epoch:   101 | Train Loss: 0.2137196552939713| Train MAE: 2.7646132297813892 | Test Loss: 0.04777024587383494| Test MAE: 0.6515027740970254  | LR: 9.043820750088047e-05\n"
     ]
    },
    {
     "name": "stderr",
     "output_type": "stream",
     "text": [
      "Model Training:  26%|██▌       | 102/400 [13:51<40:25,  8.14s/it]"
     ]
    },
    {
     "name": "stdout",
     "output_type": "stream",
     "text": [
      "Epoch:   102 | Train Loss: 0.21345274173654616| Train MAE: 2.770733892917633 | Test Loss: 0.052111657918430865| Test MAE: 0.7455031154677272  | LR: 9.043820750088047e-05\n"
     ]
    },
    {
     "name": "stderr",
     "output_type": "stream",
     "text": [
      "Model Training:  26%|██▌       | 103/400 [13:59<40:14,  8.13s/it]"
     ]
    },
    {
     "name": "stdout",
     "output_type": "stream",
     "text": [
      "Epoch:   103 | Train Loss: 0.21281283756252378| Train MAE: 2.758924525231123 | Test Loss: 0.04956083168508485| Test MAE: 0.6902862982824445  | LR: 9.043820750088047e-05\n"
     ]
    },
    {
     "name": "stderr",
     "output_type": "stream",
     "text": [
      "Model Training:  26%|██▌       | 104/400 [14:07<40:09,  8.14s/it]"
     ]
    },
    {
     "name": "stdout",
     "output_type": "stream",
     "text": [
      "Epoch:   104 | Train Loss: 0.21253062959294766| Train MAE: 2.751097835600376 | Test Loss: 0.04840462206630036| Test MAE: 0.6728434972465038  | LR: 9.043820750088047e-05\n"
     ]
    },
    {
     "name": "stderr",
     "output_type": "stream",
     "text": [
      "Model Training:  26%|██▋       | 105/400 [14:15<40:10,  8.17s/it]"
     ]
    },
    {
     "name": "stdout",
     "output_type": "stream",
     "text": [
      "Epoch:   105 | Train Loss: 0.2113398548681289| Train MAE: 2.7298238947987556 | Test Loss: 0.04509681058698334| Test MAE: 0.5891841584816575  | LR: 9.043820750088047e-05\n"
     ]
    },
    {
     "name": "stderr",
     "output_type": "stream",
     "text": [
      "Model Training:  26%|██▋       | 106/400 [14:23<40:08,  8.19s/it]"
     ]
    },
    {
     "name": "stdout",
     "output_type": "stream",
     "text": [
      "Epoch:   106 | Train Loss: 0.21048865548800677| Train MAE: 2.719054628163576 | Test Loss: 0.0487102945917286| Test MAE: 0.6936494307592511  | LR: 9.043820750088047e-05\n"
     ]
    },
    {
     "name": "stderr",
     "output_type": "stream",
     "text": [
      "Model Training:  27%|██▋       | 107/400 [14:31<39:48,  8.15s/it]"
     ]
    },
    {
     "name": "stdout",
     "output_type": "stream",
     "text": [
      "Epoch:   107 | Train Loss: 0.20985729130916297| Train MAE: 2.7066484168171883 | Test Loss: 0.047880187252303585| Test MAE: 0.6594213088974357  | LR: 9.043820750088047e-05\n"
     ]
    },
    {
     "name": "stderr",
     "output_type": "stream",
     "text": [
      "Model Training:  27%|██▋       | 108/400 [14:39<39:37,  8.14s/it]"
     ]
    },
    {
     "name": "stdout",
     "output_type": "stream",
     "text": [
      "Epoch:   108 | Train Loss: 0.2102994634769857| Train MAE: 2.7238223794847727 | Test Loss: 0.0471043883881066| Test MAE: 0.6485328581184149  | LR: 9.043820750088047e-05\n"
     ]
    },
    {
     "name": "stderr",
     "output_type": "stream",
     "text": [
      "Model Training:  27%|██▋       | 109/400 [14:48<39:25,  8.13s/it]"
     ]
    },
    {
     "name": "stdout",
     "output_type": "stream",
     "text": [
      "Epoch:   109 | Train Loss: 0.20971875346731395| Train MAE: 2.7037221398204565 | Test Loss: 0.048035026411525905| Test MAE: 0.6810104558244348  | LR: 9.043820750088047e-05\n"
     ]
    },
    {
     "name": "stderr",
     "output_type": "stream",
     "text": [
      "Model Training:  28%|██▊       | 110/400 [14:56<39:20,  8.14s/it]"
     ]
    },
    {
     "name": "stdout",
     "output_type": "stream",
     "text": [
      "Epoch:   110 | Train Loss: 0.2101979044964537| Train MAE: 2.7194666899740696 | Test Loss: 0.04777512836153619| Test MAE: 0.678592843003571  | LR: 8.953382542587167e-05\n"
     ]
    },
    {
     "name": "stderr",
     "output_type": "stream",
     "text": [
      "Model Training:  28%|██▊       | 111/400 [15:04<39:02,  8.11s/it]"
     ]
    },
    {
     "name": "stdout",
     "output_type": "stream",
     "text": [
      "Epoch:   111 | Train Loss: 0.20856081263627857| Train MAE: 2.6886635534465313 | Test Loss: 0.047310057358117774| Test MAE: 0.6450391095131636  | LR: 8.953382542587167e-05\n"
     ]
    },
    {
     "name": "stderr",
     "output_type": "stream",
     "text": [
      "Model Training:  28%|██▊       | 112/400 [15:12<38:56,  8.11s/it]"
     ]
    },
    {
     "name": "stdout",
     "output_type": "stream",
     "text": [
      "Epoch:   112 | Train Loss: 0.20772835006937385| Train MAE: 2.6881505865603685 | Test Loss: 0.049684388330206275| Test MAE: 0.6933496966958046  | LR: 8.953382542587167e-05\n"
     ]
    },
    {
     "name": "stderr",
     "output_type": "stream",
     "text": [
      "Model Training:  28%|██▊       | 113/400 [15:20<38:55,  8.14s/it]"
     ]
    },
    {
     "name": "stdout",
     "output_type": "stream",
     "text": [
      "Epoch:   113 | Train Loss: 0.2092914030654356| Train MAE: 2.7153862230479717 | Test Loss: 0.04727201708010398| Test MAE: 0.645626550540328  | LR: 8.953382542587167e-05\n"
     ]
    },
    {
     "name": "stderr",
     "output_type": "stream",
     "text": [
      "Model Training:  28%|██▊       | 114/400 [15:28<38:54,  8.16s/it]"
     ]
    },
    {
     "name": "stdout",
     "output_type": "stream",
     "text": [
      "Epoch:   114 | Train Loss: 0.20784042542800307| Train MAE: 2.682406935840845 | Test Loss: 0.04808490409050137| Test MAE: 0.6920964885503054  | LR: 8.953382542587167e-05\n"
     ]
    },
    {
     "name": "stderr",
     "output_type": "stream",
     "text": [
      "Model Training:  29%|██▉       | 115/400 [15:36<38:51,  8.18s/it]"
     ]
    },
    {
     "name": "stdout",
     "output_type": "stream",
     "text": [
      "Epoch:   115 | Train Loss: 0.20788006822112948| Train MAE: 2.695581004023552 | Test Loss: 0.0503305708989501| Test MAE: 0.6970389280468225  | LR: 8.953382542587167e-05\n"
     ]
    },
    {
     "name": "stderr",
     "output_type": "stream",
     "text": [
      "Model Training:  29%|██▉       | 116/400 [15:45<38:41,  8.17s/it]"
     ]
    },
    {
     "name": "stdout",
     "output_type": "stream",
     "text": [
      "Epoch:   116 | Train Loss: 0.20797302341088653| Train MAE: 2.700898429378867 | Test Loss: 0.047502907749731094| Test MAE: 0.6769669558852911  | LR: 8.953382542587167e-05\n"
     ]
    },
    {
     "name": "stderr",
     "output_type": "stream",
     "text": [
      "Model Training:  29%|██▉       | 117/400 [15:53<38:37,  8.19s/it]"
     ]
    },
    {
     "name": "stdout",
     "output_type": "stream",
     "text": [
      "Epoch:   117 | Train Loss: 0.20779387734364718| Train MAE: 2.6960469614714384 | Test Loss: 0.04806692752754316| Test MAE: 0.6667928239330649  | LR: 8.953382542587167e-05\n"
     ]
    },
    {
     "name": "stderr",
     "output_type": "stream",
     "text": [
      "Model Training:  30%|██▉       | 118/400 [16:01<38:33,  8.20s/it]"
     ]
    },
    {
     "name": "stdout",
     "output_type": "stream",
     "text": [
      "Epoch:   118 | Train Loss: 0.20675069896969944| Train MAE: 2.670606253668666 | Test Loss: 0.04786129874992184| Test MAE: 0.6690003853291273  | LR: 8.953382542587167e-05\n"
     ]
    },
    {
     "name": "stderr",
     "output_type": "stream",
     "text": [
      "Model Training:  30%|██▉       | 119/400 [16:09<38:16,  8.17s/it]"
     ]
    },
    {
     "name": "stdout",
     "output_type": "stream",
     "text": [
      "Epoch:   119 | Train Loss: 0.20637706760317087| Train MAE: 2.666137555614114 | Test Loss: 0.04752936432487331| Test MAE: 0.6491129212081432  | LR: 8.953382542587167e-05\n"
     ]
    },
    {
     "name": "stderr",
     "output_type": "stream",
     "text": [
      "Model Training:  30%|███       | 120/400 [16:17<38:03,  8.16s/it]"
     ]
    },
    {
     "name": "stdout",
     "output_type": "stream",
     "text": [
      "Epoch:   120 | Train Loss: 0.2059958295430988| Train MAE: 2.660610005259514 | Test Loss: 0.04591557779349387| Test MAE: 0.6251190798357129  | LR: 8.863848717161295e-05\n"
     ]
    },
    {
     "name": "stderr",
     "output_type": "stream",
     "text": [
      "Model Training:  30%|███       | 121/400 [16:25<37:51,  8.14s/it]"
     ]
    },
    {
     "name": "stdout",
     "output_type": "stream",
     "text": [
      "Epoch:   121 | Train Loss: 0.20499314478365704| Train MAE: 2.6355635970830917 | Test Loss: 0.047271344024920836| Test MAE: 0.6517399121075869  | LR: 8.863848717161295e-05\n"
     ]
    },
    {
     "name": "stderr",
     "output_type": "stream",
     "text": [
      "Model Training:  30%|███       | 122/400 [16:34<37:46,  8.15s/it]"
     ]
    },
    {
     "name": "stdout",
     "output_type": "stream",
     "text": [
      "Epoch:   122 | Train Loss: 0.20509069983381778| Train MAE: 2.638471709564328 | Test Loss: 0.045714419131400064| Test MAE: 0.6269942428916693  | LR: 8.863848717161295e-05\n"
     ]
    },
    {
     "name": "stderr",
     "output_type": "stream",
     "text": [
      "Model Training:  31%|███       | 123/400 [16:42<37:40,  8.16s/it]"
     ]
    },
    {
     "name": "stdout",
     "output_type": "stream",
     "text": [
      "Epoch:   123 | Train Loss: 0.20472915732534602| Train MAE: 2.6366058066487312 | Test Loss: 0.04599495226284489| Test MAE: 0.60072872787714  | LR: 8.863848717161295e-05\n"
     ]
    },
    {
     "name": "stderr",
     "output_type": "stream",
     "text": [
      "Model Training:  31%|███       | 124/400 [16:50<37:31,  8.16s/it]"
     ]
    },
    {
     "name": "stdout",
     "output_type": "stream",
     "text": [
      "Epoch:   124 | Train Loss: 0.20514035923406482| Train MAE: 2.6377966459840536 | Test Loss: 0.046433743671514094| Test MAE: 0.6411036672070622  | LR: 8.863848717161295e-05\n"
     ]
    },
    {
     "name": "stderr",
     "output_type": "stream",
     "text": [
      "Model Training:  31%|███▏      | 125/400 [16:58<37:22,  8.15s/it]"
     ]
    },
    {
     "name": "stdout",
     "output_type": "stream",
     "text": [
      "Epoch:   125 | Train Loss: 0.20459301199298352| Train MAE: 2.6489802449941635 | Test Loss: 0.04618370093521662| Test MAE: 0.6499992944300175  | LR: 8.863848717161295e-05\n"
     ]
    },
    {
     "name": "stderr",
     "output_type": "stream",
     "text": [
      "Model Training:  32%|███▏      | 126/400 [17:06<37:05,  8.12s/it]"
     ]
    },
    {
     "name": "stdout",
     "output_type": "stream",
     "text": [
      "Epoch:   126 | Train Loss: 0.20409446593839675| Train MAE: 2.626028811559081 | Test Loss: 0.04718666142434813| Test MAE: 0.6408425122499466  | LR: 8.863848717161295e-05\n"
     ]
    },
    {
     "name": "stderr",
     "output_type": "stream",
     "text": [
      "Model Training:  32%|███▏      | 127/400 [17:14<37:01,  8.14s/it]"
     ]
    },
    {
     "name": "stdout",
     "output_type": "stream",
     "text": [
      "Epoch:   127 | Train Loss: 0.2036846959963441| Train MAE: 2.6194338388741016 | Test Loss: 0.04716263338923454| Test MAE: 0.6617346499115229  | LR: 8.863848717161295e-05\n"
     ]
    },
    {
     "name": "stderr",
     "output_type": "stream",
     "text": [
      "Model Training:  32%|███▏      | 128/400 [17:23<36:58,  8.16s/it]"
     ]
    },
    {
     "name": "stdout",
     "output_type": "stream",
     "text": [
      "Epoch:   128 | Train Loss: 0.2045431244187057| Train MAE: 2.6296310760080814 | Test Loss: 0.04566561745014042| Test MAE: 0.6101019438356161  | LR: 8.863848717161295e-05\n"
     ]
    },
    {
     "name": "stderr",
     "output_type": "stream",
     "text": [
      "Model Training:  32%|███▏      | 129/400 [17:31<36:52,  8.16s/it]"
     ]
    },
    {
     "name": "stdout",
     "output_type": "stream",
     "text": [
      "Epoch:   129 | Train Loss: 0.20435405510943383| Train MAE: 2.6304571013897657 | Test Loss: 0.04615545875276439| Test MAE: 0.6268024919554591  | LR: 8.863848717161295e-05\n"
     ]
    },
    {
     "name": "stderr",
     "output_type": "stream",
     "text": [
      "Model Training:  32%|███▎      | 130/400 [17:39<36:35,  8.13s/it]"
     ]
    },
    {
     "name": "stdout",
     "output_type": "stream",
     "text": [
      "Epoch:   130 | Train Loss: 0.20286336285062134| Train MAE: 2.600392470136285 | Test Loss: 0.048246751102851704| Test MAE: 0.698136885650456  | LR: 8.775210229989682e-05\n"
     ]
    },
    {
     "name": "stderr",
     "output_type": "stream",
     "text": [
      "Model Training:  33%|███▎      | 131/400 [17:47<36:34,  8.16s/it]"
     ]
    },
    {
     "name": "stdout",
     "output_type": "stream",
     "text": [
      "Epoch:   131 | Train Loss: 0.20255501463543624| Train MAE: 2.6014786809682846 | Test Loss: 0.045300616417080164| Test MAE: 0.6314939120784402  | LR: 8.775210229989682e-05\n"
     ]
    },
    {
     "name": "stderr",
     "output_type": "stream",
     "text": [
      "Model Training:  33%|███▎      | 132/400 [17:55<36:42,  8.22s/it]"
     ]
    },
    {
     "name": "stdout",
     "output_type": "stream",
     "text": [
      "Epoch:   132 | Train Loss: 0.20239171292632818| Train MAE: 2.5923311300575733 | Test Loss: 0.04683037259383127| Test MAE: 0.6228680480271578  | LR: 8.775210229989682e-05\n"
     ]
    },
    {
     "name": "stderr",
     "output_type": "stream",
     "text": [
      "Model Training:  33%|███▎      | 133/400 [18:04<36:41,  8.25s/it]"
     ]
    },
    {
     "name": "stdout",
     "output_type": "stream",
     "text": [
      "Epoch:   133 | Train Loss: 0.20185152359772474| Train MAE: 2.592084214091301 | Test Loss: 0.04618193133501336| Test MAE: 0.6496263844892383  | LR: 8.775210229989682e-05\n"
     ]
    },
    {
     "name": "stderr",
     "output_type": "stream",
     "text": [
      "Model Training:  34%|███▎      | 134/400 [18:12<36:25,  8.22s/it]"
     ]
    },
    {
     "name": "stdout",
     "output_type": "stream",
     "text": [
      "Epoch:   134 | Train Loss: 0.20166212087497115| Train MAE: 2.5956549625843763 | Test Loss: 0.04635561705799773| Test MAE: 0.6156530594453216  | LR: 8.775210229989682e-05\n"
     ]
    },
    {
     "name": "stderr",
     "output_type": "stream",
     "text": [
      "Model Training:  34%|███▍      | 135/400 [18:20<36:10,  8.19s/it]"
     ]
    },
    {
     "name": "stdout",
     "output_type": "stream",
     "text": [
      "Epoch:   135 | Train Loss: 0.20198073564097285| Train MAE: 2.5965692903846502 | Test Loss: 0.04604311188450083| Test MAE: 0.6235352624207735  | LR: 8.775210229989682e-05\n"
     ]
    },
    {
     "name": "stderr",
     "output_type": "stream",
     "text": [
      "Model Training:  34%|███▍      | 136/400 [18:28<35:55,  8.17s/it]"
     ]
    },
    {
     "name": "stdout",
     "output_type": "stream",
     "text": [
      "Epoch:   136 | Train Loss: 0.20160027779638767| Train MAE: 2.5953104589134455 | Test Loss: 0.045239947678055614| Test MAE: 0.612918977625668  | LR: 8.775210229989682e-05\n"
     ]
    },
    {
     "name": "stderr",
     "output_type": "stream",
     "text": [
      "Model Training:  34%|███▍      | 137/400 [18:36<35:44,  8.16s/it]"
     ]
    },
    {
     "name": "stdout",
     "output_type": "stream",
     "text": [
      "Epoch:   137 | Train Loss: 0.20203267713077366| Train MAE: 2.6115970108658075 | Test Loss: 0.04761820170097053| Test MAE: 0.6827595066279173  | LR: 8.775210229989682e-05\n"
     ]
    },
    {
     "name": "stderr",
     "output_type": "stream",
     "text": [
      "Model Training:  34%|███▍      | 138/400 [18:44<35:25,  8.11s/it]"
     ]
    },
    {
     "name": "stdout",
     "output_type": "stream",
     "text": [
      "Epoch:   138 | Train Loss: 0.20221530634444207| Train MAE: 2.6069924850016832 | Test Loss: 0.04607981498702429| Test MAE: 0.6355004236102104  | LR: 8.775210229989682e-05\n"
     ]
    },
    {
     "name": "stderr",
     "output_type": "stream",
     "text": [
      "Model Training:  35%|███▍      | 139/400 [18:52<35:17,  8.11s/it]"
     ]
    },
    {
     "name": "stdout",
     "output_type": "stream",
     "text": [
      "Epoch:   139 | Train Loss: 0.20127304550260305| Train MAE: 2.5806041080504656 | Test Loss: 0.045586201769765466| Test MAE: 0.6237867400050163  | LR: 8.775210229989682e-05\n"
     ]
    },
    {
     "name": "stderr",
     "output_type": "stream",
     "text": [
      "Model Training:  35%|███▌      | 140/400 [19:00<35:06,  8.10s/it]"
     ]
    },
    {
     "name": "stdout",
     "output_type": "stream",
     "text": [
      "Epoch:   140 | Train Loss: 0.20059214427601546| Train MAE: 2.592250233516097 | Test Loss: 0.04729479653178714| Test MAE: 0.6685559917241335  | LR: 8.687458127689785e-05\n"
     ]
    },
    {
     "name": "stderr",
     "output_type": "stream",
     "text": [
      "Model Training:  35%|███▌      | 141/400 [19:08<35:01,  8.11s/it]"
     ]
    },
    {
     "name": "stdout",
     "output_type": "stream",
     "text": [
      "Epoch:   141 | Train Loss: 0.20005267357919365| Train MAE: 2.5707223527133465 | Test Loss: 0.04483494980377145| Test MAE: 0.6011665584519506  | LR: 8.687458127689785e-05\n"
     ]
    },
    {
     "name": "stderr",
     "output_type": "stream",
     "text": [
      "Model Training:  36%|███▌      | 142/400 [19:17<34:50,  8.10s/it]"
     ]
    },
    {
     "name": "stdout",
     "output_type": "stream",
     "text": [
      "Epoch:   142 | Train Loss: 0.20048451842740178| Train MAE: 2.586615527048707 | Test Loss: 0.0447461313160602| Test MAE: 0.6066960403695703  | LR: 8.687458127689785e-05\n"
     ]
    },
    {
     "name": "stderr",
     "output_type": "stream",
     "text": [
      "Model Training:  36%|███▌      | 143/400 [19:25<34:40,  8.09s/it]"
     ]
    },
    {
     "name": "stdout",
     "output_type": "stream",
     "text": [
      "Epoch:   143 | Train Loss: 0.20001266920007765| Train MAE: 2.5721559450030327 | Test Loss: 0.04669629834825173| Test MAE: 0.6564795132726431  | LR: 8.687458127689785e-05\n"
     ]
    },
    {
     "name": "stderr",
     "output_type": "stream",
     "text": [
      "Model Training:  36%|███▌      | 144/400 [19:33<34:31,  8.09s/it]"
     ]
    },
    {
     "name": "stdout",
     "output_type": "stream",
     "text": [
      "Epoch:   144 | Train Loss: 0.19991002359893173| Train MAE: 2.565244510769844 | Test Loss: 0.04626686076517217| Test MAE: 0.64167713932693  | LR: 8.687458127689785e-05\n"
     ]
    },
    {
     "name": "stderr",
     "output_type": "stream",
     "text": [
      "Model Training:  36%|███▋      | 145/400 [19:41<34:26,  8.10s/it]"
     ]
    },
    {
     "name": "stdout",
     "output_type": "stream",
     "text": [
      "Epoch:   145 | Train Loss: 0.19968905672430992| Train MAE: 2.5605238899588585 | Test Loss: 0.046710535942111164| Test MAE: 0.660878793336451  | LR: 8.687458127689785e-05\n"
     ]
    },
    {
     "name": "stderr",
     "output_type": "stream",
     "text": [
      "Model Training:  36%|███▋      | 146/400 [19:49<34:19,  8.11s/it]"
     ]
    },
    {
     "name": "stdout",
     "output_type": "stream",
     "text": [
      "Epoch:   146 | Train Loss: 0.19991278799716383| Train MAE: 2.576486587524414 | Test Loss: 0.04656274797162041| Test MAE: 0.6514587495476007  | LR: 8.687458127689785e-05\n"
     ]
    },
    {
     "name": "stderr",
     "output_type": "stream",
     "text": [
      "Model Training:  37%|███▋      | 147/400 [19:57<34:10,  8.11s/it]"
     ]
    },
    {
     "name": "stdout",
     "output_type": "stream",
     "text": [
      "Epoch:   147 | Train Loss: 0.1997519771102816| Train MAE: 2.5800078753381968 | Test Loss: 0.04526683618314564| Test MAE: 0.6111089708283544  | LR: 8.687458127689785e-05\n"
     ]
    },
    {
     "name": "stderr",
     "output_type": "stream",
     "text": [
      "Model Training:  37%|███▋      | 148/400 [20:05<34:03,  8.11s/it]"
     ]
    },
    {
     "name": "stdout",
     "output_type": "stream",
     "text": [
      "Epoch:   148 | Train Loss: 0.19897703267633915| Train MAE: 2.551991578191519 | Test Loss: 0.04937322164187208| Test MAE: 0.7116171671077609  | LR: 8.687458127689785e-05\n"
     ]
    },
    {
     "name": "stderr",
     "output_type": "stream",
     "text": [
      "Model Training:  37%|███▋      | 149/400 [20:13<33:55,  8.11s/it]"
     ]
    },
    {
     "name": "stdout",
     "output_type": "stream",
     "text": [
      "Epoch:   149 | Train Loss: 0.19861680932808667| Train MAE: 2.5567678436636925 | Test Loss: 0.045569272188004106| Test MAE: 0.6270659668371081  | LR: 8.687458127689785e-05\n"
     ]
    },
    {
     "name": "stderr",
     "output_type": "stream",
     "text": [
      "Model Training:  38%|███▊      | 150/400 [20:21<33:49,  8.12s/it]"
     ]
    },
    {
     "name": "stdout",
     "output_type": "stream",
     "text": [
      "Epoch:   150 | Train Loss: 0.1980894596199505| Train MAE: 2.541183967143297 | Test Loss: 0.04560273405513726| Test MAE: 0.6272127144038677  | LR: 8.600583546412887e-05\n"
     ]
    },
    {
     "name": "stderr",
     "output_type": "stream",
     "text": [
      "Model Training:  38%|███▊      | 151/400 [20:30<33:43,  8.13s/it]"
     ]
    },
    {
     "name": "stdout",
     "output_type": "stream",
     "text": [
      "Epoch:   151 | Train Loss: 0.1978843822143972| Train MAE: 2.5368946585804224 | Test Loss: 0.04479324689600617| Test MAE: 0.6025959178805351  | LR: 8.600583546412887e-05\n"
     ]
    },
    {
     "name": "stderr",
     "output_type": "stream",
     "text": [
      "Model Training:  38%|███▊      | 152/400 [20:38<33:33,  8.12s/it]"
     ]
    },
    {
     "name": "stdout",
     "output_type": "stream",
     "text": [
      "Epoch:   152 | Train Loss: 0.19875367591157556| Train MAE: 2.5479521099478006 | Test Loss: 0.04474693501833826| Test MAE: 0.597707886248827  | LR: 8.600583546412887e-05\n"
     ]
    },
    {
     "name": "stderr",
     "output_type": "stream",
     "text": [
      "Model Training:  38%|███▊      | 153/400 [20:46<33:23,  8.11s/it]"
     ]
    },
    {
     "name": "stdout",
     "output_type": "stream",
     "text": [
      "Epoch:   153 | Train Loss: 0.19812363700475544| Train MAE: 2.5549042262136936 | Test Loss: 0.04740972531726584| Test MAE: 0.6653932770714164  | LR: 8.600583546412887e-05\n"
     ]
    },
    {
     "name": "stderr",
     "output_type": "stream",
     "text": [
      "Model Training:  38%|███▊      | 154/400 [20:54<33:15,  8.11s/it]"
     ]
    },
    {
     "name": "stdout",
     "output_type": "stream",
     "text": [
      "Epoch:   154 | Train Loss: 0.19804099760949612| Train MAE: 2.5494619626551867 | Test Loss: 0.04467839631251991| Test MAE: 0.6221702322363853  | LR: 8.600583546412887e-05\n"
     ]
    },
    {
     "name": "stderr",
     "output_type": "stream",
     "text": [
      "Model Training:  39%|███▉      | 155/400 [21:02<33:05,  8.10s/it]"
     ]
    },
    {
     "name": "stdout",
     "output_type": "stream",
     "text": [
      "Epoch:   155 | Train Loss: 0.19721356697846204| Train MAE: 2.5345386061817408 | Test Loss: 0.045613630645675585| Test MAE: 0.6244042459875345  | LR: 8.600583546412887e-05\n"
     ]
    },
    {
     "name": "stderr",
     "output_type": "stream",
     "text": [
      "Model Training:  39%|███▉      | 156/400 [21:10<33:01,  8.12s/it]"
     ]
    },
    {
     "name": "stdout",
     "output_type": "stream",
     "text": [
      "Epoch:   156 | Train Loss: 0.19975307444110513| Train MAE: 2.566573528572917 | Test Loss: 0.044379711674991995| Test MAE: 0.5965960528701544  | LR: 8.600583546412887e-05\n"
     ]
    },
    {
     "name": "stderr",
     "output_type": "stream",
     "text": [
      "Model Training:  39%|███▉      | 157/400 [21:18<32:52,  8.12s/it]"
     ]
    },
    {
     "name": "stdout",
     "output_type": "stream",
     "text": [
      "Epoch:   157 | Train Loss: 0.19777908426476642| Train MAE: 2.544716013595462 | Test Loss: 0.04501468053786084| Test MAE: 0.6130683748051524  | LR: 8.600583546412887e-05\n"
     ]
    },
    {
     "name": "stderr",
     "output_type": "stream",
     "text": [
      "Model Training:  40%|███▉      | 158/400 [21:26<32:36,  8.09s/it]"
     ]
    },
    {
     "name": "stdout",
     "output_type": "stream",
     "text": [
      "Epoch:   158 | Train Loss: 0.19767447718186304| Train MAE: 2.543992572464049 | Test Loss: 0.04672436587861739| Test MAE: 0.6509371921420097  | LR: 8.600583546412887e-05\n"
     ]
    },
    {
     "name": "stderr",
     "output_type": "stream",
     "text": [
      "Model Training:  40%|███▉      | 159/400 [21:34<32:27,  8.08s/it]"
     ]
    },
    {
     "name": "stdout",
     "output_type": "stream",
     "text": [
      "Epoch:   159 | Train Loss: 0.19628634629771113| Train MAE: 2.5114657804369926 | Test Loss: 0.04521460403339006| Test MAE: 0.6144748004153371  | LR: 8.600583546412887e-05\n"
     ]
    },
    {
     "name": "stderr",
     "output_type": "stream",
     "text": [
      "Model Training:  40%|████      | 160/400 [21:42<32:21,  8.09s/it]"
     ]
    },
    {
     "name": "stdout",
     "output_type": "stream",
     "text": [
      "Epoch:   160 | Train Loss: 0.1956301800091751| Train MAE: 2.510580430738628 | Test Loss: 0.04501501956838183| Test MAE: 0.6224778695032  | LR: 8.514577710948758e-05\n"
     ]
    },
    {
     "name": "stderr",
     "output_type": "stream",
     "text": [
      "Model Training:  40%|████      | 161/400 [21:50<32:10,  8.08s/it]"
     ]
    },
    {
     "name": "stdout",
     "output_type": "stream",
     "text": [
      "Epoch:   161 | Train Loss: 0.19701177964452654| Train MAE: 2.5427811685949564 | Test Loss: 0.04467450562515296| Test MAE: 0.5944785587489605  | LR: 8.514577710948758e-05\n"
     ]
    },
    {
     "name": "stderr",
     "output_type": "stream",
     "text": [
      "Model Training:  40%|████      | 162/400 [21:59<32:07,  8.10s/it]"
     ]
    },
    {
     "name": "stdout",
     "output_type": "stream",
     "text": [
      "Epoch:   162 | Train Loss: 0.1962475599721074| Train MAE: 2.5315167643129826 | Test Loss: 0.04419702113955282| Test MAE: 0.5666475594043732  | LR: 8.514577710948758e-05\n"
     ]
    },
    {
     "name": "stderr",
     "output_type": "stream",
     "text": [
      "Model Training:  41%|████      | 163/400 [22:07<31:58,  8.09s/it]"
     ]
    },
    {
     "name": "stdout",
     "output_type": "stream",
     "text": [
      "Epoch:   163 | Train Loss: 0.19464483810588717| Train MAE: 2.498235311359167 | Test Loss: 0.04494896391406655| Test MAE: 0.6303739687427878  | LR: 8.514577710948758e-05\n"
     ]
    },
    {
     "name": "stderr",
     "output_type": "stream",
     "text": [
      "Model Training:  41%|████      | 164/400 [22:15<31:49,  8.09s/it]"
     ]
    },
    {
     "name": "stdout",
     "output_type": "stream",
     "text": [
      "Epoch:   164 | Train Loss: 0.19530647434294224| Train MAE: 2.5022668726742268 | Test Loss: 0.045629867672687396| Test MAE: 0.6216645874083042  | LR: 8.514577710948758e-05\n"
     ]
    },
    {
     "name": "stderr",
     "output_type": "stream",
     "text": [
      "Model Training:  41%|████▏     | 165/400 [22:23<31:36,  8.07s/it]"
     ]
    },
    {
     "name": "stdout",
     "output_type": "stream",
     "text": [
      "Epoch:   165 | Train Loss: 0.19512517243856564| Train MAE: 2.507521082647145 | Test Loss: 0.046287695004139096| Test MAE: 0.6537764985114336  | LR: 8.514577710948758e-05\n"
     ]
    },
    {
     "name": "stderr",
     "output_type": "stream",
     "text": [
      "Model Training:  42%|████▏     | 166/400 [22:31<31:27,  8.06s/it]"
     ]
    },
    {
     "name": "stdout",
     "output_type": "stream",
     "text": [
      "Epoch:   166 | Train Loss: 0.19530863629188389| Train MAE: 2.5107853608205914 | Test Loss: 0.04565948617528193| Test MAE: 0.6374192023649812  | LR: 8.514577710948758e-05\n"
     ]
    },
    {
     "name": "stderr",
     "output_type": "stream",
     "text": [
      "Model Training:  42%|████▏     | 167/400 [22:39<31:21,  8.08s/it]"
     ]
    },
    {
     "name": "stdout",
     "output_type": "stream",
     "text": [
      "Epoch:   167 | Train Loss: 0.1956449918798171| Train MAE: 2.5106654362753034 | Test Loss: 0.045328908192459494| Test MAE: 0.6303477650508285  | LR: 8.514577710948758e-05\n"
     ]
    },
    {
     "name": "stderr",
     "output_type": "stream",
     "text": [
      "Model Training:  42%|████▏     | 168/400 [22:47<31:14,  8.08s/it]"
     ]
    },
    {
     "name": "stdout",
     "output_type": "stream",
     "text": [
      "Epoch:   168 | Train Loss: 0.19504188443534076| Train MAE: 2.511712707579136 | Test Loss: 0.046456250303890556| Test MAE: 0.6617881180718541  | LR: 8.514577710948758e-05\n"
     ]
    },
    {
     "name": "stderr",
     "output_type": "stream",
     "text": [
      "Model Training:  42%|████▏     | 169/400 [22:55<31:07,  8.08s/it]"
     ]
    },
    {
     "name": "stdout",
     "output_type": "stream",
     "text": [
      "Epoch:   169 | Train Loss: 0.19431428331881762| Train MAE: 2.501815527677536 | Test Loss: 0.04417500027921051| Test MAE: 0.6083184638991952  | LR: 8.514577710948758e-05\n"
     ]
    },
    {
     "name": "stderr",
     "output_type": "stream",
     "text": [
      "Model Training:  42%|████▎     | 170/400 [23:03<30:57,  8.08s/it]"
     ]
    },
    {
     "name": "stdout",
     "output_type": "stream",
     "text": [
      "Epoch:   170 | Train Loss: 0.1942589710233733| Train MAE: 2.5025754338130355 | Test Loss: 0.044861077272798866| Test MAE: 0.6144502693787217  | LR: 8.429431933839271e-05\n"
     ]
    },
    {
     "name": "stderr",
     "output_type": "stream",
     "text": [
      "Model Training:  43%|████▎     | 171/400 [23:11<30:49,  8.08s/it]"
     ]
    },
    {
     "name": "stdout",
     "output_type": "stream",
     "text": [
      "Epoch:   171 | Train Loss: 0.1936980498721823| Train MAE: 2.483353842049837 | Test Loss: 0.0452075450157281| Test MAE: 0.6344700530171394  | LR: 8.429431933839271e-05\n"
     ]
    },
    {
     "name": "stderr",
     "output_type": "stream",
     "text": [
      "Model Training:  43%|████▎     | 172/400 [23:19<30:46,  8.10s/it]"
     ]
    },
    {
     "name": "stdout",
     "output_type": "stream",
     "text": [
      "Epoch:   172 | Train Loss: 0.19406783464364707| Train MAE: 2.4992593927308917 | Test Loss: 0.04352566387387924| Test MAE: 0.5640074322000146  | LR: 8.429431933839271e-05\n"
     ]
    },
    {
     "name": "stderr",
     "output_type": "stream",
     "text": [
      "Model Training:  43%|████▎     | 173/400 [23:27<30:33,  8.08s/it]"
     ]
    },
    {
     "name": "stdout",
     "output_type": "stream",
     "text": [
      "Epoch:   173 | Train Loss: 0.1934199023526162| Train MAE: 2.485706077888608 | Test Loss: 0.043681369395926595| Test MAE: 0.5968902548775077  | LR: 8.429431933839271e-05\n"
     ]
    },
    {
     "name": "stderr",
     "output_type": "stream",
     "text": [
      "Model Training:  44%|████▎     | 174/400 [23:36<30:27,  8.08s/it]"
     ]
    },
    {
     "name": "stdout",
     "output_type": "stream",
     "text": [
      "Epoch:   174 | Train Loss: 0.19342287571635097| Train MAE: 2.475538019090891 | Test Loss: 0.04441031609894708| Test MAE: 0.6192092327401042  | LR: 8.429431933839271e-05\n"
     ]
    },
    {
     "name": "stderr",
     "output_type": "stream",
     "text": [
      "Model Training:  44%|████▍     | 175/400 [23:44<30:24,  8.11s/it]"
     ]
    },
    {
     "name": "stdout",
     "output_type": "stream",
     "text": [
      "Epoch:   175 | Train Loss: 0.19388467899989337| Train MAE: 2.4905459079891443 | Test Loss: 0.04464932973496616| Test MAE: 0.6032358920201659  | LR: 8.429431933839271e-05\n"
     ]
    },
    {
     "name": "stderr",
     "output_type": "stream",
     "text": [
      "Model Training:  44%|████▍     | 176/400 [23:52<30:24,  8.15s/it]"
     ]
    },
    {
     "name": "stdout",
     "output_type": "stream",
     "text": [
      "Epoch:   176 | Train Loss: 0.19314296299126| Train MAE: 2.484245137311518 | Test Loss: 0.04275067735579796| Test MAE: 0.5736075267195702  | LR: 8.429431933839271e-05\n"
     ]
    },
    {
     "name": "stderr",
     "output_type": "stream",
     "text": [
      "Model Training:  44%|████▍     | 177/400 [24:00<30:07,  8.11s/it]"
     ]
    },
    {
     "name": "stdout",
     "output_type": "stream",
     "text": [
      "Epoch:   177 | Train Loss: 0.19323847390478477| Train MAE: 2.486064841039479 | Test Loss: 0.043479582585860044| Test MAE: 0.593233535066247  | LR: 8.429431933839271e-05\n"
     ]
    },
    {
     "name": "stderr",
     "output_type": "stream",
     "text": [
      "Model Training:  44%|████▍     | 178/400 [24:08<29:58,  8.10s/it]"
     ]
    },
    {
     "name": "stdout",
     "output_type": "stream",
     "text": [
      "Epoch:   178 | Train Loss: 0.19270045246230438| Train MAE: 2.4667426561936736 | Test Loss: 0.04351498038158752| Test MAE: 0.6083396784961224  | LR: 8.429431933839271e-05\n"
     ]
    },
    {
     "name": "stderr",
     "output_type": "stream",
     "text": [
      "Model Training:  45%|████▍     | 179/400 [24:16<29:49,  8.10s/it]"
     ]
    },
    {
     "name": "stdout",
     "output_type": "stream",
     "text": [
      "Epoch:   179 | Train Loss: 0.1933430276112631| Train MAE: 2.4901960967108607 | Test Loss: 0.04501771234208718| Test MAE: 0.6328799668699503  | LR: 8.429431933839271e-05\n"
     ]
    },
    {
     "name": "stderr",
     "output_type": "stream",
     "text": [
      "Model Training:  45%|████▌     | 180/400 [24:24<29:43,  8.11s/it]"
     ]
    },
    {
     "name": "stdout",
     "output_type": "stream",
     "text": [
      "Epoch:   180 | Train Loss: 0.1926148469792679| Train MAE: 2.4735909197479486 | Test Loss: 0.04387629035045393| Test MAE: 0.6019149972125888  | LR: 8.345137614500879e-05\n"
     ]
    },
    {
     "name": "stderr",
     "output_type": "stream",
     "text": [
      "Model Training:  45%|████▌     | 181/400 [24:32<29:29,  8.08s/it]"
     ]
    },
    {
     "name": "stdout",
     "output_type": "stream",
     "text": [
      "Epoch:   181 | Train Loss: 0.19235407712403685| Train MAE: 2.459826037287712 | Test Loss: 0.04438475298229605| Test MAE: 0.5870504835620522  | LR: 8.345137614500879e-05\n"
     ]
    },
    {
     "name": "stderr",
     "output_type": "stream",
     "text": [
      "Model Training:  46%|████▌     | 182/400 [24:40<29:21,  8.08s/it]"
     ]
    },
    {
     "name": "stdout",
     "output_type": "stream",
     "text": [
      "Epoch:   182 | Train Loss: 0.1931413890561089| Train MAE: 2.4780727913603187 | Test Loss: 0.044723045983118936| Test MAE: 0.613511891104281  | LR: 8.345137614500879e-05\n"
     ]
    },
    {
     "name": "stderr",
     "output_type": "stream",
     "text": [
      "Model Training:  46%|████▌     | 183/400 [24:48<29:14,  8.09s/it]"
     ]
    },
    {
     "name": "stdout",
     "output_type": "stream",
     "text": [
      "Epoch:   183 | Train Loss: 0.1924850011128001| Train MAE: 2.4701273944228888 | Test Loss: 0.043390282458858564| Test MAE: 0.5827152170240879  | LR: 8.345137614500879e-05\n"
     ]
    },
    {
     "name": "stderr",
     "output_type": "stream",
     "text": [
      "Model Training:  46%|████▌     | 184/400 [24:57<29:12,  8.12s/it]"
     ]
    },
    {
     "name": "stdout",
     "output_type": "stream",
     "text": [
      "Epoch:   184 | Train Loss: 0.19250829773955047| Train MAE: 2.4866425348445773 | Test Loss: 0.043537001591175795| Test MAE: 0.5836640261113644  | LR: 8.345137614500879e-05\n"
     ]
    },
    {
     "name": "stderr",
     "output_type": "stream",
     "text": [
      "Model Training:  46%|████▋     | 185/400 [25:05<29:01,  8.10s/it]"
     ]
    },
    {
     "name": "stdout",
     "output_type": "stream",
     "text": [
      "Epoch:   185 | Train Loss: 0.19117436348460615| Train MAE: 2.443059602752328 | Test Loss: 0.04381651169387624| Test MAE: 0.6025705421343446  | LR: 8.345137614500879e-05\n"
     ]
    },
    {
     "name": "stderr",
     "output_type": "stream",
     "text": [
      "Model Training:  46%|████▋     | 186/400 [25:13<28:59,  8.13s/it]"
     ]
    },
    {
     "name": "stdout",
     "output_type": "stream",
     "text": [
      "Epoch:   186 | Train Loss: 0.19213054177816957| Train MAE: 2.4788958644494414 | Test Loss: 0.04300475414493121| Test MAE: 0.5492192823439837  | LR: 8.345137614500879e-05\n"
     ]
    },
    {
     "name": "stderr",
     "output_type": "stream",
     "text": [
      "Model Training:  47%|████▋     | 187/400 [25:21<28:48,  8.12s/it]"
     ]
    },
    {
     "name": "stdout",
     "output_type": "stream",
     "text": [
      "Epoch:   187 | Train Loss: 0.19120887614553794| Train MAE: 2.453403813764453 | Test Loss: 0.04281424023793079| Test MAE: 0.570176562294364  | LR: 8.345137614500879e-05\n"
     ]
    },
    {
     "name": "stderr",
     "output_type": "stream",
     "text": [
      "Model Training:  47%|████▋     | 188/400 [25:29<28:38,  8.11s/it]"
     ]
    },
    {
     "name": "stdout",
     "output_type": "stream",
     "text": [
      "Epoch:   188 | Train Loss: 0.19187015580246225| Train MAE: 2.4572278428822756 | Test Loss: 0.04402493801899254| Test MAE: 0.600808915682137  | LR: 8.345137614500879e-05\n"
     ]
    },
    {
     "name": "stderr",
     "output_type": "stream",
     "text": [
      "Model Training:  47%|████▋     | 189/400 [25:37<28:28,  8.10s/it]"
     ]
    },
    {
     "name": "stdout",
     "output_type": "stream",
     "text": [
      "Epoch:   189 | Train Loss: 0.1911280124913901| Train MAE: 2.438006203621626 | Test Loss: 0.043640467076329514| Test MAE: 0.5961810229346156  | LR: 8.345137614500879e-05\n"
     ]
    },
    {
     "name": "stderr",
     "output_type": "stream",
     "text": [
      "Model Training:  48%|████▊     | 190/400 [25:45<28:26,  8.13s/it]"
     ]
    },
    {
     "name": "stdout",
     "output_type": "stream",
     "text": [
      "Epoch:   190 | Train Loss: 0.19180701609002426| Train MAE: 2.4549846407026052 | Test Loss: 0.044240976276341826| Test MAE: 0.5986443385481834  | LR: 8.26168623835587e-05\n"
     ]
    },
    {
     "name": "stderr",
     "output_type": "stream",
     "text": [
      "Model Training:  48%|████▊     | 191/400 [25:53<28:15,  8.11s/it]"
     ]
    },
    {
     "name": "stdout",
     "output_type": "stream",
     "text": [
      "Epoch:   191 | Train Loss: 0.19142411305801943| Train MAE: 2.457194898277521 | Test Loss: 0.045243646833114326| Test MAE: 0.6149885505437851  | LR: 8.26168623835587e-05\n"
     ]
    },
    {
     "name": "stderr",
     "output_type": "stream",
     "text": [
      "Model Training:  48%|████▊     | 192/400 [26:02<28:07,  8.11s/it]"
     ]
    },
    {
     "name": "stdout",
     "output_type": "stream",
     "text": [
      "Epoch:   192 | Train Loss: 0.19034897116944194| Train MAE: 2.433564178645611 | Test Loss: 0.044537675683386624| Test MAE: 0.6040103444829583  | LR: 8.26168623835587e-05\n"
     ]
    },
    {
     "name": "stderr",
     "output_type": "stream",
     "text": [
      "Model Training:  48%|████▊     | 193/400 [26:10<27:57,  8.10s/it]"
     ]
    },
    {
     "name": "stdout",
     "output_type": "stream",
     "text": [
      "Epoch:   193 | Train Loss: 0.19104717153823003| Train MAE: 2.447945329360664 | Test Loss: 0.0425643619382754| Test MAE: 0.5725293671712279  | LR: 8.26168623835587e-05\n"
     ]
    },
    {
     "name": "stderr",
     "output_type": "stream",
     "text": [
      "Model Training:  48%|████▊     | 194/400 [26:18<27:47,  8.10s/it]"
     ]
    },
    {
     "name": "stdout",
     "output_type": "stream",
     "text": [
      "Epoch:   194 | Train Loss: 0.19119895907351747| Train MAE: 2.4426062144339085 | Test Loss: 0.04454914227244444| Test MAE: 0.6257925629615784  | LR: 8.26168623835587e-05\n"
     ]
    },
    {
     "name": "stderr",
     "output_type": "stream",
     "text": [
      "Model Training:  49%|████▉     | 195/400 [26:26<27:45,  8.13s/it]"
     ]
    },
    {
     "name": "stdout",
     "output_type": "stream",
     "text": [
      "Epoch:   195 | Train Loss: 0.19011588772991672| Train MAE: 2.4226131634786725 | Test Loss: 0.04353897710097954| Test MAE: 0.5764328725636005  | LR: 8.26168623835587e-05\n"
     ]
    },
    {
     "name": "stderr",
     "output_type": "stream",
     "text": [
      "Model Training:  49%|████▉     | 196/400 [26:34<27:37,  8.12s/it]"
     ]
    },
    {
     "name": "stdout",
     "output_type": "stream",
     "text": [
      "Epoch:   196 | Train Loss: 0.19109729054616764| Train MAE: 2.44241950660944 | Test Loss: 0.04186066705733538| Test MAE: 0.543481376953423  | LR: 8.26168623835587e-05\n"
     ]
    },
    {
     "name": "stderr",
     "output_type": "stream",
     "text": [
      "Model Training:  49%|████▉     | 197/400 [26:42<27:24,  8.10s/it]"
     ]
    },
    {
     "name": "stdout",
     "output_type": "stream",
     "text": [
      "Epoch:   197 | Train Loss: 0.189924540463835| Train MAE: 2.4256949899718165 | Test Loss: 0.04271537240128964| Test MAE: 0.5708243707194924  | LR: 8.26168623835587e-05\n"
     ]
    },
    {
     "name": "stderr",
     "output_type": "stream",
     "text": [
      "Model Training:  50%|████▉     | 198/400 [26:50<27:17,  8.11s/it]"
     ]
    },
    {
     "name": "stdout",
     "output_type": "stream",
     "text": [
      "Epoch:   198 | Train Loss: 0.1902204044163227| Train MAE: 2.4309338442981243 | Test Loss: 0.04394370940281078| Test MAE: 0.6005709208548069  | LR: 8.26168623835587e-05\n"
     ]
    },
    {
     "name": "stderr",
     "output_type": "stream",
     "text": [
      "Model Training:  50%|████▉     | 199/400 [26:58<27:11,  8.12s/it]"
     ]
    },
    {
     "name": "stdout",
     "output_type": "stream",
     "text": [
      "Epoch:   199 | Train Loss: 0.19066674663918093| Train MAE: 2.4463951233774424 | Test Loss: 0.04270115797407925| Test MAE: 0.5904389070346951  | LR: 8.26168623835587e-05\n"
     ]
    },
    {
     "name": "stderr",
     "output_type": "stream",
     "text": [
      "Model Training:  50%|█████     | 200/400 [27:06<26:57,  8.09s/it]"
     ]
    },
    {
     "name": "stdout",
     "output_type": "stream",
     "text": [
      "Epoch:   200 | Train Loss: 0.19055424991529435| Train MAE: 2.430132764391601 | Test Loss: 0.04401246056659147| Test MAE: 0.6107913423329592  | LR: 8.17906937597231e-05\n"
     ]
    },
    {
     "name": "stderr",
     "output_type": "stream",
     "text": [
      "Model Training:  50%|█████     | 201/400 [27:15<26:52,  8.10s/it]"
     ]
    },
    {
     "name": "stdout",
     "output_type": "stream",
     "text": [
      "Epoch:   201 | Train Loss: 0.1902348246658221| Train MAE: 2.4285274175927043 | Test Loss: 0.04470123411738314| Test MAE: 0.6294347057119012  | LR: 8.17906937597231e-05\n"
     ]
    },
    {
     "name": "stderr",
     "output_type": "stream",
     "text": [
      "Model Training:  50%|█████     | 202/400 [27:23<26:43,  8.10s/it]"
     ]
    },
    {
     "name": "stdout",
     "output_type": "stream",
     "text": [
      "Epoch:   202 | Train Loss: 0.1895972476922907| Train MAE: 2.4250332033261657 | Test Loss: 0.04332381111453287| Test MAE: 0.5825400706380606  | LR: 8.17906937597231e-05\n"
     ]
    },
    {
     "name": "stderr",
     "output_type": "stream",
     "text": [
      "Model Training:  51%|█████     | 203/400 [27:31<26:36,  8.10s/it]"
     ]
    },
    {
     "name": "stdout",
     "output_type": "stream",
     "text": [
      "Epoch:   203 | Train Loss: 0.19028673006687313| Train MAE: 2.438287677243352 | Test Loss: 0.04353752121096477| Test MAE: 0.6020896062254906  | LR: 8.17906937597231e-05\n"
     ]
    },
    {
     "name": "stderr",
     "output_type": "stream",
     "text": [
      "Model Training:  51%|█████     | 204/400 [27:39<26:22,  8.07s/it]"
     ]
    },
    {
     "name": "stdout",
     "output_type": "stream",
     "text": [
      "Epoch:   204 | Train Loss: 0.18998433684464544| Train MAE: 2.4292631186544895 | Test Loss: 0.04388588387519121| Test MAE: 0.5865712929517031  | LR: 8.17906937597231e-05\n"
     ]
    },
    {
     "name": "stderr",
     "output_type": "stream",
     "text": [
      "Model Training:  51%|█████▏    | 205/400 [27:47<26:21,  8.11s/it]"
     ]
    },
    {
     "name": "stdout",
     "output_type": "stream",
     "text": [
      "Epoch:   205 | Train Loss: 0.18901902512880042| Train MAE: 2.41243539750576 | Test Loss: 0.04316728698904626| Test MAE: 0.577385694719851  | LR: 8.17906937597231e-05\n"
     ]
    },
    {
     "name": "stderr",
     "output_type": "stream",
     "text": [
      "Model Training:  52%|█████▏    | 206/400 [27:55<26:20,  8.14s/it]"
     ]
    },
    {
     "name": "stdout",
     "output_type": "stream",
     "text": [
      "Epoch:   206 | Train Loss: 0.18975975253852084| Train MAE: 2.4233639473095536 | Test Loss: 0.043506891262950376| Test MAE: 0.6029193485155702  | LR: 8.17906937597231e-05\n"
     ]
    },
    {
     "name": "stderr",
     "output_type": "stream",
     "text": [
      "Model Training:  52%|█████▏    | 207/400 [28:03<26:12,  8.15s/it]"
     ]
    },
    {
     "name": "stdout",
     "output_type": "stream",
     "text": [
      "Epoch:   207 | Train Loss: 0.18971570045687258| Train MAE: 2.4191187601536512 | Test Loss: 0.04267089886707254| Test MAE: 0.5841150470077991  | LR: 8.17906937597231e-05\n"
     ]
    },
    {
     "name": "stderr",
     "output_type": "stream",
     "text": [
      "Model Training:  52%|█████▏    | 208/400 [28:11<26:01,  8.13s/it]"
     ]
    },
    {
     "name": "stdout",
     "output_type": "stream",
     "text": [
      "Epoch:   208 | Train Loss: 0.18912811361951753| Train MAE: 2.417635646648705 | Test Loss: 0.043622775177937| Test MAE: 0.6047814767807722  | LR: 8.17906937597231e-05\n"
     ]
    },
    {
     "name": "stderr",
     "output_type": "stream",
     "text": [
      "Model Training:  52%|█████▏    | 209/400 [28:19<25:50,  8.12s/it]"
     ]
    },
    {
     "name": "stdout",
     "output_type": "stream",
     "text": [
      "Epoch:   209 | Train Loss: 0.1897426653886214| Train MAE: 2.429786012507975 | Test Loss: 0.04418853190145455| Test MAE: 0.6101610027253628  | LR: 8.17906937597231e-05\n"
     ]
    },
    {
     "name": "stderr",
     "output_type": "stream",
     "text": [
      "Model Training:  52%|█████▎    | 210/400 [28:28<25:41,  8.11s/it]"
     ]
    },
    {
     "name": "stdout",
     "output_type": "stream",
     "text": [
      "Epoch:   210 | Train Loss: 0.18908463488332927| Train MAE: 2.422856423072517 | Test Loss: 0.04313740454381332| Test MAE: 0.5750816119834781  | LR: 8.097278682212587e-05\n"
     ]
    },
    {
     "name": "stderr",
     "output_type": "stream",
     "text": [
      "Model Training:  53%|█████▎    | 211/400 [28:36<25:33,  8.12s/it]"
     ]
    },
    {
     "name": "stdout",
     "output_type": "stream",
     "text": [
      "Epoch:   211 | Train Loss: 0.18960862333187833| Train MAE: 2.417692548595369 | Test Loss: 0.04378309243475087| Test MAE: 0.6003056988120079  | LR: 8.097278682212587e-05\n"
     ]
    },
    {
     "name": "stderr",
     "output_type": "stream",
     "text": [
      "Model Training:  53%|█████▎    | 212/400 [28:44<25:21,  8.09s/it]"
     ]
    },
    {
     "name": "stdout",
     "output_type": "stream",
     "text": [
      "Epoch:   212 | Train Loss: 0.18908737902529538| Train MAE: 2.4106220826506615 | Test Loss: 0.044002378825098276| Test MAE: 0.5936097428202629  | LR: 8.097278682212587e-05\n"
     ]
    },
    {
     "name": "stderr",
     "output_type": "stream",
     "text": [
      "Model Training:  53%|█████▎    | 213/400 [28:52<25:15,  8.10s/it]"
     ]
    },
    {
     "name": "stdout",
     "output_type": "stream",
     "text": [
      "Epoch:   213 | Train Loss: 0.1892241015448235| Train MAE: 2.429061803035438 | Test Loss: 0.0441678854112979| Test MAE: 0.5798435481265187  | LR: 8.097278682212587e-05\n"
     ]
    },
    {
     "name": "stderr",
     "output_type": "stream",
     "text": [
      "Model Training:  54%|█████▎    | 214/400 [29:00<25:05,  8.09s/it]"
     ]
    },
    {
     "name": "stdout",
     "output_type": "stream",
     "text": [
      "Epoch:   214 | Train Loss: 0.18881108175264671| Train MAE: 2.4112632796168327 | Test Loss: 0.04330233036307618| Test MAE: 0.5583097720518708  | LR: 8.097278682212587e-05\n"
     ]
    },
    {
     "name": "stderr",
     "output_type": "stream",
     "text": [
      "Model Training:  54%|█████▍    | 215/400 [29:08<24:56,  8.09s/it]"
     ]
    },
    {
     "name": "stdout",
     "output_type": "stream",
     "text": [
      "Epoch:   215 | Train Loss: 0.18835929018678144| Train MAE: 2.41773403249681 | Test Loss: 0.043084616685518995| Test MAE: 0.592886152677238  | LR: 8.097278682212587e-05\n"
     ]
    },
    {
     "name": "stderr",
     "output_type": "stream",
     "text": [
      "Model Training:  54%|█████▍    | 216/400 [29:16<24:43,  8.07s/it]"
     ]
    },
    {
     "name": "stdout",
     "output_type": "stream",
     "text": [
      "Epoch:   216 | Train Loss: 0.18818746251054108| Train MAE: 2.3947425168007612 | Test Loss: 0.0436803002958186| Test MAE: 0.5999520793557167  | LR: 8.097278682212587e-05\n"
     ]
    },
    {
     "name": "stderr",
     "output_type": "stream",
     "text": [
      "Model Training:  54%|█████▍    | 217/400 [29:24<24:38,  8.08s/it]"
     ]
    },
    {
     "name": "stdout",
     "output_type": "stream",
     "text": [
      "Epoch:   217 | Train Loss: 0.1884272878523916| Train MAE: 2.40368315204978 | Test Loss: 0.04447367382817902| Test MAE: 0.6145731816068292  | LR: 8.097278682212587e-05\n"
     ]
    },
    {
     "name": "stderr",
     "output_type": "stream",
     "text": [
      "Model Training:  55%|█████▍    | 218/400 [29:32<24:31,  8.08s/it]"
     ]
    },
    {
     "name": "stdout",
     "output_type": "stream",
     "text": [
      "Epoch:   218 | Train Loss: 0.187795860983897| Train MAE: 2.3905702363699675 | Test Loss: 0.04194772496703081| Test MAE: 0.5580971939489245  | LR: 8.097278682212587e-05\n"
     ]
    },
    {
     "name": "stderr",
     "output_type": "stream",
     "text": [
      "Model Training:  55%|█████▍    | 219/400 [29:40<24:29,  8.12s/it]"
     ]
    },
    {
     "name": "stdout",
     "output_type": "stream",
     "text": [
      "Epoch:   219 | Train Loss: 0.1879509404534474| Train MAE: 2.3873434774577618 | Test Loss: 0.04484243242768571| Test MAE: 0.6354504181072116  | LR: 8.097278682212587e-05\n"
     ]
    },
    {
     "name": "stderr",
     "output_type": "stream",
     "text": [
      "Model Training:  55%|█████▌    | 220/400 [29:48<24:14,  8.08s/it]"
     ]
    },
    {
     "name": "stdout",
     "output_type": "stream",
     "text": [
      "Epoch:   220 | Train Loss: 0.18846743780886754| Train MAE: 2.395738367922604 | Test Loss: 0.04257804510416463| Test MAE: 0.5475149350240827  | LR: 8.016305895390461e-05\n"
     ]
    },
    {
     "name": "stderr",
     "output_type": "stream",
     "text": [
      "Model Training:  55%|█████▌    | 221/400 [29:57<24:06,  8.08s/it]"
     ]
    },
    {
     "name": "stdout",
     "output_type": "stream",
     "text": [
      "Epoch:   221 | Train Loss: 0.1882689869380556| Train MAE: 2.40224324259907 | Test Loss: 0.04453829565318301| Test MAE: 0.6096648648381233  | LR: 8.016305895390461e-05\n"
     ]
    },
    {
     "name": "stderr",
     "output_type": "stream",
     "text": [
      "Model Training:  56%|█████▌    | 222/400 [30:05<23:58,  8.08s/it]"
     ]
    },
    {
     "name": "stdout",
     "output_type": "stream",
     "text": [
      "Epoch:   222 | Train Loss: 0.18720129498979077| Train MAE: 2.3810061076655984 | Test Loss: 0.043130166857736185| Test MAE: 0.5735880890861154  | LR: 8.016305895390461e-05\n"
     ]
    },
    {
     "name": "stderr",
     "output_type": "stream",
     "text": [
      "Model Training:  56%|█████▌    | 223/400 [30:13<23:49,  8.08s/it]"
     ]
    },
    {
     "name": "stdout",
     "output_type": "stream",
     "text": [
      "Epoch:   223 | Train Loss: 0.188127611821983| Train MAE: 2.396942592225969 | Test Loss: 0.04273375927004963| Test MAE: 0.5796459866687655  | LR: 8.016305895390461e-05\n"
     ]
    },
    {
     "name": "stderr",
     "output_type": "stream",
     "text": [
      "Model Training:  56%|█████▌    | 224/400 [30:21<23:37,  8.06s/it]"
     ]
    },
    {
     "name": "stdout",
     "output_type": "stream",
     "text": [
      "Epoch:   224 | Train Loss: 0.18796425440814346| Train MAE: 2.395260490477085 | Test Loss: 0.04335340473335236| Test MAE: 0.5901430426165462  | LR: 8.016305895390461e-05\n"
     ]
    },
    {
     "name": "stderr",
     "output_type": "stream",
     "text": [
      "Model Training:  56%|█████▋    | 225/400 [30:29<23:31,  8.07s/it]"
     ]
    },
    {
     "name": "stdout",
     "output_type": "stream",
     "text": [
      "Epoch:   225 | Train Loss: 0.18761351919965819| Train MAE: 2.3732282603159547 | Test Loss: 0.04364189968327992| Test MAE: 0.6051238412037492  | LR: 8.016305895390461e-05\n"
     ]
    },
    {
     "name": "stderr",
     "output_type": "stream",
     "text": [
      "Model Training:  56%|█████▋    | 226/400 [30:37<23:25,  8.08s/it]"
     ]
    },
    {
     "name": "stdout",
     "output_type": "stream",
     "text": [
      "Epoch:   226 | Train Loss: 0.1873637058888562| Train MAE: 2.3895918065682054 | Test Loss: 0.04356274486053735| Test MAE: 0.5985400332137942  | LR: 8.016305895390461e-05\n"
     ]
    },
    {
     "name": "stderr",
     "output_type": "stream",
     "text": [
      "Model Training:  57%|█████▋    | 227/400 [30:45<23:16,  8.07s/it]"
     ]
    },
    {
     "name": "stdout",
     "output_type": "stream",
     "text": [
      "Epoch:   227 | Train Loss: 0.18836601509246975| Train MAE: 2.409899577498436 | Test Loss: 0.04443262022687122| Test MAE: 0.6200425578281283  | LR: 8.016305895390461e-05\n"
     ]
    },
    {
     "name": "stderr",
     "output_type": "stream",
     "text": [
      "Model Training:  57%|█████▋    | 228/400 [30:53<23:05,  8.06s/it]"
     ]
    },
    {
     "name": "stdout",
     "output_type": "stream",
     "text": [
      "Epoch:   228 | Train Loss: 0.18700663599884138| Train MAE: 2.371841872110963 | Test Loss: 0.04500196306616999| Test MAE: 0.6475526858121157  | LR: 8.016305895390461e-05\n"
     ]
    },
    {
     "name": "stderr",
     "output_type": "stream",
     "text": [
      "Model Training:  57%|█████▋    | 229/400 [31:01<23:00,  8.07s/it]"
     ]
    },
    {
     "name": "stdout",
     "output_type": "stream",
     "text": [
      "Epoch:   229 | Train Loss: 0.18787755398079753| Train MAE: 2.394119154661894 | Test Loss: 0.04317793287918903| Test MAE: 0.589556448161602  | LR: 8.016305895390461e-05\n"
     ]
    },
    {
     "name": "stderr",
     "output_type": "stream",
     "text": [
      "Model Training:  57%|█████▊    | 230/400 [31:09<22:59,  8.11s/it]"
     ]
    },
    {
     "name": "stdout",
     "output_type": "stream",
     "text": [
      "Epoch:   230 | Train Loss: 0.18689250841271132| Train MAE: 2.3804777758195996 | Test Loss: 0.04308630901505239| Test MAE: 0.5755565371364355  | LR: 7.936142836436556e-05\n"
     ]
    },
    {
     "name": "stderr",
     "output_type": "stream",
     "text": [
      "Model Training:  58%|█████▊    | 231/400 [31:17<22:56,  8.15s/it]"
     ]
    },
    {
     "name": "stdout",
     "output_type": "stream",
     "text": [
      "Epoch:   231 | Train Loss: 0.187054073670879| Train MAE: 2.3681291956454515 | Test Loss: 0.04183362485491671| Test MAE: 0.5522365849465132  | LR: 7.936142836436556e-05\n"
     ]
    },
    {
     "name": "stderr",
     "output_type": "stream",
     "text": [
      "Model Training:  58%|█████▊    | 232/400 [31:26<22:46,  8.13s/it]"
     ]
    },
    {
     "name": "stdout",
     "output_type": "stream",
     "text": [
      "Epoch:   232 | Train Loss: 0.18668276560492814| Train MAE: 2.3905269829556346 | Test Loss: 0.04294746438972652| Test MAE: 0.5564438886940479  | LR: 7.936142836436556e-05\n"
     ]
    },
    {
     "name": "stderr",
     "output_type": "stream",
     "text": [
      "Model Training:  58%|█████▊    | 233/400 [31:34<22:45,  8.18s/it]"
     ]
    },
    {
     "name": "stdout",
     "output_type": "stream",
     "text": [
      "Epoch:   233 | Train Loss: 0.18746666092192754| Train MAE: 2.3975741006433964 | Test Loss: 0.042719217482954264| Test MAE: 0.563911247998476  | LR: 7.936142836436556e-05\n"
     ]
    },
    {
     "name": "stderr",
     "output_type": "stream",
     "text": [
      "Model Training:  58%|█████▊    | 234/400 [31:42<22:38,  8.19s/it]"
     ]
    },
    {
     "name": "stdout",
     "output_type": "stream",
     "text": [
      "Epoch:   234 | Train Loss: 0.18664543138584122| Train MAE: 2.383977321907878 | Test Loss: 0.04383270355174318| Test MAE: 0.603007628582418  | LR: 7.936142836436556e-05\n"
     ]
    },
    {
     "name": "stderr",
     "output_type": "stream",
     "text": [
      "Model Training:  59%|█████▉    | 235/400 [31:50<22:25,  8.16s/it]"
     ]
    },
    {
     "name": "stdout",
     "output_type": "stream",
     "text": [
      "Epoch:   235 | Train Loss: 0.1870987291331403| Train MAE: 2.3811427177861333 | Test Loss: 0.04303575912490487| Test MAE: 0.5770443761721253  | LR: 7.936142836436556e-05\n"
     ]
    },
    {
     "name": "stderr",
     "output_type": "stream",
     "text": [
      "Model Training:  59%|█████▉    | 236/400 [31:58<22:11,  8.12s/it]"
     ]
    },
    {
     "name": "stdout",
     "output_type": "stream",
     "text": [
      "Epoch:   236 | Train Loss: 0.1867208526819013| Train MAE: 2.381177361123264 | Test Loss: 0.042870094621321186| Test MAE: 0.5699753994122148  | LR: 7.936142836436556e-05\n"
     ]
    },
    {
     "name": "stderr",
     "output_type": "stream",
     "text": [
      "Model Training:  59%|█████▉    | 237/400 [32:06<22:02,  8.11s/it]"
     ]
    },
    {
     "name": "stdout",
     "output_type": "stream",
     "text": [
      "Epoch:   237 | Train Loss: 0.18642174650449306| Train MAE: 2.368278148584068 | Test Loss: 0.04261156186112203| Test MAE: 0.5649199923500419  | LR: 7.936142836436556e-05\n"
     ]
    },
    {
     "name": "stderr",
     "output_type": "stream",
     "text": [
      "Model Training:  60%|█████▉    | 238/400 [32:14<21:52,  8.10s/it]"
     ]
    },
    {
     "name": "stdout",
     "output_type": "stream",
     "text": [
      "Epoch:   238 | Train Loss: 0.18721792724682018| Train MAE: 2.3831630097702146 | Test Loss: 0.04409766977187246| Test MAE: 0.6047557946294546  | LR: 7.936142836436556e-05\n"
     ]
    },
    {
     "name": "stderr",
     "output_type": "stream",
     "text": [
      "Model Training:  60%|█████▉    | 239/400 [32:22<21:43,  8.10s/it]"
     ]
    },
    {
     "name": "stdout",
     "output_type": "stream",
     "text": [
      "Epoch:   239 | Train Loss: 0.18635923851979896| Train MAE: 2.3737146044149995 | Test Loss: 0.04278989360318519| Test MAE: 0.5669349394738674  | LR: 7.936142836436556e-05\n"
     ]
    },
    {
     "name": "stderr",
     "output_type": "stream",
     "text": [
      "Model Training:  60%|██████    | 240/400 [32:31<21:37,  8.11s/it]"
     ]
    },
    {
     "name": "stdout",
     "output_type": "stream",
     "text": [
      "Epoch:   240 | Train Loss: 0.1866964302607812| Train MAE: 2.3806318221613765 | Test Loss: 0.04272252004011534| Test MAE: 0.5705747790634632  | LR: 7.856781408072191e-05\n"
     ]
    },
    {
     "name": "stderr",
     "output_type": "stream",
     "text": [
      "Model Training:  60%|██████    | 241/400 [32:39<21:29,  8.11s/it]"
     ]
    },
    {
     "name": "stdout",
     "output_type": "stream",
     "text": [
      "Epoch:   241 | Train Loss: 0.18605195468990132| Train MAE: 2.3635172564536333 | Test Loss: 0.04353287589037791| Test MAE: 0.5855676541104913  | LR: 7.856781408072191e-05\n"
     ]
    },
    {
     "name": "stderr",
     "output_type": "stream",
     "text": [
      "Model Training:  60%|██████    | 242/400 [32:47<21:21,  8.11s/it]"
     ]
    },
    {
     "name": "stdout",
     "output_type": "stream",
     "text": [
      "Epoch:   242 | Train Loss: 0.18739515607012436| Train MAE: 2.385208558291197 | Test Loss: 0.04277397497207858| Test MAE: 0.5922593111172318  | LR: 7.856781408072191e-05\n"
     ]
    },
    {
     "name": "stderr",
     "output_type": "stream",
     "text": [
      "Model Training:  61%|██████    | 243/400 [32:55<21:10,  8.09s/it]"
     ]
    },
    {
     "name": "stdout",
     "output_type": "stream",
     "text": [
      "Epoch:   243 | Train Loss: 0.18631926079979166| Train MAE: 2.3638775888830423 | Test Loss: 0.04229730778024532| Test MAE: 0.5438156491145492  | LR: 7.856781408072191e-05\n"
     ]
    },
    {
     "name": "stderr",
     "output_type": "stream",
     "text": [
      "Model Training:  61%|██████    | 244/400 [33:03<21:02,  8.09s/it]"
     ]
    },
    {
     "name": "stdout",
     "output_type": "stream",
     "text": [
      "Epoch:   244 | Train Loss: 0.1862511959625408| Train MAE: 2.3682022290304303 | Test Loss: 0.043621989025268704| Test MAE: 0.5896799005568027  | LR: 7.856781408072191e-05\n"
     ]
    },
    {
     "name": "stderr",
     "output_type": "stream",
     "text": [
      "Model Training:  61%|██████▏   | 245/400 [33:11<20:54,  8.09s/it]"
     ]
    },
    {
     "name": "stdout",
     "output_type": "stream",
     "text": [
      "Epoch:   245 | Train Loss: 0.18605544051388279| Train MAE: 2.364664778113365 | Test Loss: 0.04346378776244819| Test MAE: 0.6011675568297505  | LR: 7.856781408072191e-05\n"
     ]
    },
    {
     "name": "stderr",
     "output_type": "stream",
     "text": [
      "Model Training:  62%|██████▏   | 246/400 [33:19<20:47,  8.10s/it]"
     ]
    },
    {
     "name": "stdout",
     "output_type": "stream",
     "text": [
      "Epoch:   246 | Train Loss: 0.18605397891951725| Train MAE: 2.355348404496908 | Test Loss: 0.04367406133678742| Test MAE: 0.5625749481841922  | LR: 7.856781408072191e-05\n"
     ]
    },
    {
     "name": "stderr",
     "output_type": "stream",
     "text": [
      "Model Training:  62%|██████▏   | 247/400 [33:27<20:37,  8.09s/it]"
     ]
    },
    {
     "name": "stdout",
     "output_type": "stream",
     "text": [
      "Epoch:   247 | Train Loss: 0.18586758867604658| Train MAE: 2.3558516623452306 | Test Loss: 0.044725565414410084| Test MAE: 0.6303269490599632  | LR: 7.856781408072191e-05\n"
     ]
    },
    {
     "name": "stderr",
     "output_type": "stream",
     "text": [
      "Model Training:  62%|██████▏   | 248/400 [33:35<20:30,  8.09s/it]"
     ]
    },
    {
     "name": "stdout",
     "output_type": "stream",
     "text": [
      "Epoch:   248 | Train Loss: 0.1867217116523534| Train MAE: 2.3743021581321955 | Test Loss: 0.04242267951485701| Test MAE: 0.5699573820456862  | LR: 7.856781408072191e-05\n"
     ]
    },
    {
     "name": "stderr",
     "output_type": "stream",
     "text": [
      "Model Training:  62%|██████▏   | 249/400 [33:43<20:23,  8.10s/it]"
     ]
    },
    {
     "name": "stdout",
     "output_type": "stream",
     "text": [
      "Epoch:   249 | Train Loss: 0.18616488541010767| Train MAE: 2.3712261244654655 | Test Loss: 0.042340862011769786| Test MAE: 0.5560354143381119  | LR: 7.856781408072191e-05\n"
     ]
    },
    {
     "name": "stderr",
     "output_type": "stream",
     "text": [
      "Model Training:  62%|██████▎   | 250/400 [33:52<20:15,  8.10s/it]"
     ]
    },
    {
     "name": "stdout",
     "output_type": "stream",
     "text": [
      "Epoch:   250 | Train Loss: 0.18545433663530275| Train MAE: 2.358988710679114 | Test Loss: 0.043072255939478055| Test MAE: 0.565932278521359  | LR: 7.778213593991469e-05\n"
     ]
    },
    {
     "name": "stderr",
     "output_type": "stream",
     "text": [
      "Model Training:  63%|██████▎   | 251/400 [34:00<20:03,  8.08s/it]"
     ]
    },
    {
     "name": "stdout",
     "output_type": "stream",
     "text": [
      "Epoch:   251 | Train Loss: 0.18597619282081723| Train MAE: 2.3690417371690273 | Test Loss: 0.04232975607737899| Test MAE: 0.561690853908658  | LR: 7.778213593991469e-05\n"
     ]
    },
    {
     "name": "stderr",
     "output_type": "stream",
     "text": [
      "Model Training:  63%|██████▎   | 252/400 [34:08<19:55,  8.08s/it]"
     ]
    },
    {
     "name": "stdout",
     "output_type": "stream",
     "text": [
      "Epoch:   252 | Train Loss: 0.18513207626529038| Train MAE: 2.348918448202312 | Test Loss: 0.0423954340221826| Test MAE: 0.5678735310211778  | LR: 7.778213593991469e-05\n"
     ]
    },
    {
     "name": "stderr",
     "output_type": "stream",
     "text": [
      "Model Training:  63%|██████▎   | 253/400 [34:16<19:47,  8.08s/it]"
     ]
    },
    {
     "name": "stdout",
     "output_type": "stream",
     "text": [
      "Epoch:   253 | Train Loss: 0.185623514582403| Train MAE: 2.3620012495666742 | Test Loss: 0.044169688859255984| Test MAE: 0.6003798665478826  | LR: 7.778213593991469e-05\n"
     ]
    },
    {
     "name": "stderr",
     "output_type": "stream",
     "text": [
      "Model Training:  64%|██████▎   | 254/400 [34:24<19:41,  8.09s/it]"
     ]
    },
    {
     "name": "stdout",
     "output_type": "stream",
     "text": [
      "Epoch:   254 | Train Loss: 0.1861615517991595| Train MAE: 2.3767710886895657 | Test Loss: 0.04358279414009303| Test MAE: 0.593028973788023  | LR: 7.778213593991469e-05\n"
     ]
    },
    {
     "name": "stderr",
     "output_type": "stream",
     "text": [
      "Model Training:  64%|██████▍   | 255/400 [34:32<19:29,  8.06s/it]"
     ]
    },
    {
     "name": "stdout",
     "output_type": "stream",
     "text": [
      "Epoch:   255 | Train Loss: 0.18577997403917834| Train MAE: 2.374502225778997 | Test Loss: 0.04223340595490299| Test MAE: 0.5546774193644524  | LR: 7.778213593991469e-05\n"
     ]
    },
    {
     "name": "stderr",
     "output_type": "stream",
     "text": [
      "Model Training:  64%|██████▍   | 256/400 [34:40<19:23,  8.08s/it]"
     ]
    },
    {
     "name": "stdout",
     "output_type": "stream",
     "text": [
      "Epoch:   256 | Train Loss: 0.18506970023736358| Train MAE: 2.353309901431203 | Test Loss: 0.04266079782973975| Test MAE: 0.6016137367114425  | LR: 7.778213593991469e-05\n"
     ]
    },
    {
     "name": "stderr",
     "output_type": "stream",
     "text": [
      "Model Training:  64%|██████▍   | 257/400 [34:48<19:16,  8.09s/it]"
     ]
    },
    {
     "name": "stdout",
     "output_type": "stream",
     "text": [
      "Epoch:   257 | Train Loss: 0.18506983091356233| Train MAE: 2.368341234512627 | Test Loss: 0.04237494175322354| Test MAE: 0.5589941488578916  | LR: 7.778213593991469e-05\n"
     ]
    },
    {
     "name": "stderr",
     "output_type": "stream",
     "text": [
      "Model Training:  64%|██████▍   | 258/400 [34:56<19:10,  8.10s/it]"
     ]
    },
    {
     "name": "stdout",
     "output_type": "stream",
     "text": [
      "Epoch:   258 | Train Loss: 0.18580214126268402| Train MAE: 2.366201300173998 | Test Loss: 0.04177890298888087| Test MAE: 0.5465120254084468  | LR: 7.778213593991469e-05\n"
     ]
    },
    {
     "name": "stderr",
     "output_type": "stream",
     "text": [
      "Model Training:  65%|██████▍   | 259/400 [35:04<18:59,  8.08s/it]"
     ]
    },
    {
     "name": "stdout",
     "output_type": "stream",
     "text": [
      "Epoch:   259 | Train Loss: 0.18517438444541767| Train MAE: 2.3552751718088984 | Test Loss: 0.04200782798579894| Test MAE: 0.5528149688616395  | LR: 7.778213593991469e-05\n"
     ]
    },
    {
     "name": "stderr",
     "output_type": "stream",
     "text": [
      "Model Training:  65%|██████▌   | 260/400 [35:12<18:50,  8.08s/it]"
     ]
    },
    {
     "name": "stdout",
     "output_type": "stream",
     "text": [
      "Epoch:   260 | Train Loss: 0.1851143150124699| Train MAE: 2.3546349816024303 | Test Loss: 0.04405217373277992| Test MAE: 0.6256225910037756  | LR: 7.700431458051554e-05\n"
     ]
    },
    {
     "name": "stderr",
     "output_type": "stream",
     "text": [
      "Model Training:  65%|██████▌   | 261/400 [35:20<18:45,  8.10s/it]"
     ]
    },
    {
     "name": "stdout",
     "output_type": "stream",
     "text": [
      "Epoch:   261 | Train Loss: 0.18566554581047967| Train MAE: 2.357934283092618 | Test Loss: 0.04188204588717781| Test MAE: 0.5401858324185014  | LR: 7.700431458051554e-05\n"
     ]
    },
    {
     "name": "stderr",
     "output_type": "stream",
     "text": [
      "Model Training:  66%|██████▌   | 262/400 [35:29<18:38,  8.11s/it]"
     ]
    },
    {
     "name": "stdout",
     "output_type": "stream",
     "text": [
      "Epoch:   262 | Train Loss: 0.18450650619342923| Train MAE: 2.345288150012493 | Test Loss: 0.043069651728728786| Test MAE: 0.5939339026808739  | LR: 7.700431458051554e-05\n"
     ]
    },
    {
     "name": "stderr",
     "output_type": "stream",
     "text": [
      "Model Training:  66%|██████▌   | 263/400 [35:37<18:26,  8.08s/it]"
     ]
    },
    {
     "name": "stdout",
     "output_type": "stream",
     "text": [
      "Epoch:   263 | Train Loss: 0.18512283847667277| Train MAE: 2.360527753829956 | Test Loss: 0.04277044042828493| Test MAE: 0.5665443474426866  | LR: 7.700431458051554e-05\n"
     ]
    },
    {
     "name": "stderr",
     "output_type": "stream",
     "text": [
      "Model Training:  66%|██████▌   | 264/400 [35:45<18:18,  8.08s/it]"
     ]
    },
    {
     "name": "stdout",
     "output_type": "stream",
     "text": [
      "Epoch:   264 | Train Loss: 0.1848752837977372| Train MAE: 2.3394266413524747 | Test Loss: 0.04272289265645668| Test MAE: 0.5651304079219699  | LR: 7.700431458051554e-05\n"
     ]
    },
    {
     "name": "stderr",
     "output_type": "stream",
     "text": [
      "Model Training:  66%|██████▋   | 265/400 [35:53<18:16,  8.13s/it]"
     ]
    },
    {
     "name": "stdout",
     "output_type": "stream",
     "text": [
      "Epoch:   265 | Train Loss: 0.18479845492402092| Train MAE: 2.3416752852499485 | Test Loss: 0.041767127375351265| Test MAE: 0.5438834149390459  | LR: 7.700431458051554e-05\n"
     ]
    },
    {
     "name": "stderr",
     "output_type": "stream",
     "text": [
      "Model Training:  66%|██████▋   | 266/400 [36:01<18:10,  8.14s/it]"
     ]
    },
    {
     "name": "stdout",
     "output_type": "stream",
     "text": [
      "Epoch:   266 | Train Loss: 0.18430020101368427| Train MAE: 2.3454962307587266 | Test Loss: 0.04255292750895023| Test MAE: 0.5478577511385083  | LR: 7.700431458051554e-05\n"
     ]
    },
    {
     "name": "stderr",
     "output_type": "stream",
     "text": [
      "Model Training:  67%|██████▋   | 267/400 [36:09<17:59,  8.12s/it]"
     ]
    },
    {
     "name": "stdout",
     "output_type": "stream",
     "text": [
      "Epoch:   267 | Train Loss: 0.18418017349904403| Train MAE: 2.34628199134022 | Test Loss: 0.041162373119732365| Test MAE: 0.5388838164508343  | LR: 7.700431458051554e-05\n"
     ]
    },
    {
     "name": "stderr",
     "output_type": "stream",
     "text": [
      "Model Training:  67%|██████▋   | 268/400 [36:17<17:51,  8.11s/it]"
     ]
    },
    {
     "name": "stdout",
     "output_type": "stream",
     "text": [
      "Epoch:   268 | Train Loss: 0.18430007045390084| Train MAE: 2.3433118015527725 | Test Loss: 0.04165385544183664| Test MAE: 0.5503656305372715  | LR: 7.700431458051554e-05\n"
     ]
    },
    {
     "name": "stderr",
     "output_type": "stream",
     "text": [
      "Model Training:  67%|██████▋   | 269/400 [36:25<17:42,  8.11s/it]"
     ]
    },
    {
     "name": "stdout",
     "output_type": "stream",
     "text": [
      "Epoch:   269 | Train Loss: 0.18499973916914314| Train MAE: 2.3539291145280004 | Test Loss: 0.0415194742672611| Test MAE: 0.5425276989117265  | LR: 7.700431458051554e-05\n"
     ]
    },
    {
     "name": "stderr",
     "output_type": "stream",
     "text": [
      "Model Training:  68%|██████▊   | 270/400 [36:33<17:32,  8.10s/it]"
     ]
    },
    {
     "name": "stdout",
     "output_type": "stream",
     "text": [
      "Epoch:   270 | Train Loss: 0.18503335112472996| Train MAE: 2.357981896959245 | Test Loss: 0.04234729157178663| Test MAE: 0.5607132278382778  | LR: 7.623427143471038e-05\n"
     ]
    },
    {
     "name": "stderr",
     "output_type": "stream",
     "text": [
      "Model Training:  68%|██████▊   | 271/400 [36:41<17:23,  8.09s/it]"
     ]
    },
    {
     "name": "stdout",
     "output_type": "stream",
     "text": [
      "Epoch:   271 | Train Loss: 0.1838545894715935| Train MAE: 2.338646805845201 | Test Loss: 0.04298604230280034| Test MAE: 0.5599170457571745  | LR: 7.623427143471038e-05\n"
     ]
    },
    {
     "name": "stderr",
     "output_type": "stream",
     "text": [
      "Model Training:  68%|██████▊   | 272/400 [36:50<17:16,  8.10s/it]"
     ]
    },
    {
     "name": "stdout",
     "output_type": "stream",
     "text": [
      "Epoch:   272 | Train Loss: 0.18408401519991457| Train MAE: 2.3388423724099994 | Test Loss: 0.042641374631784856| Test MAE: 0.5913235377520323  | LR: 7.623427143471038e-05\n"
     ]
    },
    {
     "name": "stderr",
     "output_type": "stream",
     "text": [
      "Model Training:  68%|██████▊   | 273/400 [36:58<17:09,  8.10s/it]"
     ]
    },
    {
     "name": "stdout",
     "output_type": "stream",
     "text": [
      "Epoch:   273 | Train Loss: 0.18414813873823732| Train MAE: 2.343322048895061 | Test Loss: 0.04354679354582913| Test MAE: 0.5988944079726934  | LR: 7.623427143471038e-05\n"
     ]
    },
    {
     "name": "stderr",
     "output_type": "stream",
     "text": [
      "Model Training:  68%|██████▊   | 274/400 [37:06<17:03,  8.12s/it]"
     ]
    },
    {
     "name": "stdout",
     "output_type": "stream",
     "text": [
      "Epoch:   274 | Train Loss: 0.18388533825054765| Train MAE: 2.328728827647865 | Test Loss: 0.041507011716021225| Test MAE: 0.5478531494736671  | LR: 7.623427143471038e-05\n"
     ]
    },
    {
     "name": "stderr",
     "output_type": "stream",
     "text": [
      "Model Training:  69%|██████▉   | 275/400 [37:14<16:53,  8.11s/it]"
     ]
    },
    {
     "name": "stdout",
     "output_type": "stream",
     "text": [
      "Epoch:   275 | Train Loss: 0.18343423755140975| Train MAE: 2.327626273036003 | Test Loss: 0.043095174711197615| Test MAE: 0.6039701718837023  | LR: 7.623427143471038e-05\n"
     ]
    },
    {
     "name": "stderr",
     "output_type": "stream",
     "text": [
      "Model Training:  69%|██████▉   | 276/400 [37:22<16:44,  8.10s/it]"
     ]
    },
    {
     "name": "stdout",
     "output_type": "stream",
     "text": [
      "Epoch:   276 | Train Loss: 0.18384134792722762| Train MAE: 2.344228871166706 | Test Loss: 0.0424137111986056| Test MAE: 0.5628518546000123  | LR: 7.623427143471038e-05\n"
     ]
    },
    {
     "name": "stderr",
     "output_type": "stream",
     "text": [
      "Model Training:  69%|██████▉   | 277/400 [37:30<16:37,  8.11s/it]"
     ]
    },
    {
     "name": "stdout",
     "output_type": "stream",
     "text": [
      "Epoch:   277 | Train Loss: 0.18396340677281842| Train MAE: 2.3492217026650906 | Test Loss: 0.04331510345218703| Test MAE: 0.5854481318965554  | LR: 7.623427143471038e-05\n"
     ]
    },
    {
     "name": "stderr",
     "output_type": "stream",
     "text": [
      "Model Training:  70%|██████▉   | 278/400 [37:38<16:26,  8.09s/it]"
     ]
    },
    {
     "name": "stdout",
     "output_type": "stream",
     "text": [
      "Epoch:   278 | Train Loss: 0.18330460228025913| Train MAE: 2.3323379568755627 | Test Loss: 0.04381530109094456| Test MAE: 0.5890743853524327  | LR: 7.623427143471038e-05\n"
     ]
    },
    {
     "name": "stderr",
     "output_type": "stream",
     "text": [
      "Model Training:  70%|██████▉   | 279/400 [37:46<16:17,  8.08s/it]"
     ]
    },
    {
     "name": "stdout",
     "output_type": "stream",
     "text": [
      "Epoch:   279 | Train Loss: 0.18397710903082043| Train MAE: 2.345478927716613 | Test Loss: 0.043255578144453466| Test MAE: 0.5843269126489758  | LR: 7.623427143471038e-05\n"
     ]
    },
    {
     "name": "stderr",
     "output_type": "stream",
     "text": [
      "Model Training:  70%|███████   | 280/400 [37:54<16:10,  8.08s/it]"
     ]
    },
    {
     "name": "stdout",
     "output_type": "stream",
     "text": [
      "Epoch:   280 | Train Loss: 0.1834416743949987| Train MAE: 2.333930939435959 | Test Loss: 0.04278372760745697| Test MAE: 0.5785068450495601  | LR: 7.547192872036328e-05\n"
     ]
    },
    {
     "name": "stderr",
     "output_type": "stream",
     "text": [
      "Model Training:  70%|███████   | 281/400 [38:03<16:04,  8.11s/it]"
     ]
    },
    {
     "name": "stdout",
     "output_type": "stream",
     "text": [
      "Epoch:   281 | Train Loss: 0.18411933828610927| Train MAE: 2.349845740944147 | Test Loss: 0.042519917158642784| Test MAE: 0.5498283617198467  | LR: 7.547192872036328e-05\n"
     ]
    },
    {
     "name": "stderr",
     "output_type": "stream",
     "text": [
      "Model Training:  70%|███████   | 282/400 [38:11<15:54,  8.09s/it]"
     ]
    },
    {
     "name": "stdout",
     "output_type": "stream",
     "text": [
      "Epoch:   282 | Train Loss: 0.18332726089283824| Train MAE: 2.334314802661538 | Test Loss: 0.04215885524172336| Test MAE: 0.5674607800319791  | LR: 7.547192872036328e-05\n"
     ]
    },
    {
     "name": "stderr",
     "output_type": "stream",
     "text": [
      "Model Training:  71%|███████   | 283/400 [38:19<15:46,  8.09s/it]"
     ]
    },
    {
     "name": "stdout",
     "output_type": "stream",
     "text": [
      "Epoch:   283 | Train Loss: 0.1830950640141964| Train MAE: 2.338289306499064 | Test Loss: 0.04237856375402771| Test MAE: 0.5609808014705777  | LR: 7.547192872036328e-05\n"
     ]
    },
    {
     "name": "stderr",
     "output_type": "stream",
     "text": [
      "Model Training:  71%|███████   | 284/400 [38:27<15:39,  8.10s/it]"
     ]
    },
    {
     "name": "stdout",
     "output_type": "stream",
     "text": [
      "Epoch:   284 | Train Loss: 0.18334568344289437| Train MAE: 2.3340579885989428 | Test Loss: 0.04178261800552718| Test MAE: 0.5435338336974382  | LR: 7.547192872036328e-05\n"
     ]
    },
    {
     "name": "stderr",
     "output_type": "stream",
     "text": [
      "Model Training:  71%|███████▏  | 285/400 [38:35<15:31,  8.10s/it]"
     ]
    },
    {
     "name": "stdout",
     "output_type": "stream",
     "text": [
      "Epoch:   285 | Train Loss: 0.18292344611836597| Train MAE: 2.3324718587100506 | Test Loss: 0.04219352253130637| Test MAE: 0.5750194424763322  | LR: 7.547192872036328e-05\n"
     ]
    },
    {
     "name": "stderr",
     "output_type": "stream",
     "text": [
      "Model Training:  72%|███████▏  | 286/400 [38:43<15:22,  8.09s/it]"
     ]
    },
    {
     "name": "stdout",
     "output_type": "stream",
     "text": [
      "Epoch:   286 | Train Loss: 0.1833357121795416| Train MAE: 2.3413195507600904 | Test Loss: 0.04391365830088034| Test MAE: 0.6316524967551231  | LR: 7.547192872036328e-05\n"
     ]
    },
    {
     "name": "stderr",
     "output_type": "stream",
     "text": [
      "Model Training:  72%|███████▏  | 287/400 [38:51<15:16,  8.11s/it]"
     ]
    },
    {
     "name": "stdout",
     "output_type": "stream",
     "text": [
      "Epoch:   287 | Train Loss: 0.18323814281029627| Train MAE: 2.3328530844300985 | Test Loss: 0.04106497508473694| Test MAE: 0.5253437124192715  | LR: 7.547192872036328e-05\n"
     ]
    },
    {
     "name": "stderr",
     "output_type": "stream",
     "text": [
      "Model Training:  72%|███████▏  | 288/400 [38:59<15:07,  8.10s/it]"
     ]
    },
    {
     "name": "stdout",
     "output_type": "stream",
     "text": [
      "Epoch:   288 | Train Loss: 0.1823690483579412| Train MAE: 2.3216808838769794 | Test Loss: 0.04156905761919916| Test MAE: 0.5379442069679499  | LR: 7.547192872036328e-05\n"
     ]
    },
    {
     "name": "stderr",
     "output_type": "stream",
     "text": [
      "Model Training:  72%|███████▏  | 289/400 [39:07<15:00,  8.11s/it]"
     ]
    },
    {
     "name": "stdout",
     "output_type": "stream",
     "text": [
      "Epoch:   289 | Train Loss: 0.18211730261100456| Train MAE: 2.3169286996126175 | Test Loss: 0.041282515827333555| Test MAE: 0.5328409466892481  | LR: 7.547192872036328e-05\n"
     ]
    },
    {
     "name": "stderr",
     "output_type": "stream",
     "text": [
      "Model Training:  72%|███████▎  | 290/400 [39:15<14:50,  8.10s/it]"
     ]
    },
    {
     "name": "stdout",
     "output_type": "stream",
     "text": [
      "Epoch:   290 | Train Loss: 0.18226596055319533| Train MAE: 2.3175929747521877 | Test Loss: 0.04276987296179868| Test MAE: 0.5770464530214667  | LR: 7.471720943315964e-05\n"
     ]
    },
    {
     "name": "stderr",
     "output_type": "stream",
     "text": [
      "Model Training:  73%|███████▎  | 291/400 [39:24<14:45,  8.12s/it]"
     ]
    },
    {
     "name": "stdout",
     "output_type": "stream",
     "text": [
      "Epoch:   291 | Train Loss: 0.1826036170241423| Train MAE: 2.3288454515859485 | Test Loss: 0.04241313156671822| Test MAE: 0.5768333803862333  | LR: 7.471720943315964e-05\n"
     ]
    },
    {
     "name": "stderr",
     "output_type": "stream",
     "text": [
      "Model Training:  73%|███████▎  | 292/400 [39:32<14:38,  8.13s/it]"
     ]
    },
    {
     "name": "stdout",
     "output_type": "stream",
     "text": [
      "Epoch:   292 | Train Loss: 0.18327079573646188| Train MAE: 2.326933386735618 | Test Loss: 0.0413407729647588| Test MAE: 0.5331227667629719  | LR: 7.471720943315964e-05\n"
     ]
    },
    {
     "name": "stderr",
     "output_type": "stream",
     "text": [
      "Model Training:  73%|███████▎  | 293/400 [39:40<14:31,  8.14s/it]"
     ]
    },
    {
     "name": "stdout",
     "output_type": "stream",
     "text": [
      "Epoch:   293 | Train Loss: 0.18258840218186378| Train MAE: 2.31848681345582 | Test Loss: 0.042189235537080094| Test MAE: 0.5466139102354646  | LR: 7.471720943315964e-05\n"
     ]
    },
    {
     "name": "stderr",
     "output_type": "stream",
     "text": [
      "Model Training:  74%|███████▎  | 294/400 [39:48<14:22,  8.14s/it]"
     ]
    },
    {
     "name": "stdout",
     "output_type": "stream",
     "text": [
      "Epoch:   294 | Train Loss: 0.18269254674669355| Train MAE: 2.3250279063358903 | Test Loss: 0.04278482374502346| Test MAE: 0.5854361364617944  | LR: 7.471720943315964e-05\n"
     ]
    },
    {
     "name": "stderr",
     "output_type": "stream",
     "text": [
      "Model Training:  74%|███████▍  | 295/400 [39:56<14:15,  8.15s/it]"
     ]
    },
    {
     "name": "stdout",
     "output_type": "stream",
     "text": [
      "Epoch:   295 | Train Loss: 0.18228781397920102| Train MAE: 2.3164576776325703 | Test Loss: 0.04208569767070003| Test MAE: 0.5758838094770908  | LR: 7.471720943315964e-05\n"
     ]
    },
    {
     "name": "stderr",
     "output_type": "stream",
     "text": [
      "Model Training:  74%|███████▍  | 296/400 [40:04<14:07,  8.15s/it]"
     ]
    },
    {
     "name": "stdout",
     "output_type": "stream",
     "text": [
      "Epoch:   296 | Train Loss: 0.1822237319429405| Train MAE: 2.3128374898806214 | Test Loss: 0.0400902317778673| Test MAE: 0.5136368740350008  | LR: 7.471720943315964e-05\n"
     ]
    },
    {
     "name": "stderr",
     "output_type": "stream",
     "text": [
      "Model Training:  74%|███████▍  | 297/400 [40:12<13:58,  8.14s/it]"
     ]
    },
    {
     "name": "stdout",
     "output_type": "stream",
     "text": [
      "Epoch:   297 | Train Loss: 0.18210940982680768| Train MAE: 2.3137555504217744 | Test Loss: 0.04228436449193396| Test MAE: 0.5507082296535373  | LR: 7.471720943315964e-05\n"
     ]
    },
    {
     "name": "stderr",
     "output_type": "stream",
     "text": [
      "Model Training:  74%|███████▍  | 298/400 [40:20<13:45,  8.10s/it]"
     ]
    },
    {
     "name": "stdout",
     "output_type": "stream",
     "text": [
      "Epoch:   298 | Train Loss: 0.18236159934895113| Train MAE: 2.3301320364698768 | Test Loss: 0.04192460890044458| Test MAE: 0.5534943854436278  | LR: 7.471720943315964e-05\n"
     ]
    },
    {
     "name": "stderr",
     "output_type": "stream",
     "text": [
      "Model Training:  75%|███████▍  | 299/400 [40:29<13:37,  8.09s/it]"
     ]
    },
    {
     "name": "stdout",
     "output_type": "stream",
     "text": [
      "Epoch:   299 | Train Loss: 0.18290936114499345| Train MAE: 2.3218532167375088 | Test Loss: 0.042193357716314495| Test MAE: 0.5606503589078784  | LR: 7.471720943315964e-05\n"
     ]
    },
    {
     "name": "stderr",
     "output_type": "stream",
     "text": [
      "Model Training:  75%|███████▌  | 300/400 [40:37<13:31,  8.11s/it]"
     ]
    },
    {
     "name": "stdout",
     "output_type": "stream",
     "text": [
      "Epoch:   300 | Train Loss: 0.18253521481528878| Train MAE: 2.3248468907549977 | Test Loss: 0.041085757955443114| Test MAE: 0.5152791924774647  | LR: 7.397003733882805e-05\n"
     ]
    },
    {
     "name": "stderr",
     "output_type": "stream",
     "text": [
      "Model Training:  75%|███████▌  | 301/400 [40:45<13:23,  8.11s/it]"
     ]
    },
    {
     "name": "stdout",
     "output_type": "stream",
     "text": [
      "Epoch:   301 | Train Loss: 0.1823513027629815| Train MAE: 2.331767525523901 | Test Loss: 0.04236629349179566| Test MAE: 0.5448423121124506  | LR: 7.397003733882805e-05\n"
     ]
    },
    {
     "name": "stderr",
     "output_type": "stream",
     "text": [
      "Model Training:  76%|███████▌  | 302/400 [40:53<13:12,  8.09s/it]"
     ]
    },
    {
     "name": "stdout",
     "output_type": "stream",
     "text": [
      "Epoch:   302 | Train Loss: 0.18233160697855055| Train MAE: 2.320297759026289 | Test Loss: 0.04150049338932149| Test MAE: 0.5428328216075897  | LR: 7.397003733882805e-05\n"
     ]
    },
    {
     "name": "stderr",
     "output_type": "stream",
     "text": [
      "Model Training:  76%|███████▌  | 303/400 [41:01<13:04,  8.09s/it]"
     ]
    },
    {
     "name": "stdout",
     "output_type": "stream",
     "text": [
      "Epoch:   303 | Train Loss: 0.18198387807933614| Train MAE: 2.311822857707739 | Test Loss: 0.04253786752815358| Test MAE: 0.5547158978879452  | LR: 7.397003733882805e-05\n"
     ]
    },
    {
     "name": "stderr",
     "output_type": "stream",
     "text": [
      "Model Training:  76%|███████▌  | 304/400 [41:09<12:55,  8.08s/it]"
     ]
    },
    {
     "name": "stdout",
     "output_type": "stream",
     "text": [
      "Epoch:   304 | Train Loss: 0.1818933307658881| Train MAE: 2.316492066718638 | Test Loss: 0.0412646634504199| Test MAE: 0.555457484908402  | LR: 7.397003733882805e-05\n"
     ]
    },
    {
     "name": "stderr",
     "output_type": "stream",
     "text": [
      "Model Training:  76%|███████▋  | 305/400 [41:17<12:48,  8.09s/it]"
     ]
    },
    {
     "name": "stdout",
     "output_type": "stream",
     "text": [
      "Epoch:   305 | Train Loss: 0.18190477992175147| Train MAE: 2.310244637541473 | Test Loss: 0.04118375826510601| Test MAE: 0.5433183051645756  | LR: 7.397003733882805e-05\n"
     ]
    },
    {
     "name": "stderr",
     "output_type": "stream",
     "text": [
      "Model Training:  76%|███████▋  | 306/400 [41:25<12:39,  8.08s/it]"
     ]
    },
    {
     "name": "stdout",
     "output_type": "stream",
     "text": [
      "Epoch:   306 | Train Loss: 0.1822648128727451| Train MAE: 2.3320236951112747 | Test Loss: 0.04152295720996335| Test MAE: 0.5546264676377177  | LR: 7.397003733882805e-05\n"
     ]
    },
    {
     "name": "stderr",
     "output_type": "stream",
     "text": [
      "Model Training:  77%|███████▋  | 307/400 [41:33<12:32,  8.09s/it]"
     ]
    },
    {
     "name": "stdout",
     "output_type": "stream",
     "text": [
      "Epoch:   307 | Train Loss: 0.18179582065204158| Train MAE: 2.313972944393754 | Test Loss: 0.041593489702790976| Test MAE: 0.531720750965178  | LR: 7.397003733882805e-05\n"
     ]
    },
    {
     "name": "stderr",
     "output_type": "stream",
     "text": [
      "Model Training:  77%|███████▋  | 308/400 [41:41<12:25,  8.11s/it]"
     ]
    },
    {
     "name": "stdout",
     "output_type": "stream",
     "text": [
      "Epoch:   308 | Train Loss: 0.18175953516038135| Train MAE: 2.308605237863958 | Test Loss: 0.04352389834821224| Test MAE: 0.5943079404532909  | LR: 7.397003733882805e-05\n"
     ]
    },
    {
     "name": "stderr",
     "output_type": "stream",
     "text": [
      "Model Training:  77%|███████▋  | 309/400 [41:50<12:19,  8.13s/it]"
     ]
    },
    {
     "name": "stdout",
     "output_type": "stream",
     "text": [
      "Epoch:   309 | Train Loss: 0.18116769788321108| Train MAE: 2.3090226892381907 | Test Loss: 0.04227258844184689| Test MAE: 0.5815501324832439  | LR: 7.397003733882805e-05\n"
     ]
    },
    {
     "name": "stderr",
     "output_type": "stream",
     "text": [
      "Model Training:  78%|███████▊  | 310/400 [41:58<12:08,  8.10s/it]"
     ]
    },
    {
     "name": "stdout",
     "output_type": "stream",
     "text": [
      "Epoch:   310 | Train Loss: 0.18123890814604238| Train MAE: 2.319475485943258 | Test Loss: 0.041796987905399874| Test MAE: 0.5602895757183433  | LR: 7.323033696543977e-05\n"
     ]
    },
    {
     "name": "stderr",
     "output_type": "stream",
     "text": [
      "Model Training:  78%|███████▊  | 311/400 [42:06<12:00,  8.09s/it]"
     ]
    },
    {
     "name": "stdout",
     "output_type": "stream",
     "text": [
      "Epoch:   311 | Train Loss: 0.1814487426308915| Train MAE: 2.3084574472159147 | Test Loss: 0.04155183176044375| Test MAE: 0.5278823543339968  | LR: 7.323033696543977e-05\n"
     ]
    },
    {
     "name": "stderr",
     "output_type": "stream",
     "text": [
      "Model Training:  78%|███████▊  | 312/400 [42:14<11:54,  8.12s/it]"
     ]
    },
    {
     "name": "stdout",
     "output_type": "stream",
     "text": [
      "Epoch:   312 | Train Loss: 0.18214196769986302| Train MAE: 2.3201752258464694 | Test Loss: 0.04159440050716512| Test MAE: 0.5646934844553471  | LR: 7.323033696543977e-05\n"
     ]
    },
    {
     "name": "stderr",
     "output_type": "stream",
     "text": [
      "Model Training:  78%|███████▊  | 313/400 [42:22<11:46,  8.12s/it]"
     ]
    },
    {
     "name": "stdout",
     "output_type": "stream",
     "text": [
      "Epoch:   313 | Train Loss: 0.1811745247687213| Train MAE: 2.300224559381604 | Test Loss: 0.041090358688961715| Test MAE: 0.5327111510559916  | LR: 7.323033696543977e-05\n"
     ]
    },
    {
     "name": "stderr",
     "output_type": "stream",
     "text": [
      "Model Training:  78%|███████▊  | 314/400 [42:30<11:36,  8.10s/it]"
     ]
    },
    {
     "name": "stdout",
     "output_type": "stream",
     "text": [
      "Epoch:   314 | Train Loss: 0.18166864797240123| Train MAE: 2.321345933713019 | Test Loss: 0.041334058332722634| Test MAE: 0.5622305339202285  | LR: 7.323033696543977e-05\n"
     ]
    },
    {
     "name": "stderr",
     "output_type": "stream",
     "text": [
      "Model Training:  79%|███████▉  | 315/400 [42:38<11:27,  8.09s/it]"
     ]
    },
    {
     "name": "stdout",
     "output_type": "stream",
     "text": [
      "Epoch:   315 | Train Loss: 0.18148586567258462| Train MAE: 2.3114924570545554 | Test Loss: 0.04301376789226197| Test MAE: 0.6014640685170889  | LR: 7.323033696543977e-05\n"
     ]
    },
    {
     "name": "stderr",
     "output_type": "stream",
     "text": [
      "Model Training:  79%|███████▉  | 316/400 [42:46<11:19,  8.09s/it]"
     ]
    },
    {
     "name": "stdout",
     "output_type": "stream",
     "text": [
      "Epoch:   316 | Train Loss: 0.1815290282247588| Train MAE: 2.3198209796100855 | Test Loss: 0.042486256978008896| Test MAE: 0.582753430120647  | LR: 7.323033696543977e-05\n"
     ]
    },
    {
     "name": "stderr",
     "output_type": "stream",
     "text": [
      "Model Training:  79%|███████▉  | 317/400 [42:54<11:09,  8.07s/it]"
     ]
    },
    {
     "name": "stdout",
     "output_type": "stream",
     "text": [
      "Epoch:   317 | Train Loss: 0.18092067871475592| Train MAE: 2.3036514781415462 | Test Loss: 0.041553040355211124| Test MAE: 0.5455980841070414  | LR: 7.323033696543977e-05\n"
     ]
    },
    {
     "name": "stderr",
     "output_type": "stream",
     "text": [
      "Model Training:  80%|███████▉  | 318/400 [43:02<11:02,  8.08s/it]"
     ]
    },
    {
     "name": "stdout",
     "output_type": "stream",
     "text": [
      "Epoch:   318 | Train Loss: 0.18115701584611088| Train MAE: 2.3045625146478415 | Test Loss: 0.04204510181443766| Test MAE: 0.5682442365214229  | LR: 7.323033696543977e-05\n"
     ]
    },
    {
     "name": "stderr",
     "output_type": "stream",
     "text": [
      "Model Training:  80%|███████▉  | 319/400 [43:11<10:56,  8.11s/it]"
     ]
    },
    {
     "name": "stdout",
     "output_type": "stream",
     "text": [
      "Epoch:   319 | Train Loss: 0.18135318462736905| Train MAE: 2.315021339803934 | Test Loss: 0.04250242418493144| Test MAE: 0.5724479183554649  | LR: 7.323033696543977e-05\n"
     ]
    },
    {
     "name": "stderr",
     "output_type": "stream",
     "text": [
      "Model Training:  80%|████████  | 320/400 [43:19<10:49,  8.12s/it]"
     ]
    },
    {
     "name": "stdout",
     "output_type": "stream",
     "text": [
      "Epoch:   320 | Train Loss: 0.18086982623208314| Train MAE: 2.3000006172806025 | Test Loss: 0.041666151228128| Test MAE: 0.5387862492352724  | LR: 7.249803359578537e-05\n"
     ]
    },
    {
     "name": "stderr",
     "output_type": "stream",
     "text": [
      "Model Training:  80%|████████  | 321/400 [43:27<10:38,  8.08s/it]"
     ]
    },
    {
     "name": "stdout",
     "output_type": "stream",
     "text": [
      "Epoch:   321 | Train Loss: 0.18082160351332277| Train MAE: 2.293758273124695 | Test Loss: 0.042112307040952146| Test MAE: 0.5590482195839286  | LR: 7.249803359578537e-05\n"
     ]
    },
    {
     "name": "stderr",
     "output_type": "stream",
     "text": [
      "Model Training:  80%|████████  | 322/400 [43:35<10:31,  8.10s/it]"
     ]
    },
    {
     "name": "stdout",
     "output_type": "stream",
     "text": [
      "Epoch:   322 | Train Loss: 0.18101060262415558| Train MAE: 2.308981519192457 | Test Loss: 0.04304646630771458| Test MAE: 0.5915965586900711  | LR: 7.249803359578537e-05\n"
     ]
    },
    {
     "name": "stderr",
     "output_type": "stream",
     "text": [
      "Model Training:  81%|████████  | 323/400 [43:43<10:25,  8.12s/it]"
     ]
    },
    {
     "name": "stdout",
     "output_type": "stream",
     "text": [
      "Epoch:   323 | Train Loss: 0.18111943145049736| Train MAE: 2.313378253020346 | Test Loss: 0.041429514676565304| Test MAE: 0.5416687754914165  | LR: 7.249803359578537e-05\n"
     ]
    },
    {
     "name": "stderr",
     "output_type": "stream",
     "text": [
      "Model Training:  81%|████████  | 324/400 [43:51<10:16,  8.11s/it]"
     ]
    },
    {
     "name": "stdout",
     "output_type": "stream",
     "text": [
      "Epoch:   324 | Train Loss: 0.18093311903066933| Train MAE: 2.309073179960251 | Test Loss: 0.04232160831452347| Test MAE: 0.5617852518334985  | LR: 7.249803359578537e-05\n"
     ]
    },
    {
     "name": "stderr",
     "output_type": "stream",
     "text": [
      "Model Training:  81%|████████▏ | 325/400 [43:59<10:05,  8.08s/it]"
     ]
    },
    {
     "name": "stdout",
     "output_type": "stream",
     "text": [
      "Epoch:   325 | Train Loss: 0.1812643565936014| Train MAE: 2.3007964082062244 | Test Loss: 0.04202360275667161| Test MAE: 0.5741277318447828  | LR: 7.249803359578537e-05\n"
     ]
    },
    {
     "name": "stderr",
     "output_type": "stream",
     "text": [
      "Model Training:  82%|████████▏ | 326/400 [44:07<09:57,  8.08s/it]"
     ]
    },
    {
     "name": "stdout",
     "output_type": "stream",
     "text": [
      "Epoch:   326 | Train Loss: 0.18028152344049886| Train MAE: 2.2893487820401788 | Test Loss: 0.04215159214800224| Test MAE: 0.585060203447938  | LR: 7.249803359578537e-05\n"
     ]
    },
    {
     "name": "stderr",
     "output_type": "stream",
     "text": [
      "Model Training:  82%|████████▏ | 327/400 [44:15<09:49,  8.08s/it]"
     ]
    },
    {
     "name": "stdout",
     "output_type": "stream",
     "text": [
      "Epoch:   327 | Train Loss: 0.18162446917267516| Train MAE: 2.3060690285637975 | Test Loss: 0.04282002479885705| Test MAE: 0.5754798706620932  | LR: 7.249803359578537e-05\n"
     ]
    },
    {
     "name": "stderr",
     "output_type": "stream",
     "text": [
      "Model Training:  82%|████████▏ | 328/400 [44:23<09:41,  8.08s/it]"
     ]
    },
    {
     "name": "stdout",
     "output_type": "stream",
     "text": [
      "Epoch:   328 | Train Loss: 0.18028055416652933| Train MAE: 2.2951239263638854 | Test Loss: 0.04178799415240064| Test MAE: 0.5519545553252101  | LR: 7.249803359578537e-05\n"
     ]
    },
    {
     "name": "stderr",
     "output_type": "stream",
     "text": [
      "Model Training:  82%|████████▏ | 329/400 [44:31<09:33,  8.07s/it]"
     ]
    },
    {
     "name": "stdout",
     "output_type": "stream",
     "text": [
      "Epoch:   329 | Train Loss: 0.1810687571996823| Train MAE: 2.3056464586406946 | Test Loss: 0.042545403441181406| Test MAE: 0.5912220971658826  | LR: 7.249803359578537e-05\n"
     ]
    },
    {
     "name": "stderr",
     "output_type": "stream",
     "text": [
      "Model Training:  82%|████████▎ | 330/400 [44:39<09:26,  8.09s/it]"
     ]
    },
    {
     "name": "stdout",
     "output_type": "stream",
     "text": [
      "Epoch:   330 | Train Loss: 0.18041647505015135| Train MAE: 2.2911702655255795 | Test Loss: 0.041159549058647826| Test MAE: 0.5405224338173866  | LR: 7.177305325982752e-05\n"
     ]
    },
    {
     "name": "stderr",
     "output_type": "stream",
     "text": [
      "Model Training:  83%|████████▎ | 331/400 [44:48<09:17,  8.09s/it]"
     ]
    },
    {
     "name": "stdout",
     "output_type": "stream",
     "text": [
      "Epoch:   331 | Train Loss: 0.18060741864610463| Train MAE: 2.2928854767233133 | Test Loss: 0.04164534495794214| Test MAE: 0.5407859645783901  | LR: 7.177305325982752e-05\n"
     ]
    },
    {
     "name": "stderr",
     "output_type": "stream",
     "text": [
      "Model Training:  83%|████████▎ | 332/400 [44:56<09:11,  8.11s/it]"
     ]
    },
    {
     "name": "stdout",
     "output_type": "stream",
     "text": [
      "Epoch:   332 | Train Loss: 0.181338882423006| Train MAE: 2.3115486465394497 | Test Loss: 0.04165526761789806| Test MAE: 0.5574998632073402  | LR: 7.177305325982752e-05\n"
     ]
    },
    {
     "name": "stderr",
     "output_type": "stream",
     "text": [
      "Model Training:  83%|████████▎ | 333/400 [45:04<09:01,  8.09s/it]"
     ]
    },
    {
     "name": "stdout",
     "output_type": "stream",
     "text": [
      "Epoch:   333 | Train Loss: 0.1805165234254673| Train MAE: 2.2906173719093204 | Test Loss: 0.042505219898885116| Test MAE: 0.5771588496863842  | LR: 7.177305325982752e-05\n"
     ]
    },
    {
     "name": "stderr",
     "output_type": "stream",
     "text": [
      "Model Training:  84%|████████▎ | 334/400 [45:12<08:54,  8.10s/it]"
     ]
    },
    {
     "name": "stdout",
     "output_type": "stream",
     "text": [
      "Epoch:   334 | Train Loss: 0.18002475041430444| Train MAE: 2.295712122693658 | Test Loss: 0.0421694612596184| Test MAE: 0.5595157016068697  | LR: 7.177305325982752e-05\n"
     ]
    },
    {
     "name": "stderr",
     "output_type": "stream",
     "text": [
      "Model Training:  84%|████████▍ | 335/400 [45:20<08:47,  8.11s/it]"
     ]
    },
    {
     "name": "stdout",
     "output_type": "stream",
     "text": [
      "Epoch:   335 | Train Loss: 0.1805738434777595| Train MAE: 2.3102401178330183 | Test Loss: 0.04220634084776975| Test MAE: 0.5823500454425812  | LR: 7.177305325982752e-05\n"
     ]
    },
    {
     "name": "stderr",
     "output_type": "stream",
     "text": [
      "Model Training:  84%|████████▍ | 336/400 [45:28<08:39,  8.11s/it]"
     ]
    },
    {
     "name": "stdout",
     "output_type": "stream",
     "text": [
      "Epoch:   336 | Train Loss: 0.18053125857841223| Train MAE: 2.296923398040235 | Test Loss: 0.041558790078852326| Test MAE: 0.5342372497543693  | LR: 7.177305325982752e-05\n"
     ]
    },
    {
     "name": "stderr",
     "output_type": "stream",
     "text": [
      "Model Training:  84%|████████▍ | 337/400 [45:36<08:29,  8.09s/it]"
     ]
    },
    {
     "name": "stdout",
     "output_type": "stream",
     "text": [
      "Epoch:   337 | Train Loss: 0.18083536729682237| Train MAE: 2.297623078338802 | Test Loss: 0.041920312389265746| Test MAE: 0.5423687249422073  | LR: 7.177305325982752e-05\n"
     ]
    },
    {
     "name": "stderr",
     "output_type": "stream",
     "text": [
      "Model Training:  84%|████████▍ | 338/400 [45:44<08:21,  8.09s/it]"
     ]
    },
    {
     "name": "stdout",
     "output_type": "stream",
     "text": [
      "Epoch:   338 | Train Loss: 0.18065508489962667| Train MAE: 2.3075029365718365 | Test Loss: 0.04125649912748486| Test MAE: 0.5489833122119308  | LR: 7.177305325982752e-05\n"
     ]
    },
    {
     "name": "stderr",
     "output_type": "stream",
     "text": [
      "Model Training:  85%|████████▍ | 339/400 [45:52<08:13,  8.10s/it]"
     ]
    },
    {
     "name": "stdout",
     "output_type": "stream",
     "text": [
      "Epoch:   339 | Train Loss: 0.1802322260919027| Train MAE: 2.2977697951719165 | Test Loss: 0.042570291203446686| Test MAE: 0.5732956044375896  | LR: 7.177305325982752e-05\n"
     ]
    },
    {
     "name": "stderr",
     "output_type": "stream",
     "text": [
      "Model Training:  85%|████████▌ | 340/400 [46:00<08:05,  8.09s/it]"
     ]
    },
    {
     "name": "stdout",
     "output_type": "stream",
     "text": [
      "Epoch:   340 | Train Loss: 0.17986593808745965| Train MAE: 2.296737739816308 | Test Loss: 0.04168242833111435| Test MAE: 0.5564995734021068  | LR: 7.105532272722923e-05\n"
     ]
    },
    {
     "name": "stderr",
     "output_type": "stream",
     "text": [
      "Model Training:  85%|████████▌ | 341/400 [46:08<07:55,  8.06s/it]"
     ]
    },
    {
     "name": "stdout",
     "output_type": "stream",
     "text": [
      "Epoch:   341 | Train Loss: 0.1796447015949525| Train MAE: 2.289982038550079 | Test Loss: 0.04168417886830866| Test MAE: 0.5461242944002151  | LR: 7.105532272722923e-05\n"
     ]
    },
    {
     "name": "stderr",
     "output_type": "stream",
     "text": [
      "Model Training:  86%|████████▌ | 342/400 [46:17<07:48,  8.07s/it]"
     ]
    },
    {
     "name": "stdout",
     "output_type": "stream",
     "text": [
      "Epoch:   342 | Train Loss: 0.17960349330678582| Train MAE: 2.2969195637851954 | Test Loss: 0.04353582294424996| Test MAE: 0.5638598734512925  | LR: 7.105532272722923e-05\n"
     ]
    },
    {
     "name": "stderr",
     "output_type": "stream",
     "text": [
      "Model Training:  86%|████████▌ | 343/400 [46:25<07:40,  8.08s/it]"
     ]
    },
    {
     "name": "stdout",
     "output_type": "stream",
     "text": [
      "Epoch:   343 | Train Loss: 0.17995527508901432| Train MAE: 2.289416209794581 | Test Loss: 0.04148522226023488| Test MAE: 0.5230297995731235  | LR: 7.105532272722923e-05\n"
     ]
    },
    {
     "name": "stderr",
     "output_type": "stream",
     "text": [
      "Model Training:  86%|████████▌ | 344/400 [46:33<07:34,  8.11s/it]"
     ]
    },
    {
     "name": "stdout",
     "output_type": "stream",
     "text": [
      "Epoch:   344 | Train Loss: 0.18025127955479547| Train MAE: 2.2894317181780934 | Test Loss: 0.04186739175929688| Test MAE: 0.5459525249898434  | LR: 7.105532272722923e-05\n"
     ]
    },
    {
     "name": "stderr",
     "output_type": "stream",
     "text": [
      "Model Training:  86%|████████▋ | 345/400 [46:41<07:25,  8.10s/it]"
     ]
    },
    {
     "name": "stdout",
     "output_type": "stream",
     "text": [
      "Epoch:   345 | Train Loss: 0.1795367390732281| Train MAE: 2.301601338200271 | Test Loss: 0.0418899274955038| Test MAE: 0.5326287224888802  | LR: 7.105532272722923e-05\n"
     ]
    },
    {
     "name": "stderr",
     "output_type": "stream",
     "text": [
      "Model Training:  86%|████████▋ | 346/400 [46:49<07:18,  8.12s/it]\n"
     ]
    },
    {
     "name": "stdout",
     "output_type": "stream",
     "text": [
      "Epoch:   346 | Train Loss: 0.17986729822587222| Train MAE: 2.2862209547311068 | Test Loss: 0.04094870376866311| Test MAE: 0.5225747339427471  | LR: 7.105532272722923e-05\n",
      "输入长度为48\n"
     ]
    },
    {
     "name": "stderr",
     "output_type": "stream",
     "text": [
      "Model Training:   0%|          | 1/400 [00:10<1:10:57, 10.67s/it]"
     ]
    },
    {
     "name": "stdout",
     "output_type": "stream",
     "text": [
      "Epoch:     1 | Train Loss: 0.1883658649167046| Train MAE: 2.370276396162808 | Test Loss: 0.04234245407860726| Test MAE: 0.53325873054564  | LR:   0.0001\n"
     ]
    },
    {
     "name": "stderr",
     "output_type": "stream",
     "text": [
      "Model Training:   0%|          | 2/400 [00:21<1:10:41, 10.66s/it]"
     ]
    },
    {
     "name": "stdout",
     "output_type": "stream",
     "text": [
      "Epoch:     2 | Train Loss: 0.18609661189839244| Train MAE: 2.344053726643324 | Test Loss: 0.043302416714141145| Test MAE: 0.5758712170645595  | LR:   0.0001\n"
     ]
    },
    {
     "name": "stderr",
     "output_type": "stream",
     "text": [
      "Model Training:   1%|          | 3/400 [00:31<1:10:19, 10.63s/it]"
     ]
    },
    {
     "name": "stdout",
     "output_type": "stream",
     "text": [
      "Epoch:     3 | Train Loss: 0.18656453781295568| Train MAE: 2.3497729878872633 | Test Loss: 0.04338538815500215| Test MAE: 0.5496219974011183  | LR:   0.0001\n"
     ]
    },
    {
     "name": "stderr",
     "output_type": "stream",
     "text": [
      "Model Training:   1%|          | 4/400 [00:42<1:10:12, 10.64s/it]"
     ]
    },
    {
     "name": "stdout",
     "output_type": "stream",
     "text": [
      "Epoch:     4 | Train Loss: 0.1863332922803238| Train MAE: 2.359803925268352 | Test Loss: 0.04312014070455916| Test MAE: 0.5443787649273872  | LR:   0.0001\n"
     ]
    },
    {
     "name": "stderr",
     "output_type": "stream",
     "text": [
      "Model Training:   1%|▏         | 5/400 [00:53<1:10:20, 10.68s/it]"
     ]
    },
    {
     "name": "stdout",
     "output_type": "stream",
     "text": [
      "Epoch:     5 | Train Loss: 0.1861670424696058| Train MAE: 2.3393294690176845 | Test Loss: 0.04186349452356808| Test MAE: 0.535059118643403  | LR:   0.0001\n"
     ]
    },
    {
     "name": "stderr",
     "output_type": "stream",
     "text": [
      "Model Training:   2%|▏         | 6/400 [01:04<1:10:10, 10.69s/it]"
     ]
    },
    {
     "name": "stdout",
     "output_type": "stream",
     "text": [
      "Epoch:     6 | Train Loss: 0.18630020128330216| Train MAE: 2.3439140301197767 | Test Loss: 0.04243801807751879| Test MAE: 0.5363411642611027  | LR:   0.0001\n"
     ]
    },
    {
     "name": "stderr",
     "output_type": "stream",
     "text": [
      "Model Training:   2%|▏         | 7/400 [01:14<1:09:48, 10.66s/it]"
     ]
    },
    {
     "name": "stdout",
     "output_type": "stream",
     "text": [
      "Epoch:     7 | Train Loss: 0.18584831559564918| Train MAE: 2.3390905829146504 | Test Loss: 0.04363669251324609| Test MAE: 0.5628857705742121  | LR:   0.0001\n"
     ]
    },
    {
     "name": "stderr",
     "output_type": "stream",
     "text": [
      "Model Training:   2%|▏         | 8/400 [01:25<1:09:37, 10.66s/it]"
     ]
    },
    {
     "name": "stdout",
     "output_type": "stream",
     "text": [
      "Epoch:     8 | Train Loss: 0.1852697134600021| Train MAE: 2.333146397024393 | Test Loss: 0.04200468276394531| Test MAE: 0.5374970436096191  | LR:   0.0001\n"
     ]
    },
    {
     "name": "stderr",
     "output_type": "stream",
     "text": [
      "Model Training:   2%|▏         | 9/400 [01:35<1:09:21, 10.64s/it]"
     ]
    },
    {
     "name": "stdout",
     "output_type": "stream",
     "text": [
      "Epoch:     9 | Train Loss: 0.18540125468280166| Train MAE: 2.351664670743048 | Test Loss: 0.04346869656001218| Test MAE: 0.5650068111717701  | LR:   0.0001\n"
     ]
    },
    {
     "name": "stderr",
     "output_type": "stream",
     "text": [
      "Model Training:   2%|▎         | 10/400 [01:46<1:08:56, 10.61s/it]"
     ]
    },
    {
     "name": "stdout",
     "output_type": "stream",
     "text": [
      "Epoch:    10 | Train Loss: 0.18586963269626722| Train MAE: 2.3518136218190193 | Test Loss: 0.04258204347570427| Test MAE: 0.5443610176444054  | LR: 9.900000000000001e-05\n"
     ]
    },
    {
     "name": "stderr",
     "output_type": "stream",
     "text": [
      "Model Training:   3%|▎         | 11/400 [01:57<1:08:46, 10.61s/it]"
     ]
    },
    {
     "name": "stdout",
     "output_type": "stream",
     "text": [
      "Epoch:    11 | Train Loss: 0.18557182513177395| Train MAE: 2.333997673355043 | Test Loss: 0.04234050927334465| Test MAE: 0.5292004691436887  | LR: 9.900000000000001e-05\n"
     ]
    },
    {
     "name": "stderr",
     "output_type": "stream",
     "text": [
      "Model Training:   3%|▎         | 12/400 [02:07<1:08:32, 10.60s/it]"
     ]
    },
    {
     "name": "stdout",
     "output_type": "stream",
     "text": [
      "Epoch:    12 | Train Loss: 0.18536585936089978| Train MAE: 2.32540091779083 | Test Loss: 0.044534841319546103| Test MAE: 0.6075272606685758  | LR: 9.900000000000001e-05\n"
     ]
    },
    {
     "name": "stderr",
     "output_type": "stream",
     "text": [
      "Model Training:   3%|▎         | 13/400 [02:18<1:08:22, 10.60s/it]"
     ]
    },
    {
     "name": "stdout",
     "output_type": "stream",
     "text": [
      "Epoch:    13 | Train Loss: 0.18573905673110858| Train MAE: 2.347010157071054 | Test Loss: 0.042886288021691144| Test MAE: 0.5340714603662491  | LR: 9.900000000000001e-05\n"
     ]
    },
    {
     "name": "stderr",
     "output_type": "stream",
     "text": [
      "Model Training:   4%|▎         | 14/400 [02:28<1:08:05, 10.58s/it]"
     ]
    },
    {
     "name": "stdout",
     "output_type": "stream",
     "text": [
      "Epoch:    14 | Train Loss: 0.18518811534158885| Train MAE: 2.351952474564314 | Test Loss: 0.04357630660524592| Test MAE: 0.5941215241327882  | LR: 9.900000000000001e-05\n"
     ]
    },
    {
     "name": "stderr",
     "output_type": "stream",
     "text": [
      "Model Training:   4%|▍         | 15/400 [02:39<1:07:55, 10.59s/it]"
     ]
    },
    {
     "name": "stdout",
     "output_type": "stream",
     "text": [
      "Epoch:    15 | Train Loss: 0.18465594144072384| Train MAE: 2.331077167764306 | Test Loss: 0.04302526146057062| Test MAE: 0.5471008336171508  | LR: 9.900000000000001e-05\n"
     ]
    },
    {
     "name": "stderr",
     "output_type": "stream",
     "text": [
      "Model Training:   4%|▍         | 16/400 [02:49<1:07:41, 10.58s/it]"
     ]
    },
    {
     "name": "stdout",
     "output_type": "stream",
     "text": [
      "Epoch:    16 | Train Loss: 0.18510499323019758| Train MAE: 2.3341564666479826 | Test Loss: 0.04308178287465125| Test MAE: 0.575641106814146  | LR: 9.900000000000001e-05\n"
     ]
    },
    {
     "name": "stderr",
     "output_type": "stream",
     "text": [
      "Model Training:   4%|▍         | 17/400 [03:00<1:07:34, 10.59s/it]"
     ]
    },
    {
     "name": "stdout",
     "output_type": "stream",
     "text": [
      "Epoch:    17 | Train Loss: 0.18467794242314994| Train MAE: 2.338236879557371 | Test Loss: 0.04202041486860253| Test MAE: 0.5450938288122416  | LR: 9.900000000000001e-05\n"
     ]
    },
    {
     "name": "stderr",
     "output_type": "stream",
     "text": [
      "Model Training:   4%|▍         | 18/400 [03:11<1:07:20, 10.58s/it]"
     ]
    },
    {
     "name": "stdout",
     "output_type": "stream",
     "text": [
      "Epoch:    18 | Train Loss: 0.18460482428781688| Train MAE: 2.3182538598775864 | Test Loss: 0.043949168059043586| Test MAE: 0.5918524516746402  | LR: 9.900000000000001e-05\n"
     ]
    },
    {
     "name": "stderr",
     "output_type": "stream",
     "text": [
      "Model Training:   5%|▍         | 19/400 [03:21<1:07:26, 10.62s/it]"
     ]
    },
    {
     "name": "stdout",
     "output_type": "stream",
     "text": [
      "Epoch:    19 | Train Loss: 0.18458501703571528| Train MAE: 2.324530857615173 | Test Loss: 0.042348869203124195| Test MAE: 0.5310116736218333  | LR: 9.900000000000001e-05\n"
     ]
    },
    {
     "name": "stderr",
     "output_type": "stream",
     "text": [
      "Model Training:   5%|▌         | 20/400 [03:32<1:07:22, 10.64s/it]"
     ]
    },
    {
     "name": "stdout",
     "output_type": "stream",
     "text": [
      "Epoch:    20 | Train Loss: 0.18414410325931385| Train MAE: 2.320007028989494 | Test Loss: 0.04336769136716612| Test MAE: 0.5618735766038299  | LR: 9.801e-05\n"
     ]
    },
    {
     "name": "stderr",
     "output_type": "stream",
     "text": [
      "Model Training:   5%|▌         | 21/400 [03:43<1:07:13, 10.64s/it]"
     ]
    },
    {
     "name": "stdout",
     "output_type": "stream",
     "text": [
      "Epoch:    21 | Train Loss: 0.1845757418195717| Train MAE: 2.3335019182413816 | Test Loss: 0.04267881586565636| Test MAE: 0.5559957465156913  | LR: 9.801e-05\n"
     ]
    }
   ],
   "source": [
    "import time\n",
    "\n",
    "import torch\n",
    "import torch.nn as nn\n",
    "import torch.nn.functional as F\n",
    "import torch.optim as optim\n",
    "from sklearn.preprocessing import MinMaxScaler\n",
    "from torch.cuda import amp\n",
    "from torch.utils.data import DataLoader, Dataset\n",
    "from torch.utils.tensorboard import SummaryWriter\n",
    "from tqdm import tqdm\n",
    "import os\n",
    "import joblib\n",
    "import numpy as np\n",
    "import matplotlib.pyplot as plt\n",
    "\n",
    "# from models import LSTM, AttBLSTM, BLSTM_L, BLSTM, BLA, LinearTransformer\n",
    "# from dataset import PRAS_Dataset\n",
    "\n",
    "'''\n",
    "Typical Mixed Precision Training\n",
    "'''\n",
    "\n",
    "def clip_gradient(optimizer, grad_clip):\n",
    "    \"\"\"\n",
    "    Clips gradients computed during backpropagation to avoid explosion of gradients.\n",
    "\n",
    "    :param optimizer: optimizer with the gradients to be clipped\n",
    "    :param grad_clip: clip value\n",
    "    \"\"\"\n",
    "    for group in optimizer.param_groups:\n",
    "        for param in group[\"params\"]:\n",
    "            if param.grad is not None:\n",
    "                param.grad.data.clamp_(-grad_clip, grad_clip)\n",
    "\n",
    "\n",
    "def train(model: nn.Module,\n",
    "          train_loader: DataLoader,\n",
    "          test_loader: DataLoader,\n",
    "          learning_rate: float,\n",
    "          epochs: int,\n",
    "          input_len: int = 64,\n",
    "          step_lr: bool = True,\n",
    "          lr_change_step: int = 10,\n",
    "          gamma: float = 0.99,\n",
    "          device: str = 'cuda'):\n",
    "    model.to(device)\n",
    "    optimizer = optim.AdamW(model.parameters(), lr=learning_rate)\n",
    "    scheduler = torch.optim.lr_scheduler.StepLR(optimizer, lr_change_step, gamma=gamma)\n",
    "    loss_caculate = nn.MSELoss().to(device)\n",
    "    loss_ca1 = nn.L1Loss().to(device)\n",
    "    scaler = amp.GradScaler(enabled=True)\n",
    "\n",
    "    train_loss_list = list()\n",
    "    test_loss_list = list()\n",
    "    test_loss = torch.Tensor([float('inf')])\n",
    "\n",
    "    weight_file_path = '/root/data_weight_'+model.name()+\"/\"\n",
    "\n",
    "    if not os.path.exists(weight_file_path):\n",
    "        os.mkdir(weight_file_path)\n",
    "    break_flag = 0\n",
    "    with tqdm(total=epochs, desc='Model Training') as pbar:\n",
    "        for epoch in range(1, epochs + 1):\n",
    "\n",
    "            train_total_loss = 0.\n",
    "            test_total_loss = 0.\n",
    "            train_total_loss1 = 0.\n",
    "            test_total_loss1 = 0.\n",
    "            '''\n",
    "            Train model\n",
    "            '''\n",
    "            model.train()\n",
    "            loss = None\n",
    "\n",
    "            for i in train_loader:\n",
    "                sequence = i[0].to(device)\n",
    "                target = i[1].squeeze(1).to(device)\n",
    "\n",
    "                optimizer.zero_grad()\n",
    "\n",
    "                with amp.autocast(enabled=True):\n",
    "                    ouputs = model(sequence)\n",
    "                    loss = loss_caculate(ouputs, target[:, -1, :])\n",
    "                    loss1 = loss_ca1(ouputs, target[:, -1, :])\n",
    "                scaler.scale(loss).backward()\n",
    "                clip_gradient(optimizer, 10e5)\n",
    "                scaler.step(optimizer)\n",
    "                scaler.update()\n",
    "\n",
    "                train_total_loss += loss.item()\n",
    "                train_total_loss1 += loss1.item()\n",
    "\n",
    "            if step_lr:\n",
    "                scheduler.step()\n",
    "\n",
    "            '''\n",
    "            Evaluate model\n",
    "            '''\n",
    "            model.eval()\n",
    "            loss = None\n",
    "\n",
    "            with torch.no_grad():\n",
    "                for i in test_loader:\n",
    "                    sequence = i[0].to(device)\n",
    "                    target = i[1].squeeze(1).to(device)\n",
    "\n",
    "                    ouputs = model(sequence)\n",
    "                    loss = loss_caculate(ouputs, target[:, -1, :])\n",
    "                    # loss = loss_caculate(ouputs, target)\n",
    "                    loss1 = loss_ca1(ouputs, target[:, -1, :])\n",
    "                    test_total_loss += loss.item()\n",
    "                    test_total_loss1 += loss1.item()\n",
    "                if test_total_loss <= test_loss:\n",
    "                    for name in os.listdir(weight_file_path):\n",
    "                        file = weight_file_path + '/' + name\n",
    "                        # print(int(name.split('_')[-1].split('.')[0]))\n",
    "                        try:\n",
    "                            if int(name.split('_')[1]) == input_len:\n",
    "                                os.remove(file)\n",
    "                        except:\n",
    "                            pass\n",
    "                    torch.save(model.state_dict(),\n",
    "                               weight_file_path + '/' + '{}_{}_{}_{}_{}.pt'.format(model.name(), input_len, test_total_loss,\n",
    "                                                                                   test_total_loss1,epoch))\n",
    "                    test_loss = test_total_loss\n",
    "                    final_name = weight_file_path + '/' + '{}_{}_{}_{}_{}.pt'.format(model.name(),input_len,\n",
    "                                                                                     test_total_loss, test_total_loss1, epoch\n",
    "                                                                                     )\n",
    "                    break_flag = 0\n",
    "                else:\n",
    "                    break_flag += 1\n",
    "\n",
    "            tqdm.write(\n",
    "                'Epoch: {:5} | Train Loss: {:8}| Train MAE: {:8} | Test Loss: {:8}| Test MAE: {:8}  | LR: {:8}'.format(\n",
    "                    epoch, train_total_loss, train_total_loss1,\n",
    "                    test_total_loss, test_total_loss1,\n",
    "                    scheduler.get_last_lr()[0]))\n",
    "\n",
    "            pbar.update(1)\n",
    "            if epoch >= 100 and break_flag >= 50:\n",
    "                break\n",
    "    return final_name\n",
    "\n",
    "\n",
    "def xtest(model: nn.Module,\n",
    "         test_dataset: PRAS_Dataset,\n",
    "         device: str = 'cuda'):\n",
    "    model.to(device)\n",
    "    model.eval()\n",
    "    loss_caculate = nn.MSELoss().to(device)\n",
    "    loss_ca1 = nn.L1Loss().to(device)\n",
    "    test_total_loss = 0.\n",
    "    test_total_loss1 = 0.\n",
    "    weight_file_path = './alldata_weight_BLA/'\n",
    "    predict_array_list = list()\n",
    "    target_array_list = list()\n",
    "\n",
    "\n",
    "    for i in test_dataset:\n",
    "        input_tensor = i[0].unsqueeze(0).to(device)\n",
    "        target_tensor = i[1]\n",
    "\n",
    "        with torch.no_grad():\n",
    "            output_tensor = model(input_tensor).squeeze(0).cpu()\n",
    "\n",
    "            loss = loss_caculate(output_tensor, target_tensor[-1])\n",
    "            test_total_loss += loss.item()\n",
    "\n",
    "            loss1 = loss_ca1(output_tensor, target_tensor[-1])\n",
    "            test_total_loss1 += loss1.item()\n",
    "\n",
    "            predict_array_list.append(output_tensor.numpy())\n",
    "            target_array_list.append(target_tensor[-1].numpy())\n",
    "\n",
    "    input_array = test_dataset[0][0].cpu().numpy()\n",
    "    predict_array = np.array(predict_array_list)\n",
    "    target_array = np.array(target_array_list)\n",
    "\n",
    "    return input_array.T, predict_array.T, target_array.T, test_total_loss, test_total_loss1, len(test_dataset)\n",
    "\n",
    "\n",
    "if __name__ == '__main__':\n",
    "    file_path = '/root/power1.array'\n",
    "\n",
    "    batch_size = 1024\n",
    "    do_train = True\n",
    "    learning_rate = 0.0001\n",
    "    epochs = 400\n",
    "\n",
    "    do_test = False\n",
    "    input_lens = [32, 48, 64, 80, 96, 112, 128]\n",
    "    # 定义模型时需要确定是单一变量预测还是多变量预测\n",
    "    # model = BLA(input_size=15, output_size=15)\n",
    "    model = LinearTransformer(input_size=8, output_size=8)\n",
    "\n",
    "    for input_len in input_lens:\n",
    "        print(f\"输入长度为{input_len}\")\n",
    "        train_dataset = PRAS_Dataset(input_len=input_len, train=True, file_path=file_path, transformer=True)\n",
    "        test_dataset = PRAS_Dataset(input_len=input_len, train=False, file_path=file_path, transformer=True)\n",
    "\n",
    "        train_loader = DataLoader(train_dataset, shuffle=True, batch_size=batch_size, drop_last=True)\n",
    "        test_loader = DataLoader(test_dataset, shuffle=False, batch_size=batch_size, drop_last=True)\n",
    "\n",
    "        start = time.time()\n",
    "        final_name = \" \"\n",
    "        if do_train:\n",
    "            final_name = train(model=model, train_loader=train_loader, test_loader=test_loader, input_len=input_len,\n",
    "                               learning_rate=learning_rate, epochs=epochs)\n",
    "\n",
    "        end = time.time()\n",
    "\n",
    "        # print(end - start)\n",
    "\n",
    "        if do_test:\n",
    "            # model = BLSTM(input_size=15, output_size=15)\n",
    "            model.load_state_dict(torch.load(final_name))\n",
    "            i, p, t, loss_MSE, loss_MAE, length = xtest(model=model, test_dataset=test_dataset)\n",
    "\n",
    "            # for plot_feature_idx in range(0, 15):\n",
    "            #     plt.figure(plot_feature_idx)\n",
    "            #     plt.plot(range(0, i.shape[1]), i[plot_feature_idx], )\n",
    "            #     plt.plot(range(i.shape[1], i.shape[1] + p.shape[1]), p[plot_feature_idx], )\n",
    "            #     plt.plot(range(i.shape[1], i.shape[1] + p.shape[1]), t[plot_feature_idx], )\n",
    "\n",
    "            # plt.show()\n",
    "\n",
    "            print('MSE: {}'.format(loss_MSE))\n",
    "            print('MAE: {}'.format(loss_MAE))"
   ]
  },
  {
   "cell_type": "markdown",
   "metadata": {
    "id": "JMcblVjErCFf"
   },
   "source": []
  },
  {
   "cell_type": "code",
   "execution_count": null,
   "metadata": {
    "executionInfo": {
     "elapsed": 16,
     "status": "aborted",
     "timestamp": 1675064408441,
     "user": {
      "displayName": "Agd Tp",
      "userId": "13309599981929937069"
     },
     "user_tz": -480
    },
    "id": "oW67MPuRewE1"
   },
   "outputs": [],
   "source": []
  }
 ],
 "metadata": {
  "accelerator": "GPU",
  "colab": {
   "authorship_tag": "ABX9TyNZjWKjh2BbSGhsMMsn5MG7",
   "mount_file_id": "1NHcfEa4nVVQzvf1g4PzrCVZp0xnm8VRu",
   "provenance": []
  },
  "gpuClass": "standard",
  "kernelspec": {
   "display_name": "Python 3 (ipykernel)",
   "language": "python",
   "name": "python3"
  },
  "language_info": {
   "codemirror_mode": {
    "name": "ipython",
    "version": 3
   },
   "file_extension": ".py",
   "mimetype": "text/x-python",
   "name": "python",
   "nbconvert_exporter": "python",
   "pygments_lexer": "ipython3",
   "version": "3.8.10"
  }
 },
 "nbformat": 4,
 "nbformat_minor": 4
}
