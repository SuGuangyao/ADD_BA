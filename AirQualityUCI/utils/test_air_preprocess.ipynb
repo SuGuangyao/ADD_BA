{
 "cells": [
  {
   "cell_type": "code",
   "execution_count": 91,
   "outputs": [],
   "source": [
    "import pandas as pd\n",
    "import numpy as np\n",
    "import joblib"
   ],
   "metadata": {
    "collapsed": false,
    "pycharm": {
     "name": "#%%\n"
    }
   }
  },
  {
   "cell_type": "code",
   "execution_count": 92,
   "outputs": [
    {
     "data": {
      "text/plain": "           Date      Time  CO(GT)  PT08.S1(CO)  NMHC(GT)   C6H6(GT)  \\\n0    2004-03-10  18:00:00     2.6      1360.00       150  11.881723   \n1    2004-03-10  19:00:00     2.0      1292.25       112   9.397165   \n2    2004-03-10  20:00:00     2.2      1402.00        88   8.997817   \n3    2004-03-10  21:00:00     2.2      1375.50        80   9.228796   \n4    2004-03-10  22:00:00     1.6      1272.25        51   6.518224   \n...         ...       ...     ...          ...       ...        ...   \n9352 2005-04-04  10:00:00     3.1      1314.25      -200  13.529605   \n9353 2005-04-04  11:00:00     2.4      1162.50      -200  11.355157   \n9354 2005-04-04  12:00:00     2.4      1142.00      -200  12.374538   \n9355 2005-04-04  13:00:00     2.1      1002.50      -200   9.547187   \n9356 2005-04-04  14:00:00     2.2      1070.75      -200  11.932060   \n\n      PT08.S2(NMHC)  NOx(GT)  PT08.S3(NOx)  NO2(GT)  PT08.S4(NO2)  \\\n0           1045.50    166.0       1056.25    113.0       1692.00   \n1            954.75    103.0       1173.75     92.0       1558.75   \n2            939.25    131.0       1140.00    114.0       1554.50   \n3            948.25    172.0       1092.00    122.0       1583.75   \n4            835.50    131.0       1205.00    116.0       1490.00   \n...             ...      ...           ...      ...           ...   \n9352        1101.25    471.7        538.50    189.8       1374.25   \n9353        1027.00    353.3        603.75    179.2       1263.50   \n9354        1062.50    293.0        603.25    174.7       1240.75   \n9355         960.50    234.5        701.50    155.7       1041.00   \n9356        1047.25    265.2        654.00    167.7       1128.50   \n\n      PT08.S5(O3)       T         RH        AH  Unnamed: 15  Unnamed: 16  \n0         1267.50  13.600  48.875001  0.757754          NaN          NaN  \n1          972.25  13.300  47.700000  0.725487          NaN          NaN  \n2         1074.00  11.900  53.975000  0.750239          NaN          NaN  \n3         1203.25  11.000  60.000000  0.786713          NaN          NaN  \n4         1110.00  11.150  59.575001  0.788794          NaN          NaN  \n...           ...     ...        ...       ...          ...          ...  \n9352      1728.50  21.850  29.250000  0.756824          NaN          NaN  \n9353      1269.00  24.325  23.725000  0.711864          NaN          NaN  \n9354      1092.00  26.900  18.350000  0.640649          NaN          NaN  \n9355       769.75  28.325  13.550000  0.513866          NaN          NaN  \n9356       816.00  28.500  13.125000  0.502804          NaN          NaN  \n\n[9357 rows x 17 columns]",
      "text/html": "<div>\n<style scoped>\n    .dataframe tbody tr th:only-of-type {\n        vertical-align: middle;\n    }\n\n    .dataframe tbody tr th {\n        vertical-align: top;\n    }\n\n    .dataframe thead th {\n        text-align: right;\n    }\n</style>\n<table border=\"1\" class=\"dataframe\">\n  <thead>\n    <tr style=\"text-align: right;\">\n      <th></th>\n      <th>Date</th>\n      <th>Time</th>\n      <th>CO(GT)</th>\n      <th>PT08.S1(CO)</th>\n      <th>NMHC(GT)</th>\n      <th>C6H6(GT)</th>\n      <th>PT08.S2(NMHC)</th>\n      <th>NOx(GT)</th>\n      <th>PT08.S3(NOx)</th>\n      <th>NO2(GT)</th>\n      <th>PT08.S4(NO2)</th>\n      <th>PT08.S5(O3)</th>\n      <th>T</th>\n      <th>RH</th>\n      <th>AH</th>\n      <th>Unnamed: 15</th>\n      <th>Unnamed: 16</th>\n    </tr>\n  </thead>\n  <tbody>\n    <tr>\n      <th>0</th>\n      <td>2004-03-10</td>\n      <td>18:00:00</td>\n      <td>2.6</td>\n      <td>1360.00</td>\n      <td>150</td>\n      <td>11.881723</td>\n      <td>1045.50</td>\n      <td>166.0</td>\n      <td>1056.25</td>\n      <td>113.0</td>\n      <td>1692.00</td>\n      <td>1267.50</td>\n      <td>13.600</td>\n      <td>48.875001</td>\n      <td>0.757754</td>\n      <td>NaN</td>\n      <td>NaN</td>\n    </tr>\n    <tr>\n      <th>1</th>\n      <td>2004-03-10</td>\n      <td>19:00:00</td>\n      <td>2.0</td>\n      <td>1292.25</td>\n      <td>112</td>\n      <td>9.397165</td>\n      <td>954.75</td>\n      <td>103.0</td>\n      <td>1173.75</td>\n      <td>92.0</td>\n      <td>1558.75</td>\n      <td>972.25</td>\n      <td>13.300</td>\n      <td>47.700000</td>\n      <td>0.725487</td>\n      <td>NaN</td>\n      <td>NaN</td>\n    </tr>\n    <tr>\n      <th>2</th>\n      <td>2004-03-10</td>\n      <td>20:00:00</td>\n      <td>2.2</td>\n      <td>1402.00</td>\n      <td>88</td>\n      <td>8.997817</td>\n      <td>939.25</td>\n      <td>131.0</td>\n      <td>1140.00</td>\n      <td>114.0</td>\n      <td>1554.50</td>\n      <td>1074.00</td>\n      <td>11.900</td>\n      <td>53.975000</td>\n      <td>0.750239</td>\n      <td>NaN</td>\n      <td>NaN</td>\n    </tr>\n    <tr>\n      <th>3</th>\n      <td>2004-03-10</td>\n      <td>21:00:00</td>\n      <td>2.2</td>\n      <td>1375.50</td>\n      <td>80</td>\n      <td>9.228796</td>\n      <td>948.25</td>\n      <td>172.0</td>\n      <td>1092.00</td>\n      <td>122.0</td>\n      <td>1583.75</td>\n      <td>1203.25</td>\n      <td>11.000</td>\n      <td>60.000000</td>\n      <td>0.786713</td>\n      <td>NaN</td>\n      <td>NaN</td>\n    </tr>\n    <tr>\n      <th>4</th>\n      <td>2004-03-10</td>\n      <td>22:00:00</td>\n      <td>1.6</td>\n      <td>1272.25</td>\n      <td>51</td>\n      <td>6.518224</td>\n      <td>835.50</td>\n      <td>131.0</td>\n      <td>1205.00</td>\n      <td>116.0</td>\n      <td>1490.00</td>\n      <td>1110.00</td>\n      <td>11.150</td>\n      <td>59.575001</td>\n      <td>0.788794</td>\n      <td>NaN</td>\n      <td>NaN</td>\n    </tr>\n    <tr>\n      <th>...</th>\n      <td>...</td>\n      <td>...</td>\n      <td>...</td>\n      <td>...</td>\n      <td>...</td>\n      <td>...</td>\n      <td>...</td>\n      <td>...</td>\n      <td>...</td>\n      <td>...</td>\n      <td>...</td>\n      <td>...</td>\n      <td>...</td>\n      <td>...</td>\n      <td>...</td>\n      <td>...</td>\n      <td>...</td>\n    </tr>\n    <tr>\n      <th>9352</th>\n      <td>2005-04-04</td>\n      <td>10:00:00</td>\n      <td>3.1</td>\n      <td>1314.25</td>\n      <td>-200</td>\n      <td>13.529605</td>\n      <td>1101.25</td>\n      <td>471.7</td>\n      <td>538.50</td>\n      <td>189.8</td>\n      <td>1374.25</td>\n      <td>1728.50</td>\n      <td>21.850</td>\n      <td>29.250000</td>\n      <td>0.756824</td>\n      <td>NaN</td>\n      <td>NaN</td>\n    </tr>\n    <tr>\n      <th>9353</th>\n      <td>2005-04-04</td>\n      <td>11:00:00</td>\n      <td>2.4</td>\n      <td>1162.50</td>\n      <td>-200</td>\n      <td>11.355157</td>\n      <td>1027.00</td>\n      <td>353.3</td>\n      <td>603.75</td>\n      <td>179.2</td>\n      <td>1263.50</td>\n      <td>1269.00</td>\n      <td>24.325</td>\n      <td>23.725000</td>\n      <td>0.711864</td>\n      <td>NaN</td>\n      <td>NaN</td>\n    </tr>\n    <tr>\n      <th>9354</th>\n      <td>2005-04-04</td>\n      <td>12:00:00</td>\n      <td>2.4</td>\n      <td>1142.00</td>\n      <td>-200</td>\n      <td>12.374538</td>\n      <td>1062.50</td>\n      <td>293.0</td>\n      <td>603.25</td>\n      <td>174.7</td>\n      <td>1240.75</td>\n      <td>1092.00</td>\n      <td>26.900</td>\n      <td>18.350000</td>\n      <td>0.640649</td>\n      <td>NaN</td>\n      <td>NaN</td>\n    </tr>\n    <tr>\n      <th>9355</th>\n      <td>2005-04-04</td>\n      <td>13:00:00</td>\n      <td>2.1</td>\n      <td>1002.50</td>\n      <td>-200</td>\n      <td>9.547187</td>\n      <td>960.50</td>\n      <td>234.5</td>\n      <td>701.50</td>\n      <td>155.7</td>\n      <td>1041.00</td>\n      <td>769.75</td>\n      <td>28.325</td>\n      <td>13.550000</td>\n      <td>0.513866</td>\n      <td>NaN</td>\n      <td>NaN</td>\n    </tr>\n    <tr>\n      <th>9356</th>\n      <td>2005-04-04</td>\n      <td>14:00:00</td>\n      <td>2.2</td>\n      <td>1070.75</td>\n      <td>-200</td>\n      <td>11.932060</td>\n      <td>1047.25</td>\n      <td>265.2</td>\n      <td>654.00</td>\n      <td>167.7</td>\n      <td>1128.50</td>\n      <td>816.00</td>\n      <td>28.500</td>\n      <td>13.125000</td>\n      <td>0.502804</td>\n      <td>NaN</td>\n      <td>NaN</td>\n    </tr>\n  </tbody>\n</table>\n<p>9357 rows × 17 columns</p>\n</div>"
     },
     "execution_count": 92,
     "metadata": {},
     "output_type": "execute_result"
    }
   ],
   "source": [
    "raw_df = pd.read_excel('../data/AirQualityUCI/raw_data/AirQualityUCI.xlsx')\n",
    "raw_df"
   ],
   "metadata": {
    "collapsed": false,
    "pycharm": {
     "name": "#%%\n"
    }
   }
  },
  {
   "cell_type": "code",
   "execution_count": 93,
   "outputs": [
    {
     "name": "stdout",
     "output_type": "stream",
     "text": [
      "<class 'pandas.core.frame.DataFrame'>\n",
      "RangeIndex: 9357 entries, 0 to 9356\n",
      "Data columns (total 17 columns):\n",
      " #   Column         Non-Null Count  Dtype         \n",
      "---  ------         --------------  -----         \n",
      " 0   Date           9357 non-null   datetime64[ns]\n",
      " 1   Time           9357 non-null   object        \n",
      " 2   CO(GT)         9357 non-null   float64       \n",
      " 3   PT08.S1(CO)    9357 non-null   float64       \n",
      " 4   NMHC(GT)       9357 non-null   int64         \n",
      " 5   C6H6(GT)       9357 non-null   float64       \n",
      " 6   PT08.S2(NMHC)  9357 non-null   float64       \n",
      " 7   NOx(GT)        9357 non-null   float64       \n",
      " 8   PT08.S3(NOx)   9357 non-null   float64       \n",
      " 9   NO2(GT)        9357 non-null   float64       \n",
      " 10  PT08.S4(NO2)   9357 non-null   float64       \n",
      " 11  PT08.S5(O3)    9357 non-null   float64       \n",
      " 12  T              9357 non-null   float64       \n",
      " 13  RH             9357 non-null   float64       \n",
      " 14  AH             9357 non-null   float64       \n",
      " 15  Unnamed: 15    0 non-null      float64       \n",
      " 16  Unnamed: 16    0 non-null      float64       \n",
      "dtypes: datetime64[ns](1), float64(14), int64(1), object(1)\n",
      "memory usage: 1.2+ MB\n"
     ]
    }
   ],
   "source": [
    "raw_df.info()"
   ],
   "metadata": {
    "collapsed": false,
    "pycharm": {
     "name": "#%%\n"
    }
   }
  },
  {
   "cell_type": "code",
   "execution_count": 94,
   "outputs": [
    {
     "name": "stdout",
     "output_type": "stream",
     "text": [
      "<class 'pandas.core.frame.DataFrame'>\n",
      "RangeIndex: 9357 entries, 0 to 9356\n",
      "Data columns (total 17 columns):\n",
      " #   Column         Non-Null Count  Dtype         \n",
      "---  ------         --------------  -----         \n",
      " 0   Date           9357 non-null   datetime64[ns]\n",
      " 1   Time           9357 non-null   object        \n",
      " 2   CO(GT)         7674 non-null   float64       \n",
      " 3   PT08.S1(CO)    8991 non-null   float64       \n",
      " 4   NMHC(GT)       914 non-null    float64       \n",
      " 5   C6H6(GT)       8991 non-null   float64       \n",
      " 6   PT08.S2(NMHC)  8991 non-null   float64       \n",
      " 7   NOx(GT)        7718 non-null   float64       \n",
      " 8   PT08.S3(NOx)   8991 non-null   float64       \n",
      " 9   NO2(GT)        7715 non-null   float64       \n",
      " 10  PT08.S4(NO2)   8991 non-null   float64       \n",
      " 11  PT08.S5(O3)    8991 non-null   float64       \n",
      " 12  T              8991 non-null   float64       \n",
      " 13  RH             8991 non-null   float64       \n",
      " 14  AH             8991 non-null   float64       \n",
      " 15  Unnamed: 15    0 non-null      float64       \n",
      " 16  Unnamed: 16    0 non-null      float64       \n",
      "dtypes: datetime64[ns](1), float64(15), object(1)\n",
      "memory usage: 1.2+ MB\n"
     ]
    }
   ],
   "source": [
    "raw_df.replace(-200, np.nan, inplace=True)\n",
    "raw_df.info()"
   ],
   "metadata": {
    "collapsed": false,
    "pycharm": {
     "name": "#%%\n"
    }
   }
  },
  {
   "cell_type": "code",
   "execution_count": 95,
   "outputs": [
    {
     "data": {
      "text/plain": "      CO(GT)  PT08.S1(CO)  NMHC(GT)   C6H6(GT)  PT08.S2(NMHC)  NOx(GT)  \\\n0        2.6      1360.00     150.0  11.881723        1045.50    166.0   \n1        2.0      1292.25     112.0   9.397165         954.75    103.0   \n2        2.2      1402.00      88.0   8.997817         939.25    131.0   \n3        2.2      1375.50      80.0   9.228796         948.25    172.0   \n4        1.6      1272.25      51.0   6.518224         835.50    131.0   \n...      ...          ...       ...        ...            ...      ...   \n9352     3.1      1314.25       NaN  13.529605        1101.25    471.7   \n9353     2.4      1162.50       NaN  11.355157        1027.00    353.3   \n9354     2.4      1142.00       NaN  12.374538        1062.50    293.0   \n9355     2.1      1002.50       NaN   9.547187         960.50    234.5   \n9356     2.2      1070.75       NaN  11.932060        1047.25    265.2   \n\n      PT08.S3(NOx)  NO2(GT)  PT08.S4(NO2)  PT08.S5(O3)       T         RH  \\\n0          1056.25    113.0       1692.00      1267.50  13.600  48.875001   \n1          1173.75     92.0       1558.75       972.25  13.300  47.700000   \n2          1140.00    114.0       1554.50      1074.00  11.900  53.975000   \n3          1092.00    122.0       1583.75      1203.25  11.000  60.000000   \n4          1205.00    116.0       1490.00      1110.00  11.150  59.575001   \n...            ...      ...           ...          ...     ...        ...   \n9352        538.50    189.8       1374.25      1728.50  21.850  29.250000   \n9353        603.75    179.2       1263.50      1269.00  24.325  23.725000   \n9354        603.25    174.7       1240.75      1092.00  26.900  18.350000   \n9355        701.50    155.7       1041.00       769.75  28.325  13.550000   \n9356        654.00    167.7       1128.50       816.00  28.500  13.125000   \n\n            AH  \n0     0.757754  \n1     0.725487  \n2     0.750239  \n3     0.786713  \n4     0.788794  \n...        ...  \n9352  0.756824  \n9353  0.711864  \n9354  0.640649  \n9355  0.513866  \n9356  0.502804  \n\n[9357 rows x 13 columns]",
      "text/html": "<div>\n<style scoped>\n    .dataframe tbody tr th:only-of-type {\n        vertical-align: middle;\n    }\n\n    .dataframe tbody tr th {\n        vertical-align: top;\n    }\n\n    .dataframe thead th {\n        text-align: right;\n    }\n</style>\n<table border=\"1\" class=\"dataframe\">\n  <thead>\n    <tr style=\"text-align: right;\">\n      <th></th>\n      <th>CO(GT)</th>\n      <th>PT08.S1(CO)</th>\n      <th>NMHC(GT)</th>\n      <th>C6H6(GT)</th>\n      <th>PT08.S2(NMHC)</th>\n      <th>NOx(GT)</th>\n      <th>PT08.S3(NOx)</th>\n      <th>NO2(GT)</th>\n      <th>PT08.S4(NO2)</th>\n      <th>PT08.S5(O3)</th>\n      <th>T</th>\n      <th>RH</th>\n      <th>AH</th>\n    </tr>\n  </thead>\n  <tbody>\n    <tr>\n      <th>0</th>\n      <td>2.6</td>\n      <td>1360.00</td>\n      <td>150.0</td>\n      <td>11.881723</td>\n      <td>1045.50</td>\n      <td>166.0</td>\n      <td>1056.25</td>\n      <td>113.0</td>\n      <td>1692.00</td>\n      <td>1267.50</td>\n      <td>13.600</td>\n      <td>48.875001</td>\n      <td>0.757754</td>\n    </tr>\n    <tr>\n      <th>1</th>\n      <td>2.0</td>\n      <td>1292.25</td>\n      <td>112.0</td>\n      <td>9.397165</td>\n      <td>954.75</td>\n      <td>103.0</td>\n      <td>1173.75</td>\n      <td>92.0</td>\n      <td>1558.75</td>\n      <td>972.25</td>\n      <td>13.300</td>\n      <td>47.700000</td>\n      <td>0.725487</td>\n    </tr>\n    <tr>\n      <th>2</th>\n      <td>2.2</td>\n      <td>1402.00</td>\n      <td>88.0</td>\n      <td>8.997817</td>\n      <td>939.25</td>\n      <td>131.0</td>\n      <td>1140.00</td>\n      <td>114.0</td>\n      <td>1554.50</td>\n      <td>1074.00</td>\n      <td>11.900</td>\n      <td>53.975000</td>\n      <td>0.750239</td>\n    </tr>\n    <tr>\n      <th>3</th>\n      <td>2.2</td>\n      <td>1375.50</td>\n      <td>80.0</td>\n      <td>9.228796</td>\n      <td>948.25</td>\n      <td>172.0</td>\n      <td>1092.00</td>\n      <td>122.0</td>\n      <td>1583.75</td>\n      <td>1203.25</td>\n      <td>11.000</td>\n      <td>60.000000</td>\n      <td>0.786713</td>\n    </tr>\n    <tr>\n      <th>4</th>\n      <td>1.6</td>\n      <td>1272.25</td>\n      <td>51.0</td>\n      <td>6.518224</td>\n      <td>835.50</td>\n      <td>131.0</td>\n      <td>1205.00</td>\n      <td>116.0</td>\n      <td>1490.00</td>\n      <td>1110.00</td>\n      <td>11.150</td>\n      <td>59.575001</td>\n      <td>0.788794</td>\n    </tr>\n    <tr>\n      <th>...</th>\n      <td>...</td>\n      <td>...</td>\n      <td>...</td>\n      <td>...</td>\n      <td>...</td>\n      <td>...</td>\n      <td>...</td>\n      <td>...</td>\n      <td>...</td>\n      <td>...</td>\n      <td>...</td>\n      <td>...</td>\n      <td>...</td>\n    </tr>\n    <tr>\n      <th>9352</th>\n      <td>3.1</td>\n      <td>1314.25</td>\n      <td>NaN</td>\n      <td>13.529605</td>\n      <td>1101.25</td>\n      <td>471.7</td>\n      <td>538.50</td>\n      <td>189.8</td>\n      <td>1374.25</td>\n      <td>1728.50</td>\n      <td>21.850</td>\n      <td>29.250000</td>\n      <td>0.756824</td>\n    </tr>\n    <tr>\n      <th>9353</th>\n      <td>2.4</td>\n      <td>1162.50</td>\n      <td>NaN</td>\n      <td>11.355157</td>\n      <td>1027.00</td>\n      <td>353.3</td>\n      <td>603.75</td>\n      <td>179.2</td>\n      <td>1263.50</td>\n      <td>1269.00</td>\n      <td>24.325</td>\n      <td>23.725000</td>\n      <td>0.711864</td>\n    </tr>\n    <tr>\n      <th>9354</th>\n      <td>2.4</td>\n      <td>1142.00</td>\n      <td>NaN</td>\n      <td>12.374538</td>\n      <td>1062.50</td>\n      <td>293.0</td>\n      <td>603.25</td>\n      <td>174.7</td>\n      <td>1240.75</td>\n      <td>1092.00</td>\n      <td>26.900</td>\n      <td>18.350000</td>\n      <td>0.640649</td>\n    </tr>\n    <tr>\n      <th>9355</th>\n      <td>2.1</td>\n      <td>1002.50</td>\n      <td>NaN</td>\n      <td>9.547187</td>\n      <td>960.50</td>\n      <td>234.5</td>\n      <td>701.50</td>\n      <td>155.7</td>\n      <td>1041.00</td>\n      <td>769.75</td>\n      <td>28.325</td>\n      <td>13.550000</td>\n      <td>0.513866</td>\n    </tr>\n    <tr>\n      <th>9356</th>\n      <td>2.2</td>\n      <td>1070.75</td>\n      <td>NaN</td>\n      <td>11.932060</td>\n      <td>1047.25</td>\n      <td>265.2</td>\n      <td>654.00</td>\n      <td>167.7</td>\n      <td>1128.50</td>\n      <td>816.00</td>\n      <td>28.500</td>\n      <td>13.125000</td>\n      <td>0.502804</td>\n    </tr>\n  </tbody>\n</table>\n<p>9357 rows × 13 columns</p>\n</div>"
     },
     "execution_count": 95,
     "metadata": {},
     "output_type": "execute_result"
    }
   ],
   "source": [
    "raw_df = raw_df.sort_values(by=['Date', 'Time'], ascending=True)  # 将数据根据 Data 和 Time 升序排列\n",
    "item_list = ['CO(GT)', 'PT08.S1(CO)', 'NMHC(GT)', 'C6H6(GT)', 'PT08.S2(NMHC)', 'NOx(GT)',\n",
    "                     'PT08.S3(NOx)', 'NO2(GT)', 'PT08.S4(NO2)', 'PT08.S5(O3)', 'T', 'RH', 'AH']\n",
    "raw_df = raw_df[item_list]  # 保留 item_list 中的特征\n",
    "raw_df"
   ],
   "metadata": {
    "collapsed": false,
    "pycharm": {
     "name": "#%%\n"
    }
   }
  },
  {
   "cell_type": "code",
   "execution_count": 96,
   "outputs": [
    {
     "data": {
      "text/plain": "      CO(GT)  PT08.S1(CO)   C6H6(GT)  PT08.S2(NMHC)  NOx(GT)  PT08.S3(NOx)  \\\n0        2.6      1360.00  11.881723        1045.50    166.0       1056.25   \n1        2.0      1292.25   9.397165         954.75    103.0       1173.75   \n2        2.2      1402.00   8.997817         939.25    131.0       1140.00   \n3        2.2      1375.50   9.228796         948.25    172.0       1092.00   \n4        1.6      1272.25   6.518224         835.50    131.0       1205.00   \n...      ...          ...        ...            ...      ...           ...   \n9352     3.1      1314.25  13.529605        1101.25    471.7        538.50   \n9353     2.4      1162.50  11.355157        1027.00    353.3        603.75   \n9354     2.4      1142.00  12.374538        1062.50    293.0        603.25   \n9355     2.1      1002.50   9.547187         960.50    234.5        701.50   \n9356     2.2      1070.75  11.932060        1047.25    265.2        654.00   \n\n      NO2(GT)  PT08.S4(NO2)  PT08.S5(O3)       T         RH        AH  \n0       113.0       1692.00      1267.50  13.600  48.875001  0.757754  \n1        92.0       1558.75       972.25  13.300  47.700000  0.725487  \n2       114.0       1554.50      1074.00  11.900  53.975000  0.750239  \n3       122.0       1583.75      1203.25  11.000  60.000000  0.786713  \n4       116.0       1490.00      1110.00  11.150  59.575001  0.788794  \n...       ...           ...          ...     ...        ...       ...  \n9352    189.8       1374.25      1728.50  21.850  29.250000  0.756824  \n9353    179.2       1263.50      1269.00  24.325  23.725000  0.711864  \n9354    174.7       1240.75      1092.00  26.900  18.350000  0.640649  \n9355    155.7       1041.00       769.75  28.325  13.550000  0.513866  \n9356    167.7       1128.50       816.00  28.500  13.125000  0.502804  \n\n[9357 rows x 12 columns]",
      "text/html": "<div>\n<style scoped>\n    .dataframe tbody tr th:only-of-type {\n        vertical-align: middle;\n    }\n\n    .dataframe tbody tr th {\n        vertical-align: top;\n    }\n\n    .dataframe thead th {\n        text-align: right;\n    }\n</style>\n<table border=\"1\" class=\"dataframe\">\n  <thead>\n    <tr style=\"text-align: right;\">\n      <th></th>\n      <th>CO(GT)</th>\n      <th>PT08.S1(CO)</th>\n      <th>C6H6(GT)</th>\n      <th>PT08.S2(NMHC)</th>\n      <th>NOx(GT)</th>\n      <th>PT08.S3(NOx)</th>\n      <th>NO2(GT)</th>\n      <th>PT08.S4(NO2)</th>\n      <th>PT08.S5(O3)</th>\n      <th>T</th>\n      <th>RH</th>\n      <th>AH</th>\n    </tr>\n  </thead>\n  <tbody>\n    <tr>\n      <th>0</th>\n      <td>2.6</td>\n      <td>1360.00</td>\n      <td>11.881723</td>\n      <td>1045.50</td>\n      <td>166.0</td>\n      <td>1056.25</td>\n      <td>113.0</td>\n      <td>1692.00</td>\n      <td>1267.50</td>\n      <td>13.600</td>\n      <td>48.875001</td>\n      <td>0.757754</td>\n    </tr>\n    <tr>\n      <th>1</th>\n      <td>2.0</td>\n      <td>1292.25</td>\n      <td>9.397165</td>\n      <td>954.75</td>\n      <td>103.0</td>\n      <td>1173.75</td>\n      <td>92.0</td>\n      <td>1558.75</td>\n      <td>972.25</td>\n      <td>13.300</td>\n      <td>47.700000</td>\n      <td>0.725487</td>\n    </tr>\n    <tr>\n      <th>2</th>\n      <td>2.2</td>\n      <td>1402.00</td>\n      <td>8.997817</td>\n      <td>939.25</td>\n      <td>131.0</td>\n      <td>1140.00</td>\n      <td>114.0</td>\n      <td>1554.50</td>\n      <td>1074.00</td>\n      <td>11.900</td>\n      <td>53.975000</td>\n      <td>0.750239</td>\n    </tr>\n    <tr>\n      <th>3</th>\n      <td>2.2</td>\n      <td>1375.50</td>\n      <td>9.228796</td>\n      <td>948.25</td>\n      <td>172.0</td>\n      <td>1092.00</td>\n      <td>122.0</td>\n      <td>1583.75</td>\n      <td>1203.25</td>\n      <td>11.000</td>\n      <td>60.000000</td>\n      <td>0.786713</td>\n    </tr>\n    <tr>\n      <th>4</th>\n      <td>1.6</td>\n      <td>1272.25</td>\n      <td>6.518224</td>\n      <td>835.50</td>\n      <td>131.0</td>\n      <td>1205.00</td>\n      <td>116.0</td>\n      <td>1490.00</td>\n      <td>1110.00</td>\n      <td>11.150</td>\n      <td>59.575001</td>\n      <td>0.788794</td>\n    </tr>\n    <tr>\n      <th>...</th>\n      <td>...</td>\n      <td>...</td>\n      <td>...</td>\n      <td>...</td>\n      <td>...</td>\n      <td>...</td>\n      <td>...</td>\n      <td>...</td>\n      <td>...</td>\n      <td>...</td>\n      <td>...</td>\n      <td>...</td>\n    </tr>\n    <tr>\n      <th>9352</th>\n      <td>3.1</td>\n      <td>1314.25</td>\n      <td>13.529605</td>\n      <td>1101.25</td>\n      <td>471.7</td>\n      <td>538.50</td>\n      <td>189.8</td>\n      <td>1374.25</td>\n      <td>1728.50</td>\n      <td>21.850</td>\n      <td>29.250000</td>\n      <td>0.756824</td>\n    </tr>\n    <tr>\n      <th>9353</th>\n      <td>2.4</td>\n      <td>1162.50</td>\n      <td>11.355157</td>\n      <td>1027.00</td>\n      <td>353.3</td>\n      <td>603.75</td>\n      <td>179.2</td>\n      <td>1263.50</td>\n      <td>1269.00</td>\n      <td>24.325</td>\n      <td>23.725000</td>\n      <td>0.711864</td>\n    </tr>\n    <tr>\n      <th>9354</th>\n      <td>2.4</td>\n      <td>1142.00</td>\n      <td>12.374538</td>\n      <td>1062.50</td>\n      <td>293.0</td>\n      <td>603.25</td>\n      <td>174.7</td>\n      <td>1240.75</td>\n      <td>1092.00</td>\n      <td>26.900</td>\n      <td>18.350000</td>\n      <td>0.640649</td>\n    </tr>\n    <tr>\n      <th>9355</th>\n      <td>2.1</td>\n      <td>1002.50</td>\n      <td>9.547187</td>\n      <td>960.50</td>\n      <td>234.5</td>\n      <td>701.50</td>\n      <td>155.7</td>\n      <td>1041.00</td>\n      <td>769.75</td>\n      <td>28.325</td>\n      <td>13.550000</td>\n      <td>0.513866</td>\n    </tr>\n    <tr>\n      <th>9356</th>\n      <td>2.2</td>\n      <td>1070.75</td>\n      <td>11.932060</td>\n      <td>1047.25</td>\n      <td>265.2</td>\n      <td>654.00</td>\n      <td>167.7</td>\n      <td>1128.50</td>\n      <td>816.00</td>\n      <td>28.500</td>\n      <td>13.125000</td>\n      <td>0.502804</td>\n    </tr>\n  </tbody>\n</table>\n<p>9357 rows × 12 columns</p>\n</div>"
     },
     "execution_count": 96,
     "metadata": {},
     "output_type": "execute_result"
    }
   ],
   "source": [
    "raw_df.drop(['NMHC(GT)'], axis=1, inplace=True)  # 删掉只有914个数据的 'NMHC(GT)' 列\n",
    "raw_df"
   ],
   "metadata": {
    "collapsed": false,
    "pycharm": {
     "name": "#%%\n"
    }
   }
  },
  {
   "cell_type": "code",
   "execution_count": 97,
   "outputs": [
    {
     "name": "stdout",
     "output_type": "stream",
     "text": [
      "<class 'pandas.core.frame.DataFrame'>\n",
      "Int64Index: 9357 entries, 0 to 9356\n",
      "Data columns (total 12 columns):\n",
      " #   Column         Non-Null Count  Dtype  \n",
      "---  ------         --------------  -----  \n",
      " 0   CO(GT)         7674 non-null   float64\n",
      " 1   PT08.S1(CO)    8991 non-null   float64\n",
      " 2   C6H6(GT)       8991 non-null   float64\n",
      " 3   PT08.S2(NMHC)  8991 non-null   float64\n",
      " 4   NOx(GT)        7718 non-null   float64\n",
      " 5   PT08.S3(NOx)   8991 non-null   float64\n",
      " 6   NO2(GT)        7715 non-null   float64\n",
      " 7   PT08.S4(NO2)   8991 non-null   float64\n",
      " 8   PT08.S5(O3)    8991 non-null   float64\n",
      " 9   T              8991 non-null   float64\n",
      " 10  RH             8991 non-null   float64\n",
      " 11  AH             8991 non-null   float64\n",
      "dtypes: float64(12)\n",
      "memory usage: 950.3 KB\n"
     ]
    }
   ],
   "source": [
    "raw_df.info()"
   ],
   "metadata": {
    "collapsed": false,
    "pycharm": {
     "name": "#%%\n"
    }
   }
  },
  {
   "cell_type": "code",
   "execution_count": 98,
   "outputs": [
    {
     "name": "stdout",
     "output_type": "stream",
     "text": [
      "<class 'pandas.core.frame.DataFrame'>\n",
      "Int64Index: 9357 entries, 0 to 9356\n",
      "Data columns (total 12 columns):\n",
      " #   Column         Non-Null Count  Dtype  \n",
      "---  ------         --------------  -----  \n",
      " 0   CO(GT)         9357 non-null   float64\n",
      " 1   PT08.S1(CO)    9357 non-null   float64\n",
      " 2   C6H6(GT)       9357 non-null   float64\n",
      " 3   PT08.S2(NMHC)  9357 non-null   float64\n",
      " 4   NOx(GT)        9357 non-null   float64\n",
      " 5   PT08.S3(NOx)   9357 non-null   float64\n",
      " 6   NO2(GT)        9357 non-null   float64\n",
      " 7   PT08.S4(NO2)   9357 non-null   float64\n",
      " 8   PT08.S5(O3)    9357 non-null   float64\n",
      " 9   T              9357 non-null   float64\n",
      " 10  RH             9357 non-null   float64\n",
      " 11  AH             9357 non-null   float64\n",
      "dtypes: float64(12)\n",
      "memory usage: 950.3 KB\n"
     ]
    }
   ],
   "source": [
    "raw_df = raw_df.fillna(method='ffill')  # 向上填补缺失值\n",
    "raw_df.info()"
   ],
   "metadata": {
    "collapsed": false,
    "pycharm": {
     "name": "#%%\n"
    }
   }
  },
  {
   "cell_type": "code",
   "execution_count": 99,
   "outputs": [
    {
     "data": {
      "text/plain": "array([[2.60000000e+00, 1.36000000e+03, 1.18817235e+01, ...,\n        1.35999999e+01, 4.88750010e+01, 7.57753825e-01],\n       [2.00000000e+00, 1.29225000e+03, 9.39716489e+00, ...,\n        1.33000000e+01, 4.76999998e+01, 7.25487449e-01],\n       [2.20000000e+00, 1.40200000e+03, 8.99781687e+00, ...,\n        1.19000001e+01, 5.39750004e+01, 7.50239067e-01],\n       ...,\n       [2.40000000e+00, 1.14200000e+03, 1.23745384e+01, ...,\n        2.68999996e+01, 1.83499997e+01, 6.40648773e-01],\n       [2.10000000e+00, 1.00250000e+03, 9.54718667e+00, ...,\n        2.83249998e+01, 1.35500000e+01, 5.13865916e-01],\n       [2.20000000e+00, 1.07075000e+03, 1.19320599e+01, ...,\n        2.85000005e+01, 1.31250000e+01, 5.02803706e-01]])"
     },
     "execution_count": 99,
     "metadata": {},
     "output_type": "execute_result"
    }
   ],
   "source": [
    "df = raw_df.values\n",
    "df"
   ],
   "metadata": {
    "collapsed": false,
    "pycharm": {
     "name": "#%%\n"
    }
   }
  },
  {
   "cell_type": "code",
   "execution_count": 100,
   "outputs": [
    {
     "data": {
      "text/plain": "(9357, 12)"
     },
     "execution_count": 100,
     "metadata": {},
     "output_type": "execute_result"
    }
   ],
   "source": [
    "df.shape"
   ],
   "metadata": {
    "collapsed": false,
    "pycharm": {
     "name": "#%%\n"
    }
   }
  }
 ],
 "metadata": {
  "kernelspec": {
   "display_name": "Python 3",
   "language": "python",
   "name": "python3"
  },
  "language_info": {
   "codemirror_mode": {
    "name": "ipython",
    "version": 2
   },
   "file_extension": ".py",
   "mimetype": "text/x-python",
   "name": "python",
   "nbconvert_exporter": "python",
   "pygments_lexer": "ipython2",
   "version": "2.7.6"
  }
 },
 "nbformat": 4,
 "nbformat_minor": 0
}